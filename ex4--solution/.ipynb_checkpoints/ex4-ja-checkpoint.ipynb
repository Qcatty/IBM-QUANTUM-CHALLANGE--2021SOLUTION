{
 "cells": [
  {
   "cell_type": "markdown",
   "metadata": {},
   "source": [
    "# 演習4 - トランズモン型量子ビット\n",
    "\n",
    "## 歴史的背景\n",
    "\n",
    "量子コンピューターでは、量子情報の基本単位として「量子ビット」が用いられます。量子ビットは、本質的には2準位系の量子力学的なシステムであり、電子のスピン（スピン量子ビット）、イオンの原子準位（イオントラップ量子ビット）などの自然界の系や、超伝導回路による人工的な量子系（超伝導量子ビット）など、多くの物理システムに実装することができます。\n",
    "\n",
    "最初につくられた超伝導量子ビットは、ジョセフソン接合によって鉛に弱く結合された超伝導体に、厳密に定義されたクーパー対（超伝導体内の束縛電子）を配置したものでした。このクーパーペアボックス型量子ビットでは、$|0\\rangle$の状態と$|1\\rangle$の状態の間のエネルギー差は、システム内または周辺の自由電子や静電気の影響を敏感に受けます。そして、この電荷ノイズに敏感に反応して、量子ビットの位相緩和が起こります。クーパーペアボックス型量子ビットの位相緩和時間（$T_2$）は、通常、～1$\\mu s$程度です。\n",
    "\n",
    "2007年初めて提案されたトランズモン型量子ビットにおける重要な発見は、このエネルギーの電圧依存性（分散と呼ばれる）が周期的であることでした。分路コンデンサーを導入すると、ジョセフソン・エネルギーと充電エネルギーの比$E_J/E_c$が50程度と非常に大きくなり、平坦な電荷分散が得られるようになります。クーパー対は電荷ノイズ（図1aのx軸上の不確かさ）に非常に敏感ですが、トランズモン型量子ビットではほとんどが抑制されています（図1d）。また、トランズモン量子ビットの位相緩和時間（$T_2$）は大幅に改善されているのがわかります。IBMの量子システムにおいては、$T_2$は通常～100 $\\mu s$です。[`ibmq_santiago`](https://quantum-computing.ibm.com/services?skip=0&systems=all&system=ibmq_santiago)の例を参照してください。\n",
    "\n",
    "<img src=\"resources/transmon-charge-dispersion.png\" alt=\"Transmon charge dispersion\" style=\"width:50%\">\n",
    "\n",
    "この演習では、実際のIBM量子システムを用いて分光を行い、トランズモン型量子ビットのエネルギー特性を調べます。ジョセフソン・エネルギーと充電エネルギーの比$E_J/E_c$は、その前身であるクーパー対型量子ビットの充電ノイズ問題を解決する鍵となります。\n",
    "\n",
    "### 参考文献\n",
    "\n",
    "1. Nakamura, Yasunobu, Yu A. Pashkin, and Jaw Shen Tsai. \"Coherent control of macroscopic quantum states in a single-Cooper-pair box.\" Nature 398.6730 (1999): 786-788.\n",
    "2. Koch, Jens, et al. \"Charge-insensitive qubit design derived from the Cooper pair box.\" Physical Review A 76.4 (2007): 042319."
   ]
  },
  {
   "cell_type": "markdown",
   "metadata": {},
   "source": [
    "## トランズモン型量子ビットのエネルギーレベルとエネルギー特性\n",
    "\n",
    "量子調和振動子（QHO）のハミルトニアンは、線形LC回路のハミルトニアンを量子化することで得られます。そのエネルギー準位は等間隔です（図2c）。しかし、ジョセフソン接合という非線形回路素子を導入すると、トランズモン型量子ビットのエネルギー準位が変化して（図2d）、そのエネルギー準位はもはや等間隔でなくなります。高エネルギーのエネルギー準位の間隔は、低エネルギーのものよりも小さくなっています。非調和性$\\delta$は、$|1\\rangle \\rightarrow |2\\rangle$ と$|0\\rangle \\rightarrow |1\\rangle$の間のエネルギー差 $\\delta = \\hbar \\omega_{12} - \\hbar \\omega_{01}$または$\\omega_{12} - \\omega_{01}$として定義されます。（ここでは、 $\\hbar \\equiv 1$とします）。マイクロ波の周波数を$\\omega_{01}$に調整することで、多準位のトランズモンを2準位系、つまり量子ビットとして効果的に扱うことができるのです。\n",
    "\n",
    "<figure>\n",
    "    <img src=\"resources/transmon-energy-levels.png\" alt=\"Transmon energy levels\" style=\"width:50%\">\n",
    "    <center><figcaption><b>Fig. 2</b> Energy potential for a quantum harmonic oscillator and a trasmon qubit. (from Ref [3])</figcaption></center>\n",
    "</figure>\n",
    "\n",
    "超電導体では、電子は$2e$の有効電荷を持つクーパー対を形成します。充電エネルギー$E_c$は、量子ビットに1つのクーパー対を加えるためのエネルギーコストであり、超電導回路の静電容量と関係があります。ジョセフソン・エネルギー$E_J$は、ジョセフソン接合をトンネルするクーパー対のエネルギーであり、トランズモン型量子ビットでは、誘導エネルギーはすべてジョセフソン接合によって提供されますが、これは他の種類の超伝導量子ビットには当てはまりません。（超伝導量子ビットの設計と解析に関する詳細はは、最近リリースされました[Qiskit Metal](https://qiskit.org/metal/)を参照ください）\n",
    "\n",
    "Duffing(ダフィング)振動子のハミルトニアンをクーパーペアボックスのハミルトニアンから導き出すことで、これらのエネルギーは関連するトランズモンの周波数に次のように関連づけることができます。\n",
    "\n",
    "$$\n",
    "f_{01} = \\sqrt{8 E_c E_J} - E_c \\qquad E_c = -\\delta = f_{01} - f_{12},\n",
    "$$\n",
    "\n",
    "このノートでは、周波数を表す記号として、マイクロ波に使われることが多い$f$を$\\omega$に置き代えて使用します。非調和性は、すべて充電エネルギー$E_c$によってもたらされます。物理的には、結合部分に大きな*分路*（並列）コンデンサーとして組み込まれています。これにより、電荷ノイズの影響を抑えつつ、トランズモンのエネルギー準位を十分に分離することができます。"
   ]
  },
  {
   "cell_type": "markdown",
   "metadata": {},
   "source": [
    "## Qiskit Pulse の概要\n",
    "\n",
    "これまでは、抽象的な量子回路レベルで量子ビットを扱ってきました。回路内の量子ゲートは、物理的にはマイクロ波パルスとして実装されています。Qiskit Pulseは、IBM量子システムに送信されるマイクロ波パルスを操作するパルスレベルのアクセスを提供します。\n",
    "\n",
    "簡単な概要説明として、Qiskit Pulseのスケジュール（実験）は、Channel（例：ドライブチャネル）に作用するInstruction（例：Play）で構成されています。ここでは、利用可能な命令とチャンネルの概要を示します。\n",
    "\n",
    "![image](resources/pulse-instr.png)\n",
    "\n",
    "詳しくは、実際の量子ハードウェアとチャネルの相互作用をまとめた表をご覧ください。\n",
    "\n",
    "![image](resources/pulse-user-device-layers.png)\n",
    "\n",
    "Qiskit Pulseについては、[Qiskit documentation](https://qiskit.org/documentation/apidoc/pulse.html)で詳しく説明されていますが、私たちは解説を交えたPulseプログラミングから始める方がより理解の習得が進むと考えています。そこで、以下では、パルス、スケジュールを作成し、実際の量子システムで実験を行う方法を学びます。"
   ]
  },
  {
   "cell_type": "markdown",
   "metadata": {},
   "source": [
    "## さあ始めよう!\n",
    "\n",
    "<div class=\"alert alert-block alert-success\">\n",
    "\n",
    "**目標**\n",
    "    \n",
    "$|1\\rangle \\rightarrow |2\\rangle$ 遷移周波数$f_{12}$を見つける\n",
    "    \n",
    "**計画**\n",
    "    \n",
    "1. **(チュートリアル)** 分光法（周波数スイープ）による$|0\\rangle \\rightarrow |1\\rangle$ 遷移周波数$f_{01}$を見つけましょう。\n",
    "1. **(チュートリアル)** ラビ振動（振幅スイープ）による X-180 パルスの振幅キャリブレーション\n",
    "1. **(問題)** キャリブレートした X-180 パルスと分光法（周波数スイープ）による$|1\\rangle \\rightarrow |2\\rangle$ 遷移周波数$f_{12}$を見つけましょう。\n",
    "    \n",
    "</div>\n",
    "\n",
    "<div class=\"alert alert-block alert-danger\">\n",
    "\n",
    "**このノートブックで編集が必要なのは <a href=\"#problem\">問題の１つのセルだけ</a> です。** あるいは、より良いフィッティングを得るために <a href=\"#fit-f12\">フィッティングパラメータを変更</a> する必要があるかもしれませんが、それ以外のためにセルを編集する必要はありません。しかしながら、`shift+Enter` を押してセルを実行する必要はあります。 \n",
    "\n",
    "</div>\n",
    "\n",
    "Qiskit Pulse の重要な点に集中するために、後続のセルは `helper` モジュールを使います。詳細はQiskit Textbook [Investigating Quantum Hardware Using Microwave Pulses\n",
    "](https://qiskit.org/textbook/ch-quantum-hardware/index-pulses.html) 及び [Qiskit Global Summer School](https://qiskit.org/learn/intro-qc-qh/) の Lectures 16-21, Labs 6-7を参照してください。"
   ]
  },
  {
   "cell_type": "code",
   "execution_count": null,
   "metadata": {},
   "outputs": [],
   "source": [
    "# Import helper module from local folder\n",
    "import sys\n",
    "import os\n",
    "sys.path.append(os.getcwd()) \n",
    "from resources import helper\n",
    "\n",
    "# Numerical and plotting tools\n",
    "import numpy as np\n",
    "import matplotlib.pyplot as plt\n",
    "\n",
    "# Import SI unit conversion factors\n",
    "from resources.helper import GHz, MHz, kHz, us, ns"
   ]
  },
  {
   "cell_type": "markdown",
   "metadata": {},
   "source": [
    "<div class=\"alert alert-block alert-danger\">\n",
    " \n",
    "**スペシャルプロバイダー**\n",
    "    \n",
    "今回のチャレンジのために新しい量子システム `ibmq_jakarta` をリザーブしました。参加者はチャレンジ期間中（2021/05/20-26）スペシャル[プロバイダー](https://quantum-computing.ibm.com/composer/docs/iqx/manage/provider/#providers)への独占的なアクセスを手に入れます。スペシャルプロバイダーにアサインされるには**５つのチャレンジのうち最低１つを完了**する必要があります。そうすればあなたの IBM Quantumアカウントに`You have been added to a new project in IBM Quantum` というメールが送られます。\n",
    "    \n",
    "すべてが正常に動作していれば、[アカウントの詳細ページ](https://quantum-computing.ibm.com/account)に特別なプロバイダーの情報が表示されるはずです。\n",
    "    \n",
    "IBM Quantum アカウントは、IBMid と関連付けられている必要があります。そうでない場合は、`Login with some authorized required.`というエラーが発生します。IBM Quantumアカウントに関連付けられている同じ電子メールアドレスを使用して[新しいIBMidを登録](https://auth.quantum-computing.ibm.com/auth/idaas)し、[IBM Quantum](https://quantum-computing.ibm.com)に再度ログインしてください。\n",
    "    \n",
    "**注意: エクササイズの完了からアサインされるまで１２時間かかることがあります。** なにか問題があれば、Qiskit Slack ワークスペースの [#iqc2021](https://qiskit.slack.com/archives/C021UTFN9GE) にお問い合わせください。まだ参加していない方は、Qiskit Slackのワークスペース[こちら](https://ibm.co/joinqiskitslack)に参加してください。\n",
    "    \n",
    "</div>\n",
    "\n",
    "スペシャルプロバイダーにアサインされていることをチェックするために、次のセルを実行してください。スペシャルプロバイダーに追加されていれば、以下のようなメッセージが出力されます。`<AccountProvider for IBMQ(hub='iqc2021-n', group='challenge-m', project='ex4')>`。 `n`は`1`から`10` までの数、`m`は`1`から`1000`までの数です。この番号は `ibmq_jarkarta` への接続に必要になります。"
   ]
  },
  {
   "cell_type": "code",
   "execution_count": null,
   "metadata": {},
   "outputs": [],
   "source": [
    "# Importing standard Qiskit libraries\n",
    "from qiskit import IBMQ\n",
    "from qiskit.tools.jupyter import *\n",
    "\n",
    "# Loading your IBM Quantum account\n",
    "IBMQ.load_account()\n",
    "IBMQ.providers() # see a list of providers you have access to"
   ]
  },
  {
   "cell_type": "code",
   "execution_count": null,
   "metadata": {},
   "outputs": [],
   "source": [
    "# get the special provider assigned to you using information from the output above\n",
    "hub_name = 'YOUR_HUB_NAME' # e.g. 'iqc2021-1'\n",
    "group_name = 'YOUR_GROUP_NAME' # e.g. 'challenge-1'\n",
    "project_name = 'ex4' # your project name should be 'ex4'\n",
    "provider = IBMQ.get_provider(hub=hub_name, group=group_name, project=project_name)\n",
    "\n",
    "# get `ibmq_jakarta` backend from the provider\n",
    "backend_name = 'ibmq_jakarta'\n",
    "backend = provider.get_backend(backend_name)\n",
    "backend # see details of the `ibmq_jakarta` quantum system"
   ]
  },
  {
   "cell_type": "markdown",
   "metadata": {},
   "source": [
    "### チャネルをインスタンス化し、測定スケジュールを得る\n",
    "\n",
    "我々は以後、異なるドライブスケジュールに対して同じ測定スケジュールを使います。どのバックエンドについても、個別に較正(calibrate)する代わりにデフォルトの測定パルスを使うことができます。"
   ]
  },
  {
   "cell_type": "code",
   "execution_count": null,
   "metadata": {},
   "outputs": [],
   "source": [
    "from qiskit import pulse\n",
    "from qiskit.pulse import Play, Schedule, DriveChannel\n",
    "\n",
    "# please use qubit 0 throughout the notebook\n",
    "qubit = 0"
   ]
  },
  {
   "cell_type": "markdown",
   "metadata": {},
   "source": [
    "次に、バックエンドコンフィグレーションとサンプリング時間 $dt$ をセーブします。プロットのために、`AcquireChannel` を除外します。"
   ]
  },
  {
   "cell_type": "code",
   "execution_count": null,
   "metadata": {},
   "outputs": [],
   "source": [
    "backend_config = backend.configuration()\n",
    "exc_chans = helper.get_exc_chans(globals())\n",
    "dt = backend_config.dt\n",
    "print(f\"Sampling time: {dt*1e9} ns\") "
   ]
  },
  {
   "cell_type": "markdown",
   "metadata": {},
   "source": [
    "`instruction_schedule_map` はバックエンドで使われるデフォルトのキャリブレート済みパルスのパラメータを与えます。この \"ネイティブゲートセット\" は、あなたが\n",
    "[`QuantumCircuit`](https://qiskit.org/documentation/apidoc/circuit.html#gates-and-instructions) で使えるオペレーターのサブセットで構成されており、Qiskit が `QuantumCircuit` をトランスパイルする先のものであることがわかります。 "
   ]
  },
  {
   "cell_type": "code",
   "execution_count": null,
   "metadata": {},
   "outputs": [],
   "source": [
    "backend_defaults = backend.defaults()\n",
    "center_frequency = backend_defaults.qubit_freq_est\n",
    "inst_sched_map = backend_defaults.instruction_schedule_map \n",
    "inst_sched_map.instructions"
   ]
  },
  {
   "cell_type": "markdown",
   "metadata": {},
   "source": [
    "インストラクションはバックエンドのネイティブゲートセットで構成されます: 単一量子ビットゲート, $X$のルート`sx`, パラメータ化された $Z$-軸回転 `rz(θ)`,　そして二量子ビット 制御-NOT `cx`。その他にもいつくかゲートがリストされています。特にオイラー角に基づく [\"U-gates\"](https://qiskit.org/textbook/ch-states/single-qubit-gates.html#generalU3) は deprecated のため、もうすぐ使えなくなります。\n",
    "\n",
    "Basis Gate | Operation\n",
    " --- | ---\n",
    " `u1(λ)` | `rz(λ)`\n",
    " `u2(φ,λ)` | `rz(φ+π/2) sx rz(λ-π/2)`\n",
    " `u3(θ,φ,λ)` | `rz(φ+π) sx rz(θ+π) sx rz(λ)`\n",
    " `id` | identity\n",
    " `x` | $X$ for echoes in dynamical decoupling\n",
    " `measure` | measurement\n",
    "\n",
    "一つ注意が必要なのは、それぞれの `sx` は１つの物理パルスで構成されますが、`rz` は [frame changes](https://arxiv.org/abs/1612.00858) によるソフトウェアで実装されることです。\n",
    "`instruction_schedule_map` からはスクラッチすることなく、デフォルトの計測パルスを得ることができます。これはキャリブレート済みのパルスから始めることにも使えます。"
   ]
  },
  {
   "cell_type": "code",
   "execution_count": null,
   "metadata": {},
   "outputs": [],
   "source": [
    "# retrieve calibrated measurement pulse from backend\n",
    "meas = inst_sched_map.get('measure', qubits=[qubit])\n",
    "meas.exclude(channels=exc_chans).draw(time_range=[0,1000])"
   ]
  },
  {
   "cell_type": "markdown",
   "metadata": {},
   "source": [
    "<div class=\"alert alert-block alert-success\">\n",
    "\n",
    "### ステップ１(チュートリアル): $|0\\rangle \\rightarrow |1\\rangle$ 遷移検索\n",
    "    \n",
    "このセクションのコードは変更する必要がありません。セルを実行してステップを理解してください。`spec01_scheds` の作り方には特に注意してください。同じようなパルススケジュールを<a href=\"#problem\">最終問題</a>で作る必要があります。パルススケジュールの作り方についてより詳細は[ドキュメント](https://qiskit.org/documentation/tutorials/circuits_advanced/06_building_pulse_schedules.html)を参照してください。\n",
    "    \n",
    "</div>"
   ]
  },
  {
   "cell_type": "code",
   "execution_count": null,
   "metadata": {},
   "outputs": [],
   "source": [
    "from qiskit.pulse import DriveChannel, Gaussian\n",
    "\n",
    "# The same spec pulse for both 01 and 12 spec\n",
    "drive_amp = 0.25\n",
    "drive_duration = inst_sched_map.get('x', qubits=[qubit]).duration\n",
    "\n",
    "# Calibrated backend pulse use advanced DRAG pulse to reduce leakage to the |2> state.\n",
    "# Here we will use simple Gaussian pulse\n",
    "\n",
    "drive_sigma = drive_duration // 4 # DRAG pulses typically 4*sigma long. \n",
    "spec_pulse = Gaussian(duration=drive_duration, amp=drive_amp, \n",
    "                        sigma=drive_sigma, name=f\"Spec drive amplitude = {drive_amp}\")\n",
    "\n",
    "# Construct an np array of the frequencies for our experiment\n",
    "spec_freqs_GHz = helper.get_spec01_freqs(center_frequency, qubit)\n",
    "\n",
    "# Create the base schedule\n",
    "# Start with drive pulse acting on the drive channel\n",
    "spec01_scheds = []\n",
    "for freq in spec_freqs_GHz:\n",
    "    with pulse.build(name=\"Spec Pulse at %.3f GHz\" % freq) as spec01_sched:\n",
    "        with pulse.align_sequential():\n",
    "            # Pay close attention to this part to solve the problem at the end\n",
    "            pulse.set_frequency(freq*GHz, DriveChannel(qubit))\n",
    "            pulse.play(spec_pulse, DriveChannel(qubit))\n",
    "            pulse.call(meas)\n",
    "            \n",
    "    spec01_scheds.append(spec01_sched)\n",
    "\n",
    "# Draw spec01 schedule\n",
    "spec01_scheds[-1].exclude(channels=exc_chans).draw(time_range=[0,1000])"
   ]
  },
  {
   "cell_type": "code",
   "execution_count": null,
   "metadata": {},
   "outputs": [],
   "source": [
    "from qiskit.tools.monitor import job_monitor\n",
    "\n",
    "# Run the job on a real backend\n",
    "spec01_job = backend.run(spec01_scheds, job_name=\"Spec 01\", **helper.job_params) \n",
    "\n",
    "print(spec01_job.job_id())\n",
    "job_monitor(spec01_job)\n",
    "\n",
    "# If the queuing time is too long, you can save the job id \n",
    "# And retrieve the job after it's done\n",
    "# Replace 'JOB_ID' with the the your job id and uncomment to line below\n",
    "#spec01_job = backend.retrieve_job('JOB_ID')"
   ]
  },
  {
   "cell_type": "markdown",
   "metadata": {},
   "source": [
    "### 分光データのフィッティング\n",
    "\n",
    " \n",
    "\n",
    "\n",
    "\n",
    "量子ビット周波数 $f_{01}$ を見つけるため、分光信号を *ローレンツ* 関数にフィットします\n",
    "\n",
    "$$ \\frac{AB}{\\pi[(f-f_{01})^2 + B^2]} + C $$\n",
    "\n",
    "以下はフィッティングパラメーターです:\n",
    "\n",
    "\n",
    "Parameter | Correponds to\n",
    " --- | ---\n",
    " $A$ | amplitude\n",
    " $f_{01}$ | 01 frequency guess (GHz)\n",
    " $B$ | scale\n",
    " $C$ | offset\n",
    "\n",
    "`helper` モジュールから `SpecFitter` を使います。これは `qiskit.ignis.characterization.fitters` ライブラリのフィッターをベースにしています。\n",
    " \n",
    "<div class=\"alert alert-block alert-danger\">\n",
    "\n",
    "**注意:** より良いフィッティングのためには、フィッティングパラメーターを調整する必要があります。\n",
    "\n",
    "</div>"
   ]
  },
  {
   "cell_type": "code",
   "execution_count": null,
   "metadata": {},
   "outputs": [],
   "source": [
    "from resources.helper import SpecFitter\n",
    "\n",
    "amp_guess = 5e6\n",
    "f01_guess = 5\n",
    "B = 1\n",
    "C = 0\n",
    "fit_guess = [amp_guess, f01_guess, B, C]\n",
    "\n",
    "fit = SpecFitter(spec01_job.result(), spec_freqs_GHz, qubits=[qubit], fit_p0=fit_guess)\n",
    "fit.plot(0, series='z')\n",
    "f01 = fit.spec_freq(0, series='z')\n",
    "print(\"Spec01 frequency is %.6f GHz\" % f01)"
   ]
  },
  {
   "cell_type": "markdown",
   "metadata": {},
   "source": [
    "バックエンドのキャリブレート済み量子ビット周波数とあなたの結果を比較してみましょう！うまくいけば、近い値 ($\\pm$1 MHz) が得られます。"
   ]
  },
  {
   "cell_type": "code",
   "execution_count": null,
   "metadata": {},
   "outputs": [],
   "source": [
    "# Retrieve qubit frequency from backend properties\n",
    "f01_calibrated = backend.properties().frequency(qubit) / GHz \n",
    "f01_error = abs(f01-f01_calibrated) * 1000 # error in MHz\n",
    "print(\"Qubit frequency error is %.6f MHz\" % f01_error) "
   ]
  },
  {
   "cell_type": "markdown",
   "metadata": {},
   "source": [
    "🎉 おめでとうございます！あなたは実機上の最初のパルスの実験に成功しデータ解析をしました。これは Qiskit Pulse と `ibmq_armonk` 　を[２年弱前に発表](https://www.ibm.com/blogs/research/2019/12/qiskit-openpulse/) する前は不可能でした。今あなたは量子物理学の実験を家から実施しています。信じられないことです！"
   ]
  },
  {
   "cell_type": "markdown",
   "metadata": {},
   "source": [
    "<div class=\"alert alert-block alert-success\">\n",
    "\n",
    "### ステップ２(チュートリアル): ラビ振動による X-180 パルス振幅のキャリブレーション\n",
    "\n",
    "このセクションのコードは変更する必要がありません。セルを実行してステップを理解してください。 \n",
    "</div>\n",
    "\n",
    "### 測定した周波数からラビ・スケジュールを作る"
   ]
  },
  {
   "cell_type": "code",
   "execution_count": null,
   "metadata": {},
   "outputs": [],
   "source": [
    "max_rabi_amp = 0.75\n",
    "rabi_amps = helper.get_rabi_amps(max_rabi_amp)\n",
    "\n",
    "rabi_scheds = []\n",
    "for ridx, amp in enumerate(rabi_amps):\n",
    "    with pulse.build(name=\"rabisched_%d_0\" % ridx) as sched: # '0' corresponds to Rabi\n",
    "        with pulse.align_sequential():\n",
    "            pulse.set_frequency(f01*GHz, DriveChannel(qubit))\n",
    "            rabi_pulse = Gaussian(duration=drive_duration, amp=amp, \\\n",
    "                              sigma=drive_sigma, name=f\"Rabi drive amplitude = {amp}\")\n",
    "            pulse.play(rabi_pulse, DriveChannel(qubit))\n",
    "            pulse.call(meas)\n",
    "    rabi_scheds.append(sched)\n",
    "\n",
    "# Draw rabi schedule\n",
    "rabi_scheds[-1].exclude(channels=exc_chans).draw(time_range=[0,1000])"
   ]
  },
  {
   "cell_type": "code",
   "execution_count": null,
   "metadata": {},
   "outputs": [],
   "source": [
    "# Run the job on a real device\n",
    "rabi_job = backend.run(rabi_scheds, job_name=\"Rabi\", **helper.job_params)\n",
    "\n",
    "print(rabi_job.job_id())\n",
    "job_monitor(rabi_job)\n",
    "\n",
    "# If the queuing time is too long, you can save the job id \n",
    "# And retrieve the job after it's done\n",
    "# Replace 'JOB_ID' with the the your job id and uncomment to line below\n",
    "#rabi_job = backend.retrieve_job('JOB_ID')"
   ]
  },
  {
   "cell_type": "markdown",
   "metadata": {},
   "source": [
    "### ラビ・データのフィッティング\n",
    "\n",
    "ラビ周期 $T = 2\\pi/f$ を見つけるため、ラビ信号を正弦関数にフィットします。\n",
    "\n",
    "$$ a \\cos(2\\pi f x + \\phi) + c $$\n",
    "\n",
    "以下はフィッティングパラメーターです:\n",
    "\n",
    "Parameter | Correponds to\n",
    " --- | ---\n",
    " $a$ | amplitude\n",
    " $f$ | Rabi drive frequency\n",
    " $\\phi$ | phase offset\n",
    " $c$ | offset\n",
    "\n",
    "\n",
    "`qiskit.ignis.characterization.calibration.fitters` ライブラリから `RabiFitter` を使います。\n",
    "\n",
    "<div class=\"alert alert-block alert-danger\">\n",
    "\n",
    "**注意:** より良いフィッティングのためには、フィッティングパラメーターを調整する必要があります。\n",
    "\n",
    "</div>"
   ]
  },
  {
   "cell_type": "code",
   "execution_count": null,
   "metadata": {},
   "outputs": [],
   "source": [
    "from qiskit.ignis.characterization.calibrations.fitters import RabiFitter\n",
    "\n",
    "amp_guess = 5e7\n",
    "fRabi_guess = 2\n",
    "phi_guess = 0.5\n",
    "c_guess = 0\n",
    "fit_guess = [amp_guess, fRabi_guess, phi_guess, c_guess]\n",
    "\n",
    "fit = RabiFitter(rabi_job.result(), rabi_amps, qubits=[qubit], fit_p0=fit_guess)\n",
    "fit.plot(qind=0, series='0')\n",
    "x180_amp = fit.pi_amplitude()\n",
    "print(\"Pi amplitude is %.3f\" % x180_amp)"
   ]
  },
  {
   "cell_type": "markdown",
   "metadata": {},
   "source": [
    "<div id='problem'></div>\n",
    "<div class=\"alert alert-block alert-success\">\n",
    "\n",
    "### ステップ３(問題): $|1\\rangle \\rightarrow |2\\rangle$ 遷移周波数を見つける\n",
    "    \n",
    "トランズモン量子ビットの $|1\\rangle$ と $|2\\rangle$ の間の状態遷移を観測するため、以下が必要です: \n",
    "\n",
    "1. 量子ビットを $|0\\rangle$ から $|1\\rangle$ にするため $X_\\pi$ パルスを適用する\n",
    "1. $|1\\rangle \\rightarrow |2\\rangle$ 遷移を見つけるため、周波数を変えながら第二のパルスを適用する\n",
    "\n",
    "</div>\n",
    "<div class=\"alert alert-block alert-danger\">\n",
    "下のセルがこのノートブックで唯一編集が必要なセルです。\n",
    "</div>"
   ]
  },
  {
   "cell_type": "code",
   "execution_count": null,
   "metadata": {},
   "outputs": [],
   "source": [
    "# Define pi pulse\n",
    "x_pulse = Gaussian(duration=drive_duration,\n",
    "                     amp=x180_amp, \n",
    "                     sigma=drive_sigma,\n",
    "                     name='x_pulse')\n",
    "\n",
    "def build_spec12_pulse_schedule(freq, anharm_guess_GHz):    \n",
    "    with pulse.build(name=\"Spec Pulse at %.3f GHz\" % (freq+anharm_guess_GHz)) as spec12_schedule:\n",
    "        with pulse.align_sequential():              \n",
    "            # こちらのコメント間にコードを記入ください - 開始\n",
    "            pulse.set_frequency(f01*GHz, DriveChannel(qubit))\n",
    "            pulse.play(x_pulse, DriveChannel(qubit))\n",
    "            pulse.play(spec_pulse, DriveChannel(qubit))\n",
    "            pulse.call(meas)\n",
    "            \n",
    "            \n",
    "            \n",
    "            \n",
    "            \n",
    "            \n",
    "            \n",
    "    \n",
    "            # こちらのコメント間にコードを記入ください  - 終了\n",
    "    return spec12_schedule"
   ]
  },
  {
   "cell_type": "markdown",
   "metadata": {},
   "source": [
    "我々のトランズモン量子ビットの非調和性は通常 $-300$ MHz 付近にあるため、その周りをスイープします。"
   ]
  },
  {
   "cell_type": "code",
   "execution_count": null,
   "metadata": {},
   "outputs": [],
   "source": [
    "anharmonicity_guess_GHz = -0.3 # your anharmonicity guess\n",
    "freqs_GHz = helper.get_spec12_freqs(f01, qubit)\n",
    "\n",
    "# Now vary the sideband frequency for each spec pulse\n",
    "spec12_scheds = []\n",
    "for freq in freqs_GHz:\n",
    "    spec12_scheds.append(build_spec12_pulse_schedule(freq, anharmonicity_guess_GHz))\n",
    "\n",
    "# Draw spec12 schedule   \n",
    "spec12_scheds[-1].exclude(channels=exc_chans).draw(time_range=[0,1000])"
   ]
  },
  {
   "cell_type": "code",
   "execution_count": null,
   "metadata": {},
   "outputs": [],
   "source": [
    "# Run the job on a real device\n",
    "spec12_job = backend.run(spec12_scheds, job_name=\"Spec 12\", **helper.job_params)\n",
    "\n",
    "print(spec12_job.job_id())\n",
    "job_monitor(spec12_job)\n",
    "\n",
    "# If the queuing time is too long, you can save the job id \n",
    "# And retrieve the job after it's done\n",
    "# Replace 'JOB_ID' with the the your job id and uncomment to line below\n",
    "#spec12_job = backend.retrieve_job('JOB_ID')"
   ]
  },
  {
   "cell_type": "markdown",
   "metadata": {},
   "source": [
    "### 分光データのフィッティング\n",
    "\n",
    "<div id='fit-f12'></div>\n",
    "\n",
    "$|1\\rangle \\to |2\\rangle$ 遷移 $f_{12}$ を見つけるため、再び分光信号をローレンツ関数にフィットします。\n",
    "\n",
    "$$ \\frac{AB}{\\pi[(f-f_{12})^2 + B^2]} + C $$\n",
    "\n",
    "以下はフィッティングパラメータです:\n",
    "\n",
    "Parameter | Correponds to\n",
    " --- | ---\n",
    " $A$ | amplitude\n",
    " $f_{12}$ | 12 frequency guess (GHz)\n",
    " $B$ | scale\n",
    " $C$ | offset\n",
    " \n",
    " \n",
    "<div class=\"alert alert-block alert-danger\">\n",
    "\n",
    "**注意:** より良いフィッティングのためには、フィッティングパラメーターを調整する必要があります。\n",
    "\n",
    "</div>"
   ]
  },
  {
   "cell_type": "code",
   "execution_count": null,
   "metadata": {},
   "outputs": [],
   "source": [
    "amp_guess = 2e7\n",
    "f12_guess = f01 - 0.3\n",
    "B = .1\n",
    "C = 0\n",
    "fit_guess = [amp_guess, f12_guess, B, C]\n",
    "\n",
    "fit = SpecFitter(spec12_job.result(), freqs_GHz+anharmonicity_guess_GHz, qubits=[qubit], fit_p0=fit_guess)\n",
    "fit.plot(0, series='z')\n",
    "f12 = fit.spec_freq(0, series='z')\n",
    "print(\"Spec12 frequency is %.6f GHz\" % f12)"
   ]
  },
  {
   "cell_type": "code",
   "execution_count": null,
   "metadata": {},
   "outputs": [],
   "source": [
    "# Check your answer using following code\n",
    "from qc_grader import grade_ex4\n",
    "grade_ex4(f12,qubit,backend_name)"
   ]
  },
  {
   "cell_type": "code",
   "execution_count": null,
   "metadata": {},
   "outputs": [],
   "source": [
    "# Submit your answer. You can re-submit at any time.\n",
    "from qc_grader import submit_ex4\n",
    "submit_ex4(f12,qubit,backend_name)"
   ]
  },
  {
   "cell_type": "markdown",
   "metadata": {},
   "source": [
    "## $E_J/E_c$を計算する"
   ]
  },
  {
   "cell_type": "markdown",
   "metadata": {},
   "source": [
    "導入部の式を修正し、パルス実験で得られた$f_{01}$と$f_{12}$を用いて、$E_c$と$E_J$を計算することができます。\n",
    "\n",
    "$$\n",
    "E_c = -\\delta = f_{01} - f_{12} \\qquad E_J = \\frac{(2f_{01}-f_{12})^2}{8(f_{01}-f_{12})}\n",
    "$$"
   ]
  },
  {
   "cell_type": "code",
   "execution_count": null,
   "metadata": {},
   "outputs": [],
   "source": [
    "Ec = f01 - f12\n",
    "Ej = (2*f01-f12)**2/(8*(f01-f12))\n",
    "print(f\"Ej/Ec: {Ej/Ec:.2f}\") # this value is typically ~ 30 "
   ]
  },
  {
   "cell_type": "markdown",
   "metadata": {},
   "source": [
    "## Additional information\n",
    "\n",
    "**Created by:** Nick Brønn, Junye Huang\n",
    "\n",
    "**翻訳者:** 田中健之、小林有里\n",
    "\n",
    "**Version:** 1.0.0"
   ]
  }
 ],
 "metadata": {
  "kernelspec": {
   "display_name": "Python 3",
   "language": "python",
   "name": "python3"
  },
  "language_info": {
   "codemirror_mode": {
    "name": "ipython",
    "version": 3
   },
   "file_extension": ".py",
   "mimetype": "text/x-python",
   "name": "python",
   "nbconvert_exporter": "python",
   "pygments_lexer": "ipython3",
   "version": "3.8.10"
  }
 },
 "nbformat": 4,
 "nbformat_minor": 4
}
