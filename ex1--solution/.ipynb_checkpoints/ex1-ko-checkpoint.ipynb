{
 "cells": [
  {
   "cell_type": "markdown",
   "id": "80ba7683",
   "metadata": {},
   "source": [
    "# 연습문제 1 - Toffoli gate\n",
    "\n",
    "## 역사적 배경\n",
    "\n",
    "\n",
    "40년 전, 50명의 연구자들로 자유롭게 구성된 그룹이 MIT의 Endicott House의 잔디밭에서 사진을 찍기 위해 모였습니다. 1981년에 MIT와 IBM이 공동으로 주관했던 계산 물리학 컨퍼런스에 모였던 어떤 누구도 본인들이 역사를 만들고 있다는 것을 깨닫지 못했습니다. 하지만 이 모임에서 근래 관심을 끌기 시작한 양자컴퓨팅을 포함한 계산 물리학이 태동되었으며, 교과서나 대학 과정에 적합한 심도있는 주제들이 논의되었습니다.\n",
    "\n",
    "\n",
    "파인만은 이 컨퍼런스에서 \"자연은 고전적이지 않기때문에 자연을 모사하기 위해서 양자역학적으로 구현된 것이 필요할것입니다. 이것은 매우 쉽지 않은 주제가 될것이지만 그래서 더 멋진 문제라고생각합니다\"라고 말했습니다.[1] 이달 초에, 우리는 이 중요한 컨퍼런스의 40주년을 기념했습니다. [여기](https://youtu.be/GR6ANm6Z0yk)에서 기념행사의 내용들을 확인해 보십시오.\n",
    "\n",
    "\n",
    "![](resources/conference-photo.jpeg)\n",
    "\n",
    "\n",
    "컨퍼런스에서 논의 된 주제 중 하나는 MIT의 Tommaso Toffoli와 Edward Fredkil이 지난 몇 년 동안 연구해왔던 가역 컴퓨팅이었습니다.[2-3] Toffoli는 AND / NAND 게이트의 가역 버전을 내놓았습니다(이제는 Toffoli 게이트 또는 controlled-controlled-NOT 게이트라 부름). NAND 게이트는 고전 컴퓨팅의 범용 게이트이기 때문에 Toffoli 게이트는 범용 가역 논리 게이트입니다. 양자 컴퓨팅은 가역 컴퓨팅의 특별한 형태이며 모든 가역 게이트는 양자 컴퓨터에서 구현 될 수 있고, 따라서 Toffoli 게이트 역시 양자 논리 게이트입니다. 하지만 Toffoli 게이트가 유일한 양자 컴퓨팅을 위한 범용 게이트는 아닙니다.\n",
    "\n",
    "이 연습에서는 양자 컴퓨터를 위한 Toffoli 게이트와 범용 게이트 세트들을 알아보겠습니다.\n",
    "\n",
    "### 참고자료\n",
    "1. Feynman, Richard P. \"Simulating physics with computers.\" Int. J. Theor. Phys 21.6/7 (1982).\n",
    "1. Toffoli, Tommaso. \"Reversible computing.\" International colloquium on automata, languages, and programming. Springer, Berlin, Heidelberg, 1980.\n",
    "1. Fredkin, Edward, and Tommaso Toffoli. \"Conservative logic.\" International Journal of theoretical physics 21.3 (1982): 219-253."
   ]
  },
  {
   "cell_type": "markdown",
   "id": "36da4b27",
   "metadata": {},
   "source": [
    "## 고전적 논리 게이트들\n",
    "\n",
    "\n",
    "고전적 계산에서 종종 사용되는 모델은 부울 논리 또는 고전적 논리 게이트입니다. 이러한 게이트는 이진(0 또는 1) 입력 및 출력만 있는 함수인 부울 함수를 나타냅니다. 부울 논리의 한 가지 흥미로운 점은 가능한 모든 이진 함수는 작은 숫자의 서로 다른 논리 게이트의 조합만을 사용하여 만들어 낼 수 있습니다는 것입니다. 이러한 집합을 함수적 완전 집합(Functionally complete sets)이라고 합니다. 잘 알려진 집합으로는 AND와 NOT의 집합있습니다. 이 두 개의 게이트는 가능한 모든 기능을 구현해 냅니다. OR과 NOT도 마찬가지입니다. NAND 및 NOR과 같이 하나만으로도 범용인 더 소수의 집합이 존재하지만, AND, NOT 및 OR 함수는 종종 고전적 계산의 기본 블록으로 불립니다.\n",
    "\n",
    "\n",
    "<div class=\"alert alert-block alert-success\">\n",
    "\n",
    "**목표**\n",
    "\n",
    "IBM Quantum System의 기저 게이트 조합(basis gate sets)(CX, RZ, SX와 X 게이트)를 사용해서 Toffoli 게이트를 만들어 봅시다.\n",
    "\n",
    "</div>\n",
    "\n",
    "<div class=\"alert alert-block alert-danger\">\n",
    "    \n",
    "이 연습 문제를 통해서 여러분은 양자 게이트들의 기본적인 개념과 다음의 두가지 방법을 사용해 양자 회로를 구성하는 법을 배우게 됩니다.\n",
    "1. Circuit Composer 위젯을 사용해서 시각적으로 회로를 구성하는 방법\n",
    "1. Qiskit을 사용해서 프로그램 코드를 작성하여 회로를 구성하는 방법\n",
    "\n",
    "양자 게이트와 Qiskit에 익숙하신 분들은 바로 <a href=#problem>문제</a>로 넘어가셔도 좋습니다.\n",
    "</div>"
   ]
  },
  {
   "cell_type": "code",
   "execution_count": null,
   "id": "f6d38ef2",
   "metadata": {},
   "outputs": [],
   "source": [
    "# 불필요한 경고 제거\n",
    "import warnings\n",
    "from matplotlib.cbook import MatplotlibDeprecationWarning\n",
    "warnings.filterwarnings('ignore', category=MatplotlibDeprecationWarning)\n",
    "\n",
    "# Qiskit 표준 라이브러리 불러오기\n",
    "from qiskit import QuantumCircuit, execute, Aer, IBMQ, QuantumRegister, ClassicalRegister\n",
    "from qiskit.compiler import transpile, assemble\n",
    "from qiskit.tools.jupyter import *\n",
    "from qiskit.visualization import *\n",
    "from ibm_quantum_widgets import *\n",
    "\n",
    "# pi값을 불러오기 위한 라이브러리\n",
    "import math\n",
    "pi=math.pi"
   ]
  },
  {
   "cell_type": "markdown",
   "id": "a23b954b",
   "metadata": {},
   "source": [
    "## 양자회로란 무엇일까요?\n",
    "\n",
    "양자 회로는 일련의 양자 게이트들을 양자 컴퓨팅 계산에 사용하는 모델입니다. 양자 게이트는 종종 블로흐 구체의 회전(시계 반대방향)으로 표현됩니다. 잘 알려진 양자 게이트 중 몇 가지를 살펴 보겠습니다.\n",
    "\n",
    "### X 게이트 \n",
    "\n",
    "X-게이트는 파울리-X 행렬로 표현됩니다.\n",
    "\n",
    "$X = \\begin{pmatrix}\n",
    "0 & 1 \\\\\n",
    "1 & 0 \\\\\n",
    "\\end{pmatrix}$\n",
    "\n",
    "X 게이트는 블로흐 구체에서 X축으로 $\\pi$ 라디안 만큼의 회전을 의미합니다. 이 게이트는 $|0\\rangle$을 $|1\\rangle$로, $|1\\rangle$을 $|0\\rangle$으로 만들어 줍니다. 고전 컴퓨팅의 NOT게이트의 양자 버젼이며 비트-플립이라 불리기도 합니다."
   ]
  },
  {
   "cell_type": "code",
   "execution_count": null,
   "id": "c9ccbbb4",
   "metadata": {},
   "outputs": [],
   "source": [
    "x_gate=QuantumCircuit(1) # 1큐빗 양자 회로를 생성합니다.\n",
    "x_gate.x(0)\n",
    "x_gate.draw(output='mpl')"
   ]
  },
  {
   "cell_type": "code",
   "execution_count": null,
   "id": "1c0ba948",
   "metadata": {},
   "outputs": [],
   "source": [
    "backend = Aer.get_backend('statevector_simulator')\n",
    "result = execute(x_gate, backend).result().get_statevector()\n",
    "plot_bloch_multivector(result)"
   ]
  },
  {
   "cell_type": "markdown",
   "id": "56315fa8",
   "metadata": {},
   "source": [
    "### SX 게이트\n",
    "\n",
    "\n",
    "SX게이트는 블로흐 구체에서 X축을 기준으로 $\\pi/2$ 라디안 만큼의 회전을 뜻합니다. SX게이트라는 이름은 X게이트의 제곱근(Square-root)라는 뜻입니다. 이 게이트를 두번 적용하면 표준의 파울리-X 게이트를 구현할 수 있습니다. SX 게이트의 정반대는 SX $\\dagger$(대거) 게이트로 반대방향으로 $\\pi/2$ 라디안의 회전을 구현합니다. \n",
    "\n",
    "$SX = \\frac{1}{\\sqrt{2}}\\begin{pmatrix}\n",
    "1+i & 1-i \\\\\n",
    "1-i & 1+i \\\\\n",
    "\\end{pmatrix}$"
   ]
  },
  {
   "cell_type": "code",
   "execution_count": null,
   "id": "b4a0c8a9",
   "metadata": {},
   "outputs": [],
   "source": [
    "sx_gate = QuantumCircuit(1)\n",
    "sx_gate.sx(0)  \n",
    "sx_gate.draw(output='mpl')"
   ]
  },
  {
   "cell_type": "code",
   "execution_count": null,
   "id": "56d45b47",
   "metadata": {},
   "outputs": [],
   "source": [
    "backend = Aer.get_backend('statevector_simulator')\n",
    "result = execute(sx_gate, backend).result().get_statevector()\n",
    "plot_bloch_multivector(result)"
   ]
  },
  {
   "cell_type": "markdown",
   "id": "f2f6aa3b",
   "metadata": {},
   "source": [
    "### RZ 게이트\n",
    "\n",
    "Rz 게이트는 Z축 방향으로 $\\phi$(실수) 만큼의 회전을 의미합니다. 이 게이트의 행렬 표현은 다음과 같습니다.\n",
    "\n",
    "\n",
    "$RZ = \\begin{pmatrix}\n",
    "1 & 0 \\\\\n",
    "0 & e ^{i \\phi } \\\\\n",
    "\\end{pmatrix}$"
   ]
  },
  {
   "cell_type": "code",
   "execution_count": null,
   "id": "f060fe07",
   "metadata": {},
   "outputs": [],
   "source": [
    "rz_gate = QuantumCircuit(1)\n",
    "rz_gate.rz(pi/2, 0)\n",
    "rz_gate.draw(output='mpl')"
   ]
  },
  {
   "cell_type": "code",
   "execution_count": null,
   "id": "2c3cca58",
   "metadata": {},
   "outputs": [],
   "source": [
    "backend = Aer.get_backend('statevector_simulator')\n",
    "result = execute(rz_gate, backend).result().get_statevector()\n",
    "plot_bloch_multivector(result)"
   ]
  },
  {
   "cell_type": "markdown",
   "id": "6b3ed47b",
   "metadata": {},
   "source": [
    "Z축 방향의 회전을 기본 상태인 $|0\\rangle$에 적용해도 효과는 눈으로 확인하기 어렵기 때문에 SX 게이트를 기본상태에 적용한 후 RZ 게이트를 적용하여 동작을 확인해 보도록 하겠습니다."
   ]
  },
  {
   "cell_type": "code",
   "execution_count": null,
   "id": "0290aa15",
   "metadata": {},
   "outputs": [],
   "source": [
    "rz_gate.sx(0)\n",
    "rz_gate.rz(pi/2, 0)\n",
    "rz_gate.draw(output='mpl')"
   ]
  },
  {
   "cell_type": "code",
   "execution_count": null,
   "id": "80d1018c",
   "metadata": {},
   "outputs": [],
   "source": [
    "backend = Aer.get_backend('statevector_simulator')\n",
    "result = execute(rz_gate, backend).result().get_statevector()\n",
    "plot_bloch_multivector(result)"
   ]
  },
  {
   "cell_type": "markdown",
   "id": "0920f9c4",
   "metadata": {},
   "source": [
    "### 하다마드 게이트\n",
    "\n",
    "하다마드 게이트는 X축과 Z축의 중간지점을 기준으로 $\\pi$ 만큼의 회전을 의미합니다. 이 게이트는 $|0\\rangle$의 상태를 $\\frac{|0\\rangle + |1\\rangle}{\\sqrt{2}}$로 만들어 주며 이 상태는 `1` 또는 `0`으로 측정될 확률이 동일한 '중첩'의 상태입니다. 이 상태를 $|+\\rangle$라 부르기도합니다. 하다마드 게이트는 $|0\\rangle$ $|1\\rangle$의 베이스와 $|+\\rangle$ $|-\\rangle$ 베이스 사이를 변환하는 기능을 합니다. \n",
    " \n",
    "$H = \\frac{1}{\\sqrt{2}}\\begin{pmatrix}\n",
    "1 & 1 \\\\\n",
    "1 & -1 \\\\\n",
    "\\end{pmatrix}$"
   ]
  },
  {
   "cell_type": "code",
   "execution_count": null,
   "id": "71340bcd",
   "metadata": {},
   "outputs": [],
   "source": [
    "# |0> 큐비트에 하다마드 게이트 적용\n",
    "h_gate = QuantumCircuit(1)\n",
    "h_gate.h(0)\n",
    "h_gate.draw(output='mpl')"
   ]
  },
  {
   "cell_type": "code",
   "execution_count": null,
   "id": "8c536a24",
   "metadata": {},
   "outputs": [],
   "source": [
    "# 결과 확인\n",
    "backend = Aer.get_backend('statevector_simulator')\n",
    "result = execute(h_gate, backend).result().get_statevector()\n",
    "plot_bloch_multivector(result)"
   ]
  },
  {
   "cell_type": "markdown",
   "id": "ac1929ec",
   "metadata": {},
   "source": [
    "### CX 게이트 (CNOT 게이트)\n",
    "\n",
    "제어 반전(Controlled Not, CNOT 혹은 CX) 게이트는 두 개의 큐비트를 사용해 동작합니다. 이 게이트는 첫번째 큐비트(제어 큐비트)가 $|1\\rangle$일 때, NOT 연산(X 게이트 적용과 동일)을 두 번째 큐비트(대상 큐비트)에 적용하며 그렇지 않은 경우 대상 큐비트는 바뀌지 않습니다. \n",
    "\n",
    "노트: Qiskit는 문자열의 비트에 오른쪽에서 왼쪽으로 번호를 매깁니다.\n",
    "\n",
    "\n",
    "$CX = \\begin{pmatrix}\n",
    "1 & 0 & 0 & 0  \\\\\n",
    "0 & 1 & 0 & 0 \\\\\n",
    "0 & 0 & 0 & 1 \\\\\n",
    "0 & 0 & 1 & 0 \\\\\n",
    "\\end{pmatrix}$"
   ]
  },
  {
   "cell_type": "code",
   "execution_count": null,
   "id": "e5a008c6",
   "metadata": {},
   "outputs": [],
   "source": [
    "cx_gate = QuantumCircuit(2)\n",
    "cx_gate.cx(0,1)\n",
    "cx_gate.draw(output='mpl')"
   ]
  },
  {
   "cell_type": "markdown",
   "id": "d402bbd8",
   "metadata": {},
   "source": [
    "### CCX 게이트 (Toffoli 게이트)\n",
    "\n",
    "CCX 게이트(제어 제어 X 게이트)는 토폴리 게이트라 불립니다. CCX 게이트는 3개의 큐비트를 사용하는 게이트로, 두 개의 제어 큐비트를 입력으로, 한 개의 대상 큐비트를 출력으로 갖습니다. 처음의 두 개의 비트가 모두 $|1\\rangle$ 상태일때 파울리-X(혹은 NOT)  게이트를 세 번째 비트에 적용합니다. 그 외의 상황에서는 어떤 작용도 하지 않습니다.\n",
    "\n",
    "노트: Qiskit는 문자열의 비트에 오른쪽에서 왼쪽으로 번호를 매깁니다.\n",
    "\n",
    "\n",
    "$CCX = \\begin{pmatrix}\n",
    "1 & 0 & 0 & 0 & 0 & 0 & 0 & 0 \\\\\n",
    "0 & 1 & 0 & 0 & 0 & 0 & 0 & 0 \\\\\n",
    "0 & 0 & 1 & 0 & 0 & 0 & 0 & 0 \\\\\n",
    "0 & 0 & 0 & 1 & 0 & 0 & 0 & 0 \\\\\n",
    "0 & 0 & 0 & 0 & 1 & 0 & 0 & 0 \\\\\n",
    "0 & 0 & 0 & 0 & 0 & 1 & 0 & 0 \\\\\n",
    "0 & 0 & 0 & 0 & 0 & 0 & 0 & 1 \\\\\n",
    "0 & 0 & 0 & 0 & 0 & 0 & 1 & 0 \\\\\n",
    "\\end{pmatrix}$"
   ]
  },
  {
   "cell_type": "code",
   "execution_count": null,
   "id": "8044e3bf",
   "metadata": {},
   "outputs": [],
   "source": [
    "ccx_gate = QuantumCircuit(3)\n",
    "ccx_gate.ccx(0,1,2)\n",
    "ccx_gate.draw(output='mpl')"
   ]
  },
  {
   "cell_type": "markdown",
   "id": "7769d9a1",
   "metadata": {},
   "source": [
    "## 양자 게이트로 고전 논리 게이트를 구현해 봅시다\n",
    "\n",
    "### NOT 게이트\n",
    "\n",
    "\n",
    "NOT 게이트는 비트의 값을 반전시키며, 앞서 설명한 바와 같이, X 게이트가 NOT 게이트와 같은 동작을 합니다. NOT 게이트의 진리표는 다음과 같습니다:\n",
    "\n",
    "| 입력 | 출력 |\n",
    "| --- | --- | \n",
    "| 1 | 0 |\n",
    "| 0 | 1 |"
   ]
  },
  {
   "cell_type": "code",
   "execution_count": null,
   "id": "4e991f8b",
   "metadata": {},
   "outputs": [],
   "source": [
    "not_gate=QuantumCircuit(1,1) # Create a quantum circuit with 1 qubit and 1 classical bit\n",
    "not_gate.x(0)\n",
    "not_gate.measure(0,0)\n",
    "not_gate.draw(output='mpl')"
   ]
  },
  {
   "cell_type": "markdown",
   "id": "cbd750b8",
   "metadata": {},
   "source": [
    "### AND 게이트\n",
    "\n",
    "AND 게이트의 출력은 두 입력이 모두 1인 경우에만 True(1)입니다. AND 게이트의 진리표는 다음과 같습니다:\n",
    "\n",
    "| A (입력) | B (입력) | 출력 |\n",
    "| --- | --- | --- |\n",
    "| 0 | 0 | 0 | \n",
    "| 0 | 1 | 0 |\n",
    "| 1 | 0 | 0 |\n",
    "| 1 | 1 | 1 |\n",
    "\n",
    "\n",
    "토폴리 게이트의 두 제어 비트를 입력으로, 대상 비트를 출력 비트로 사용해 AND 게이트를 구현할 수 있습니다."
   ]
  },
  {
   "cell_type": "code",
   "execution_count": null,
   "id": "4cef1c91",
   "metadata": {},
   "outputs": [],
   "source": [
    "and_gate=QuantumCircuit(3,1) # 3개의 큐비트와 1개의 고전 비트로 양자 회로 생성\n",
    "and_gate.ccx(0,1,2)\n",
    "and_gate.measure(2,0)\n",
    "and_gate.draw(output='mpl')"
   ]
  },
  {
   "cell_type": "markdown",
   "id": "da38e3f7",
   "metadata": {},
   "source": [
    "### OR 게이트\n",
    "\n",
    "OR 게이트는 최소한 둘 중 하나의 입력이 1인 경우 True(1) 입니다. \n",
    "OR 게이트의 진리표는 다음과 같습니다. \n",
    "\n",
    "| A (입력) | B (입력) | 출력 |\n",
    "| --- | --- | --- |\n",
    "| 0 | 0 | 0 | \n",
    "| 0 | 1 | 1 |\n",
    "| 1 | 0 | 1 |\n",
    "| 1 | 1 | 1 |"
   ]
  },
  {
   "cell_type": "code",
   "execution_count": null,
   "id": "8392869f",
   "metadata": {
    "scrolled": true
   },
   "outputs": [],
   "source": [
    "or_gate=QuantumCircuit(3,1) # Create a quantum circuit with 3 qubits and 1 classical bit\n",
    "or_gate.cx(1,2)\n",
    "or_gate.cx(0,2)\n",
    "or_gate.ccx(0,1,2)\n",
    "or_gate.measure(2,0)\n",
    "or_gate.draw(output='mpl')"
   ]
  },
  {
   "cell_type": "markdown",
   "id": "a497974e",
   "metadata": {},
   "source": [
    "## Circuit Composer 위젯을 사용해 봅시다\n",
    "\n",
    "\n",
    "그래픽 인터페이스를 사용해 양자 회로를 제작할 수 있는 IBM Quantum Circuit Composer를 사용해 보셨나요. 여기에서는 쥬피터 노트북 안에서 같은 기능을 사용할 수 있게 해주는 Circuit Composer 위젯을 알아 보도록 하겠습니다. 위젯의 더 많은 사용법은  [여기](https://quantum-computing.ibm.com/lab/docs/iql/composer-widget)에서 확인하실 수 있습니다.\n",
    "\n",
    "<div class=\"alert alert-block alert-success\">\n",
    "\n",
    "**연습 1a:** Circuit Composer를 사용해 NOR(부정 OR) 게이트를 구현해 봅시다.\n",
    "    \n",
    "이 연습문제는 여러분이 Composer에 익숙해 지도록 돕기위해 준비되었기 때문에 평가되지 않습니다. 원하신다면 풀지 않으셔도 좋습니다. 아래의 셀을 실행하여Composer를 표시한 후 원하는 게이트들을 원하는 자리에 추가해 보십시오.\n",
    "</div>"
   ]
  },
  {
   "cell_type": "code",
   "execution_count": null,
   "id": "790a5042",
   "metadata": {},
   "outputs": [],
   "source": [
    "from ibm_quantum_widgets import CircuitComposer\n",
    "editor = CircuitComposer()\n",
    "editor"
   ]
  },
  {
   "cell_type": "markdown",
   "id": "d0041322",
   "metadata": {},
   "source": [
    "### Circuit Composer 위젯으로 이미 제작해 둔 회로에 작업하기\n",
    "\n",
    "Circuit Composer로 이미 만들어 둔 회로에 작업을 할 수 있습니다. 아래의 코드는 위에서 만들어둔 OR 게이트 회로를 Circuit Composer에서 불러올 것입니다. OR 게이트가 잘 만들어 졌는지 Circuit Composer에서 확인해 보세요.\n",
    "\n",
    "<div class=\"alert alert-block alert-success\">\n",
    "\n",
    "열린 회로를 드래그 앤 드롭으로 편집할 수 있습니다. 마지막에 있는 측정을 삭제해 보세요.\n",
    "    \n",
    "</div>"
   ]
  },
  {
   "cell_type": "code",
   "execution_count": null,
   "id": "7cae1297",
   "metadata": {
    "scrolled": true
   },
   "outputs": [],
   "source": [
    "from ibm_quantum_widgets import CircuitComposer\n",
    "editor2 = CircuitComposer(circuit=or_gate)\n",
    "editor2"
   ]
  },
  {
   "cell_type": "markdown",
   "id": "82cc8fa3",
   "metadata": {},
   "source": [
    "아래에 있는 예재는 Composer에 최종적으로 남아있는 회로를 qc2라는 이름으로 저장하고 출력에 X 게이트를 적용하고 다시 측정합니다.\n",
    "\n",
    "마지막 에디터의 회로를 불러와서 X를 적용하고 측정을 적용해 봅시다."
   ]
  },
  {
   "cell_type": "code",
   "execution_count": null,
   "id": "eaad6a31",
   "metadata": {
    "slideshow": {
     "slide_type": "slide"
    }
   },
   "outputs": [],
   "source": [
    "qc2 = editor2.circuit\n",
    "\n",
    "qc2.x(2)\n",
    "qc2.measure((2), (0))\n",
    "\n",
    "qc2.draw(output='mpl')"
   ]
  },
  {
   "cell_type": "markdown",
   "id": "e77a8a58",
   "metadata": {},
   "source": [
    "방금 만든 회로는 첫번째 연습문제에서 작성해 보았던 부정 OR인 NOR과 같습니다.\n",
    "\n",
    "## 복합 양자 게이트 및 비용\n",
    "\n",
    "\n",
    "실제 양자 컴퓨터는 모든 게이트를 물리적으로 구현해 사용하지 않습니다. 대신 고전 계산에서와 같이 가능한 모든 가능한 기능을 구현해 낼 수 있는 범용 게이트 집합을 만들어 낼 수 있는 작은 기본 게이트 집합을 사용합니다.\n",
    "\n",
    "\n",
    "따라서 작성된 양자 회로는 실행 전에 기본 게이트로 변환됩니다. 일반적으로 양자 회로가 IBM Quantum 시스템으로 전송 될 때 Qiskit 트랜스 파일러에 의해 자동으로 수행됩니다. 그러나 학습을 위해 기본 게이트를 사용하여 손으로 회로를 구성해 봅시다. IBM Quantum 시스템의 기본 게이트는 일반적으로 CX, ID, RZ, SX 및 X 게이트입니다. 다음의 백엔드 [`ibmq_mumbai` system](https://quantum-computing.ibm.com/services?skip=0&systems=all&system=ibmq_mumbai)을 예로 살펴 보시기 바랍니다.\n",
    "\n",
    "이제 아래의 회로를 살펴봅시다: "
   ]
  },
  {
   "cell_type": "code",
   "execution_count": null,
   "id": "eda22977",
   "metadata": {},
   "outputs": [],
   "source": [
    "qc = QuantumCircuit(2)\n",
    "qc.sxdg(0)\n",
    "qc.t(1)\n",
    "qc.draw(output='mpl')"
   ]
  },
  {
   "cell_type": "markdown",
   "id": "4355ac63",
   "metadata": {},
   "source": [
    "기본 게이트들을 사용해 위의 회로가 어떻게 분해되었는지 봅시다."
   ]
  },
  {
   "cell_type": "code",
   "execution_count": null,
   "id": "87613992",
   "metadata": {},
   "outputs": [],
   "source": [
    "qc = QuantumCircuit(2)\n",
    "qc.sx(0)\n",
    "qc.sx(0)\n",
    "qc.sx(0)\n",
    "qc.rz(pi/4,1)\n",
    "qc.draw(output='mpl')"
   ]
  },
  {
   "cell_type": "markdown",
   "id": "e7bf1c2e",
   "metadata": {},
   "source": [
    "보시다시피 기본 게이트만으로 작성된 회로에는 더 많은 숫자의 게이트들이 사용됩니다. 회로에 게이트가 많을 수록 계산은 더 복잡해집니다. 따라서 사용된 게이트의 종류와 숫자를 사용해 회로의 비용을 계산합니다. 모든 게이트들이 같은 비용을 갖는 것은 아니기 때문에 아래의 공식을 사용하여 회로의 비용을 계산합니다.\n",
    "\n",
    "$$\n",
    "Cost = 10 N_{CNOT} + N_{other}\n",
    "$$\n",
    "\n",
    "여기에서 $N_{CNOT}$은 사용된 CNOT 게이트의 개수이고 $N_{other}$은 그 외의 게이트의 개수입니다.\n",
    "\n",
    "### 하다마드 게이트\n",
    "\n",
    "계속해서 설명한 것처럼, 모든 작업은 기본 게이트를 사용하여 표현할 수 있습니다. 이곳에서는 기본 게이트 세트를 사용하여 하다마드 게이트를 구성해 보도록 하겠습니다. X 축과 Z 축의 중간에있는 축을 중심으로 회전시키는 단일 기본 게이트는 없으므로 대신 X 축 회전과 Z 축 회전을 적절히 사용하여 동일한 결과를 얻어 보도록 합시다.\n",
    "어떤 회전들이 필요할까요?"
   ]
  },
  {
   "cell_type": "code",
   "execution_count": null,
   "id": "a0901d04",
   "metadata": {},
   "outputs": [],
   "source": [
    "q=QuantumRegister(1)\n",
    "c=ClassicalRegister(1)\n",
    "qc=QuantumCircuit(q,c)\n",
    "qc.rz(pi/2, 0)\n",
    "qc.sx(0)\n",
    "qc.rz(pi/2, 0)\n",
    "qc.draw(output='mpl')"
   ]
  },
  {
   "cell_type": "markdown",
   "id": "49cb9a89",
   "metadata": {},
   "source": [
    "여러분이 기억하는 것처럼, 위의 회로 가장 앞에 있는 RZ 게이트는 $|0\\rangle$ 또는 $|1\\rangle$의 상태에는 눈에 띄는 동작을 하지 않기 때문에 필요 없다고 생각하기 쉽습니다. 하지만 이 회로가 $|+\\rangle$ 또는 $|-\\rangle$ 상태에 적용된다면 앞에 있는 RZ 게이트가 눈에 띄는 동작을 합니다. 대신 이 경우 SX 게이트까지 적용 후에 $|0\\rangle$ 또는 $|1\\rangle$의 상태가 되기 때문에 뒤에 있는 RZ 게이트가 아무 영향이 없게 됩니다. \n",
    "\n",
    "### 제어 회전\n",
    "\n",
    "우리는 앞서 제어 반전(Controlled NOT)을 살펴 보았습니다. 여기에서는 Y 축을 중심으로 한 제어 회전을 만드는 방법을 살펴보겠습니다. 회전 값 $\\theta$는 어떤 값도 될 수 있고 꼭 $\\pi$ 값만 갖도록 할 필요는 없으며 아래의 방법은 이 기능을 구현하는 방법 중 한가지 예시입니다."
   ]
  },
  {
   "cell_type": "code",
   "execution_count": null,
   "id": "9680fb2a",
   "metadata": {},
   "outputs": [],
   "source": [
    "qc = QuantumCircuit(2)\n",
    "theta = pi # Theta can be anything (pi chosen arbitrarily)\n",
    "qc.ry(theta/2,1)\n",
    "qc.cx(0,1)\n",
    "qc.ry(-theta/2,1)\n",
    "qc.cx(0,1)\n",
    "qc.draw(output='mpl')"
   ]
  },
  {
   "cell_type": "markdown",
   "id": "6d421b06",
   "metadata": {},
   "source": [
    "이 회로에서, 첫번째 큐비트가 0이라면 두 번의 회전은 서로를 상쇄시키기 때문에 아무런 변화도 일어나지 않습니다.\n",
    "\n",
    "하지만 반대로, 첫번째 큐비트가 1이라면, $\\theta / 2$의 두 배 만큼 회전한 것과 같은 결과를 만들어내 우리가 목표로 한 $\\theta$ 만큼의 회전을 얻게 됩니다. X축과 Y축이 수직이기 때문에 이런 동작을 얻을 수 있습니다.\n",
    "\n",
    "<div class=\"alert alert-block alert-danger\">\n",
    "다른 축으로의 회전을 얻고자 할때는 다른 트릭을 사용해야 할지도 모릅니다.\n",
    "</div>\n",
    "\n",
    "### 제어 제어 회전 (Controlled Controlled Rotation)\n",
    "\n",
    "위에서 우리는 $Y$ 축에 대한 제어 회전을 구현하는 법을 살펴 보았습니다.\n",
    "원하는 축에 대한 제어 회전을 구현하는 법을 알았으니 이제 CCX 게이트와 유사하게 제어 큐비트 두 개가 모두 1일때 회전을 얻는, 이중 제어 회전을 구현해 봅시다."
   ]
  },
  {
   "cell_type": "code",
   "execution_count": null,
   "id": "7e1d0477",
   "metadata": {},
   "outputs": [],
   "source": [
    "qc = QuantumCircuit(3)\n",
    "theta = pi # Theta는 어떤 값도 허용 됨 (pi는 임의로 선택함)\n",
    "qc.cp(theta/2,1,2)\n",
    "qc.cx(0,1)\n",
    "qc.cp(-theta/2,1,2)\n",
    "qc.cx(0,1)\n",
    "qc.cp(theta/2,0,2)\n",
    "qc.draw()"
   ]
  },
  {
   "cell_type": "markdown",
   "id": "1ab9e7b8",
   "metadata": {},
   "source": [
    "이 회로에서는 첫 번째와 두 번째 큐비트가 모두 0이면 아무 일도 일어나지 않습니다. 두 번째 큐비트 만 1인 경우에는, 먼저 $\\pi/2$로 회전을 적용하고 이후 $-\\pi/2$로 회전하여 회전이 서로 상쇄됩니다. 첫 번째 큐비트만 1이라면 첫 번째 CX 이후의 두 번째 큐비트도 1이 되므로 $-\\pi/2$의 회전이 적용되고 그 후에 $\\pi/2$의 회전이 적용되어 이 두 회전이 다시 서로 상쇄시킵니다.\n",
    "\n",
    "\n",
    "첫 번째와 두 번째 큐비트가 모두 1이면 먼저 $\\pi/2$만큼 회전하고 두 번째 큐비트가 0이 되어 다음 회전이 출력에 적용되지 않고 두번째 큐비트는 CX 게이트로 인해 원래 대로 1의 값을 갖게 됩니다. 그 다음 첫 번째 큐비트가 1이기 때문에 출력에 $\\pi/2$의 회전이 적용됩니다. 결과적으로 $\\pi/2$가 두번 적용되어, $\\pi$의 회전을 얻게 됩니다.\n"
   ]
  },
  {
   "cell_type": "markdown",
   "id": "edf9d569",
   "metadata": {},
   "source": [
    "## 도전 과제\n",
    "\n",
    "<div id='problem'></div>\n",
    "<div class=\"alert alert-block alert-success\">\n",
    "\n",
    "We have seen above how to construct a Hadamard gate with our base set, and now we want to build a Toffoli gate as well. Why the Toffoli gate? As mentioned above, the Toffoli gate is also a universal gate for classical computation the same way the NAND gate is, but it is reversible. Further  it builds a simple universal gate set for quantum computation if combined with the Hadamard gate. \n",
    "\n",
    "We have seen some examples on how to express more complex gates using basis gates, we now want to use the knowledge gained to construct a Toffoli gate only using our basis gates. In order to do solve this exercise the above examples on how to construct and use controlled rotations, will come in handy. The biggest challenge is to construct the needed controlled rotations.\n",
    "    \n",
    "You can use the code below using the composer widget to construct your circuit.\n",
    "    \n",
    "    \n",
    "위에서 기본 세트로 하다마드 게이트를 만드는 방법을 살펴 보았고, 이제 Toffoli 게이트를 만들어 보고자 합니다. 왜 하필 Toffoli 게이트일까요? 위에서 언급했듯이 Toffoli 게이트는 NAND 게이트와 같은 동작을 하는 고전적인 계산을 위한 범용 게이트이면서 동시에 가역적입니다. 또한 하다마드 게이트와 결합하여 양자 계산을 위한 간단한 범용 게이트 세트를 만들어 냅니다.\n",
    "\n",
    "앞서 우리는 기본 게이트를 사용하여 더 복잡한 게이트를 만들어 내는 방법들을 살펴보았고 이제 쌓은 지식을 사용하여 기본 게이트 만을 사용해 Toffoli 게이트를 구성해 보고자 합니다. 제어 회전을 구성해본 위의 예제가 도움이 될 것입니다. 이 도전 과제에서 가장 중요한 부분이 바로 필요한 제어 회전을 구성하는 것이기 때문입니다\n",
    "\n",
    "아래에 았는 Composer 위젯을 사용하는 방식으로도 도전에 참가할 수 있습니다.\n",
    "    \n",
    "</div>\n",
    "\n",
    "\n",
    "<div class=\"alert alert-block alert-danger\">\n",
    "\n",
    "IBM Quantum 시스템의 기본 게이트들은 CX, RZ, SX, X 게이트 인것을 유념하시기 바랍니다. 그 외의 게이트들을 도전 과제에 사용할 수 없습니다.\n",
    "\n",
    "비용을 최소화하는 것에도 도전해 보세요.\n",
    "    \n",
    "$$\n",
    "Cost = 10 N_{CNOT} + N_{other}\n",
    "$$\n",
    "    \n",
    "</div>\n"
   ]
  },
  {
   "cell_type": "code",
   "execution_count": null,
   "id": "ba2c70cb",
   "metadata": {},
   "outputs": [],
   "source": [
    "from qiskit import QuantumRegister, ClassicalRegister, QuantumCircuit\n",
    "from qiskit import IBMQ, Aer, execute\n",
    "from ibm_quantum_widgets import CircuitComposer\n",
    "editorEx = CircuitComposer() \n",
    "editorEx\n",
    "##### 여러분의 회로를 Circuit Composer 위젯을 사용해 구현해 보세요"
   ]
  },
  {
   "cell_type": "code",
   "execution_count": null,
   "id": "1c1d6ec8",
   "metadata": {},
   "outputs": [],
   "source": [
    "# Qiskit code Qiskit 코드를 사용해 회로를 작성할 수 도 있습니다.\n",
    "\n",
    "circuit = QuantumCircuit(3)\n",
    "\n",
    "# 이 사이에 코드를 작성하세요 - 시작\n",
    "theta = pi\n",
    "qc.rz(pi/2,2)\n",
    "qc.sx(2)\n",
    "qc.rz(pi/2,2)\n",
    "qc.cx(1,2)\n",
    "qc.rz(-pi/4,2)#q*\n",
    "qc.cx(0,2)\n",
    "qc.rz(pi/4,2)#q\n",
    "qc.cx(1,2)\n",
    "qc.rz(-pi/4,2)#EROOR\n",
    "qc.cx(0,2)\n",
    "\n",
    "qc.rz(-pi/4,1)\n",
    "qc.rz(pi/4,2)\n",
    "qc.cx(0,1)\n",
    "qc.rz(pi/2,2)\n",
    "qc.sx(2)\n",
    "qc.rz(pi/2,2)\n",
    "qc.rz(-pi/4,1)\n",
    "qc.cx(0,1)\n",
    "qc.rz(pi/4,0)\n",
    "qc.rz(pi/2,1)\n",
    "\n",
    "qc.draw()\n",
    "\n",
    "\n",
    "\n",
    "\n",
    "# 이 사이에 코드를 작성하세요 - 종료"
   ]
  },
  {
   "cell_type": "code",
   "execution_count": null,
   "id": "a9800836",
   "metadata": {},
   "outputs": [],
   "source": [
    "# qasm_simulator로 회로를 실행 시키세요\n",
    "qc = editorEx.circuit \n",
    "#qc = circuit # Qiskit 코드로 작성한 회로를 제출하려면 이 라인의 코멘트를 해제하세요\n",
    "\n",
    "qc.draw(output='mpl')"
   ]
  },
  {
   "cell_type": "code",
   "execution_count": null,
   "id": "4aa40fc6",
   "metadata": {},
   "outputs": [],
   "source": [
    "# 다음 코드를 사용해 결과를 체크해보세요\n",
    "from qc_grader import grade_ex1\n",
    "grade_ex1(qc)"
   ]
  },
  {
   "cell_type": "code",
   "execution_count": null,
   "id": "ed15c610",
   "metadata": {},
   "outputs": [],
   "source": [
    "# 정답을 제출합니다. 언제든 다시 제출할 수 있습니다\n",
    "from qc_grader import submit_ex1\n",
    "submit_ex1(qc)"
   ]
  },
  {
   "cell_type": "markdown",
   "id": "213e59ee",
   "metadata": {},
   "source": [
    "## 추가 정보\n",
    "\n",
    "**출제자:** Marcel Pfaffhauser, Brahmani Thota, Junye Huang\n",
    "\n",
    "**번역:** 신소영, Qiskit Slack @Sophy\n",
    "\n",
    "**버젼:** 1.0.0"
   ]
  }
 ],
 "metadata": {
  "kernelspec": {
   "display_name": "Python 3",
   "language": "python",
   "name": "python3"
  },
  "language_info": {
   "codemirror_mode": {
    "name": "ipython",
    "version": 3
   },
   "file_extension": ".py",
   "mimetype": "text/x-python",
   "name": "python",
   "nbconvert_exporter": "python",
   "pygments_lexer": "ipython3",
   "version": "3.8.10"
  },
  "widgets": {
   "application/vnd.jupyter.widget-state+json": {
    "state": {
     "005ed033e79e4c91906ce462f1d08f39": {
      "model_module": "@quantum/ibm-q-lab-widgets",
      "model_module_version": "^1.0.3",
      "model_name": "CircuitComposerModel",
      "state": {
       "_model_module_version": "^1.0.3",
       "_view_module_version": "^1.0.3",
       "circuit": "\"OPENQASM 2.0;\\ninclude \\\"qelib1.inc\\\";\\n\\nqreg q[1];\\n\\nrz(pi/2) q[0];\\nsx q[0];\\nrz(pi/2) q[0];\"",
       "editable": true,
       "layout": "IPY_MODEL_b645d55afc6649dd807e38ab30da764b",
       "qiskit_code_cell_index": -1
      }
     },
     "00687b8b531246e18e62ef79ad5c6970": {
      "model_module": "@jupyter-widgets/controls",
      "model_module_version": "1.5.0",
      "model_name": "DescriptionStyleModel",
      "state": {
       "description_width": ""
      }
     },
     "006a465b0969400c8b27c83965d6e5fd": {
      "model_module": "@jupyter-widgets/controls",
      "model_module_version": "1.5.0",
      "model_name": "DescriptionStyleModel",
      "state": {
       "description_width": ""
      }
     },
     "00a937f8db7d46bf8d5069e36be30898": {
      "model_module": "@jupyter-widgets/controls",
      "model_module_version": "1.5.0",
      "model_name": "HTMLModel",
      "state": {
       "layout": "IPY_MODEL_2c06893d8e4d4ab8bddea3ac23076c37",
       "style": "IPY_MODEL_c88cdfec06954233bc054aaf4cba9576",
       "value": "<p style='font-family: IBM Plex Sans, Arial, Helvetica, sans-serif; font-size: 20px; font-weight: medium;'>Circuit Properties</p>"
      }
     },
     "00fec089e9a247ee81746cd2e8672b95": {
      "model_module": "@jupyter-widgets/controls",
      "model_module_version": "1.5.0",
      "model_name": "DescriptionStyleModel",
      "state": {
       "description_width": ""
      }
     },
     "0110afce174844c9b3cadfb724091721": {
      "model_module": "@quantum/ibm-q-lab-widgets",
      "model_module_version": "^1.0.3",
      "model_name": "CircuitComposerModel",
      "state": {
       "_model_module_version": "^1.0.3",
       "_view_module_version": "^1.0.3",
       "circuit": "\"OPENQASM 2.0;\\ninclude \\\"qelib1.inc\\\";\\n\\nqreg q[3];\\ncreg c[3];\\n\\n\"",
       "editable": true,
       "layout": "IPY_MODEL_4f5a6b0a58964ec39418de154fe26573",
       "qiskit_code_cell_index": -1
      }
     },
     "01c879086b934219b29d792417520512": {
      "model_module": "@jupyter-widgets/base",
      "model_module_version": "1.2.0",
      "model_name": "LayoutModel",
      "state": {
       "width": "145px"
      }
     },
     "01ec1d1813484c968dbcca4b508b99e4": {
      "model_module": "@jupyter-widgets/base",
      "model_module_version": "1.2.0",
      "model_name": "LayoutModel",
      "state": {
       "grid_template_areas": "\n                                       \". . . . right \"\n                                        ",
       "grid_template_columns": "20% 20% 20% 20% 20%",
       "width": "100%"
      }
     },
     "020d9c6ddd9a4f4eaa95e3627f4f211e": {
      "model_module": "@jupyter-widgets/base",
      "model_module_version": "1.2.0",
      "model_name": "LayoutModel",
      "state": {}
     },
     "02aee6b7777c41c5989acace1c0973bd": {
      "model_module": "@jupyter-widgets/base",
      "model_module_version": "1.2.0",
      "model_name": "LayoutModel",
      "state": {
       "width": "70px"
      }
     },
     "030a012c6ecd4829857f874f5abcae9f": {
      "model_module": "@jupyter-widgets/base",
      "model_module_version": "1.2.0",
      "model_name": "LayoutModel",
      "state": {
       "grid_area": "right",
       "padding": "0px 0px 0px 0px",
       "width": "70px"
      }
     },
     "0345bc4b7b3747dab426bb2d459c2cf5": {
      "model_module": "@jupyter-widgets/controls",
      "model_module_version": "1.5.0",
      "model_name": "HBoxModel",
      "state": {
       "children": [
        "IPY_MODEL_54efbfd8da3447b3b19543ec279e915b",
        "IPY_MODEL_2cc38e474f8b4e2d92366b1db0afbdc0",
        "IPY_MODEL_e58ce75f933d4be3bfcac31727c0e302",
        "IPY_MODEL_96d5c6d26c994fc19a437928578a9b8d",
        "IPY_MODEL_4b884917539c49feaf716e2f58ae1bb3"
       ],
       "layout": "IPY_MODEL_e5bc9438b0974491a248e55d6fa86515"
      }
     },
     "058c0ab1f10246ce985c0d6923f85ea6": {
      "model_module": "@jupyter-widgets/base",
      "model_module_version": "1.2.0",
      "model_name": "LayoutModel",
      "state": {
       "grid_template_areas": "\n                                       \". . . . right \"\n                                        ",
       "grid_template_columns": "20% 20% 20% 20% 20%",
       "width": "100%"
      }
     },
     "058e7134ba8d42448de67dec87d4f5f5": {
      "model_module": "@quantum/ibm-q-lab-widgets",
      "model_module_version": "^1.0.3",
      "model_name": "CircuitComposerModel",
      "state": {
       "_model_module_version": "^1.0.3",
       "_view_module_version": "^1.0.3",
       "circuit": "\"OPENQASM 2.0;\\ninclude \\\"qelib1.inc\\\";\\n\\nqreg q[3];\\ncreg c[3];\\n\\ncx q[0],q[1];\\ncx q[1],q[0];\\ncx q[0],q[1];\\nrz(pi) q[2];\"",
       "editable": true,
       "layout": "IPY_MODEL_e61dea173c9a4870a47e6a93f3be63b9",
       "qiskit_code_cell_index": 58
      }
     },
     "0631a355ddda42ef83569e488403b044": {
      "model_module": "@jupyter-widgets/controls",
      "model_module_version": "1.5.0",
      "model_name": "ButtonStyleModel",
      "state": {}
     },
     "06e37e6a43f14b90a29ed82464f87774": {
      "model_module": "@jupyter-widgets/controls",
      "model_module_version": "1.5.0",
      "model_name": "HTMLModel",
      "state": {
       "layout": "IPY_MODEL_e80410c2c9264536aef853f7f4964a35",
       "style": "IPY_MODEL_78c05694575a4c6d843467f766cb5ceb",
       "value": "<h5>Backend</h5>"
      }
     },
     "06e4de917d1b4c46bc108eacc4daee76": {
      "model_module": "@quantum/ibm-q-lab-widgets",
      "model_module_version": "^1.0.3",
      "model_name": "CircuitComposerModel",
      "state": {
       "_model_module_version": "^1.0.3",
       "_view_module_version": "^1.0.3",
       "circuit": "\"OPENQASM 2.0;\\ninclude \\\"qelib1.inc\\\";\\n\\nqreg q[3];\\ncreg c[3];\\n\\n\"",
       "editable": true,
       "layout": "IPY_MODEL_11ede97ae89842c6b1732fd28f999ed8",
       "qiskit_code_cell_index": -1
      }
     },
     "070fe16ae3524f3e9e9fbaaf9e43e662": {
      "model_module": "@quantum/ibm-q-lab-widgets",
      "model_module_version": "^1.0.3",
      "model_name": "CircuitComposerModel",
      "state": {
       "_model_module_version": "^1.0.3",
       "_view_module_version": "^1.0.3",
       "circuit": "\"OPENQASM 2.0;\\ninclude \\\"qelib1.inc\\\";\\n\\nqreg q[3];\\ncreg c[3];\\n\\nswap q[0],q[1];\\nrz(pi/2) q[2];\"",
       "editable": true,
       "layout": "IPY_MODEL_74519cce23de44ca8ee162293804ce2c",
       "qiskit_code_cell_index": 54
      }
     },
     "071b8b592b2b4ba987a324d459eeb994": {
      "model_module": "@jupyter-widgets/base",
      "model_module_version": "1.2.0",
      "model_name": "LayoutModel",
      "state": {
       "margin": "0px 0px 10px 0px"
      }
     },
     "07fd227e7fcf4dd1860ffb8ebd34b4d2": {
      "model_module": "@jupyter-widgets/controls",
      "model_module_version": "1.5.0",
      "model_name": "DescriptionStyleModel",
      "state": {
       "description_width": ""
      }
     },
     "082ac8ac0fb84719beb14a8b36d507b7": {
      "model_module": "@jupyter-widgets/controls",
      "model_module_version": "1.5.0",
      "model_name": "HTMLModel",
      "state": {
       "layout": "IPY_MODEL_be922707f6f4439fab3d49f822b253db",
       "style": "IPY_MODEL_91facf544732485f825073e819ce85f2",
       "value": "<h5>Message</h5>"
      }
     },
     "085e7fb517c245eaa3d75b078c0e1751": {
      "model_module": "@quantum/ibm-q-lab-widgets",
      "model_module_version": "^1.0.3",
      "model_name": "CircuitComposerModel",
      "state": {
       "_model_module_version": "^1.0.3",
       "_view_module_version": "^1.0.3",
       "circuit": "\"OPENQASM 2.0;\\ninclude \\\"qelib1.inc\\\";\\n\\nqreg q[3];\\ncreg c[3];\\n\\n\"",
       "editable": true,
       "layout": "IPY_MODEL_d396a016b63543358b93758839379b62",
       "qiskit_code_cell_index": -1
      }
     },
     "091123743b774ed39186e57d7a6db20a": {
      "model_module": "@jupyter-widgets/base",
      "model_module_version": "1.2.0",
      "model_name": "LayoutModel",
      "state": {}
     },
     "098146a76288479d8f34020f737f6605": {
      "model_module": "@jupyter-widgets/base",
      "model_module_version": "1.2.0",
      "model_name": "LayoutModel",
      "state": {}
     },
     "09b693d891784d9c99a637ec1f37b4b8": {
      "model_module": "@quantum/ibm-q-lab-widgets",
      "model_module_version": "^1.0.3",
      "model_name": "CircuitComposerModel",
      "state": {
       "_model_module_version": "^1.0.3",
       "_view_module_version": "^1.0.3",
       "circuit": "\"OPENQASM 2.0;\\ninclude \\\"qelib1.inc\\\";\\n\\nqreg q[3];\\ncreg c[3];\\n\\n\"",
       "editable": true,
       "layout": "IPY_MODEL_7b8426cc9f7244c98a8c22eca9c9eb18",
       "qiskit_code_cell_index": -1
      }
     },
     "09df53fcfd534ea3ac0ac8d3eba69d85": {
      "model_module": "@jupyter-widgets/controls",
      "model_module_version": "1.5.0",
      "model_name": "DescriptionStyleModel",
      "state": {
       "description_width": ""
      }
     },
     "09e29575306f418b92d9a2c28662e772": {
      "model_module": "@jupyter-widgets/base",
      "model_module_version": "1.2.0",
      "model_name": "LayoutModel",
      "state": {
       "grid_area": "right",
       "padding": "0px 0px 0px 0px",
       "width": "70px"
      }
     },
     "0a0e1409d8fc4c22be026b67930a0cd4": {
      "model_module": "@jupyter-widgets/controls",
      "model_module_version": "1.5.0",
      "model_name": "HTMLModel",
      "state": {
       "layout": "IPY_MODEL_57e0ccc3cf694508933fdb6e66835851",
       "style": "IPY_MODEL_9ed9590323aa46688e2ba31f633e3f78",
       "value": "<h5>Message</h5>"
      }
     },
     "0ab79d11ac1f44dfbbf2bafdac27f926": {
      "model_module": "@jupyter-widgets/controls",
      "model_module_version": "1.5.0",
      "model_name": "HBoxModel",
      "state": {
       "children": [
        "IPY_MODEL_4700a02cfb7b4ac39225242433cd7711",
        "IPY_MODEL_25192d15e13a4389a20ff624c2705f55",
        "IPY_MODEL_16ae250874e04ab4b4bd906333443214",
        "IPY_MODEL_b445f0e465864ce282896f13ec86a2b1",
        "IPY_MODEL_1c050fce70034ed7bab1bc571055a895"
       ],
       "layout": "IPY_MODEL_8b3a8e1e875840d1b5f26a70860cfb00"
      }
     },
     "0ac17f4552964785bbd1e7a39d02c9aa": {
      "model_module": "@quantum/ibm-q-lab-widgets",
      "model_module_version": "^1.0.3",
      "model_name": "CircuitComposerModel",
      "state": {
       "_model_module_version": "^1.0.3",
       "_view_module_version": "^1.0.3",
       "circuit": "\"OPENQASM 2.0;\\ninclude \\\"qelib1.inc\\\";\\n\\nqreg q[3];\\ncreg c[1];\\n\\ncx q[1],q[2];\\ncx q[0],q[2];\\nccx q[0],q[1],q[2];\\nmeasure q[2] -> c[0];\"",
       "editable": true,
       "layout": "IPY_MODEL_f0d64f6e58414d33b497548bf8504e8a",
       "qiskit_code_cell_index": -1
      }
     },
     "0bea43da5d56445a88974e61b66c52be": {
      "model_module": "@jupyter-widgets/controls",
      "model_module_version": "1.5.0",
      "model_name": "DescriptionStyleModel",
      "state": {
       "description_width": ""
      }
     },
     "0c2790117be5423b9b19274d3a3c386a": {
      "model_module": "@jupyter-widgets/base",
      "model_module_version": "1.2.0",
      "model_name": "LayoutModel",
      "state": {}
     },
     "0c6085a10676474d9df1193395266c46": {
      "model_module": "@jupyter-widgets/base",
      "model_module_version": "1.2.0",
      "model_name": "LayoutModel",
      "state": {}
     },
     "0c681823017a4cbc8130bed1a43086ac": {
      "model_module": "@jupyter-widgets/controls",
      "model_module_version": "1.5.0",
      "model_name": "DescriptionStyleModel",
      "state": {
       "description_width": ""
      }
     },
     "0d31fd6aff07413bbc087ef5b2b80573": {
      "model_module": "@jupyter-widgets/base",
      "model_module_version": "1.2.0",
      "model_name": "LayoutModel",
      "state": {
       "width": "95px"
      }
     },
     "0d95e1d0d2f648b98d76d1b28dfb392e": {
      "model_module": "@jupyter-widgets/controls",
      "model_module_version": "1.5.0",
      "model_name": "GridBoxModel",
      "state": {
       "children": [
        "IPY_MODEL_b09c4aebd3c04d00ba6c15ccca3c0bf5"
       ],
       "layout": "IPY_MODEL_3260ea3536cd441184144a0e2ec4488a"
      }
     },
     "0da50320e5bd46b3aa7042daf06cab2b": {
      "model_module": "@jupyter-widgets/base",
      "model_module_version": "1.2.0",
      "model_name": "LayoutModel",
      "state": {
       "margin": "0px 0px 0px 37px",
       "width": "600px"
      }
     },
     "0e4467ae7db249a1a33c46d2b9b495bc": {
      "model_module": "@quantum/ibm-q-lab-widgets",
      "model_module_version": "^1.0.3",
      "model_name": "CircuitComposerModel",
      "state": {
       "_model_module_version": "^1.0.3",
       "_view_module_version": "^1.0.3",
       "circuit": "\"OPENQASM 2.0;\\ninclude \\\"qelib1.inc\\\";\\n\\nqreg q29[3];\\ncreg c2[3];\\n\\ncx q29[1],q29[2];\\ncx q29[0],q29[2];\\nccx q29[0],q29[1],q29[2];\\nmeasure q29[2] -> c2[0];\"",
       "editable": true,
       "layout": "IPY_MODEL_3fb4a8913a5049b09d3d417371eccb3c",
       "qiskit_code_cell_index": -1
      }
     },
     "0fdff5dfd0fa447480de43a89a8d0f6a": {
      "model_module": "@jupyter-widgets/base",
      "model_module_version": "1.2.0",
      "model_name": "LayoutModel",
      "state": {
       "grid_area": "right",
       "padding": "0px 0px 0px 0px",
       "width": "70px"
      }
     },
     "0ff22eb9feaf477bbc7a94460d34f8ff": {
      "model_module": "@jupyter-widgets/base",
      "model_module_version": "1.2.0",
      "model_name": "LayoutModel",
      "state": {}
     },
     "115e321a54064c15af84960de9afcd39": {
      "model_module": "@jupyter-widgets/controls",
      "model_module_version": "1.5.0",
      "model_name": "HTMLModel",
      "state": {
       "layout": "IPY_MODEL_18b47e3100be465abf040e6e432af411",
       "style": "IPY_MODEL_f656da7b0e564e1eb512c2058b0bdc65",
       "value": "<h5>Queue</h5>"
      }
     },
     "118b63139f6a449e91afa426c715f9ca": {
      "model_module": "@jupyter-widgets/controls",
      "model_module_version": "1.5.0",
      "model_name": "DescriptionStyleModel",
      "state": {
       "description_width": ""
      }
     },
     "11ede97ae89842c6b1732fd28f999ed8": {
      "model_module": "@jupyter-widgets/base",
      "model_module_version": "1.2.0",
      "model_name": "LayoutModel",
      "state": {}
     },
     "126994084b7f4f81bdff9facbcd3bddb": {
      "model_module": "@quantum/ibm-q-lab-widgets",
      "model_module_version": "^1.0.3",
      "model_name": "CircuitComposerModel",
      "state": {
       "_model_module_version": "^1.0.3",
       "_view_module_version": "^1.0.3",
       "circuit": "\"OPENQASM 2.0;\\ninclude \\\"qelib1.inc\\\";\\n\\nqreg q2[3];\\ncreg c2[3];\\n\\ncx q2[1],q2[2];\\ncx q2[0],q2[2];\\nccx q2[0],q2[1],q2[2];\\nmeasure q2[2] -> c2[0];\\nx q2[2];\\nmeasure q2[2] -> c2[0];\"",
       "editable": true,
       "layout": "IPY_MODEL_4c5850b093234f35bf5afe995313fe91",
       "qiskit_code_cell_index": -1
      }
     },
     "131291ce9e3f45fc82895be047bf656e": {
      "model_module": "@quantum/ibm-q-lab-widgets",
      "model_module_version": "^1.0.3",
      "model_name": "CircuitComposerModel",
      "state": {
       "_model_module_version": "^1.0.3",
       "_view_module_version": "^1.0.3",
       "circuit": "\"OPENQASM 2.0;\\ninclude \\\"qelib1.inc\\\";\\n\\nqreg q[3];\\ncreg c[3];\\n\\n\"",
       "editable": true,
       "layout": "IPY_MODEL_ece0b69da4ef42e89e2399b90ef89a51",
       "qiskit_code_cell_index": -1
      }
     },
     "148d5853e7934d2eaa27c5607540d375": {
      "model_module": "@quantum/ibm-q-lab-widgets",
      "model_module_version": "^1.0.3",
      "model_name": "CircuitComposerModel",
      "state": {
       "_model_module_version": "^1.0.3",
       "_view_module_version": "^1.0.3",
       "circuit": "\"OPENQASM 2.0;\\ninclude \\\"qelib1.inc\\\";\\n\\nqreg q0[3];\\ncreg c0[3];\\n\\ncx q0[1],q0[2];\\ncx q0[0],q0[2];\\nccx q0[0],q0[1],q0[2];\"",
       "editable": true,
       "layout": "IPY_MODEL_baf8a86c6f7c4fd98bf0e0f0ea0aa3cb",
       "qiskit_code_cell_index": -1
      }
     },
     "148dbc5ca6d54610a7cae53105d55710": {
      "model_module": "@jupyter-widgets/controls",
      "model_module_version": "1.5.0",
      "model_name": "ButtonStyleModel",
      "state": {}
     },
     "14ca63ea4128479da9f01354ea081f79": {
      "model_module": "@jupyter-widgets/controls",
      "model_module_version": "1.5.0",
      "model_name": "HTMLModel",
      "state": {
       "layout": "IPY_MODEL_8568082cdd16496d851d248b56d69d2c",
       "style": "IPY_MODEL_5158b4f4b69c4af89080e709bc5a3a2f",
       "value": "<h5>Job ID</h5>"
      }
     },
     "14e8c2acb28b48479a3f576feb0c0a75": {
      "model_module": "@jupyter-widgets/controls",
      "model_module_version": "1.5.0",
      "model_name": "HTMLModel",
      "state": {
       "layout": "IPY_MODEL_30488cbcf7d34bae82270607d5513607",
       "style": "IPY_MODEL_b4c22c7c95864dfc9209e214aac7ccf8",
       "value": "<h5>Job ID</h5>"
      }
     },
     "1555d2ac5d1c4c93a2c43c5fc1189ac0": {
      "model_module": "@jupyter-widgets/base",
      "model_module_version": "1.2.0",
      "model_name": "LayoutModel",
      "state": {}
     },
     "157664f9cd124216918b16ca4a323852": {
      "model_module": "@jupyter-widgets/base",
      "model_module_version": "1.2.0",
      "model_name": "LayoutModel",
      "state": {
       "width": "70px"
      }
     },
     "1690149b711b40619ce096d9bf256b0b": {
      "model_module": "@jupyter-widgets/controls",
      "model_module_version": "1.5.0",
      "model_name": "HTMLModel",
      "state": {
       "layout": "IPY_MODEL_ab588bab3fce4010917bbdd2666df29b",
       "style": "IPY_MODEL_5d49d5dc262f49b5b489d94e32d0e3eb",
       "value": "<h5>Status</h5>"
      }
     },
     "16ae250874e04ab4b4bd906333443214": {
      "model_module": "@jupyter-widgets/controls",
      "model_module_version": "1.5.0",
      "model_name": "HTMLModel",
      "state": {
       "layout": "IPY_MODEL_ee01cfa5318f49bbb51da895d9cbfe98",
       "style": "IPY_MODEL_8c8ebb9ab7814f49b7f124610764c2a1",
       "value": "<h5>Status</h5>"
      }
     },
     "173a109f9c714f3f9bbbf01294cc4a4b": {
      "model_module": "@jupyter-widgets/controls",
      "model_module_version": "1.5.0",
      "model_name": "DescriptionStyleModel",
      "state": {
       "description_width": ""
      }
     },
     "17f077333f584b6fa33d45902be16c2d": {
      "model_module": "@quantum/ibm-q-lab-widgets",
      "model_module_version": "^1.0.3",
      "model_name": "CircuitComposerModel",
      "state": {
       "_model_module_version": "^1.0.3",
       "_view_module_version": "^1.0.3",
       "circuit": "\"OPENQASM 2.0;\\ninclude \\\"qelib1.inc\\\";\\n\\nqreg q[3];\\ncreg c[3];\\n\\n\"",
       "editable": true,
       "layout": "IPY_MODEL_be615fa4e37f46f4b2bd64f94695d231",
       "qiskit_code_cell_index": -1
      }
     },
     "18216240bda34ce6989a753386c11af2": {
      "model_module": "@jupyter-widgets/controls",
      "model_module_version": "1.5.0",
      "model_name": "DescriptionStyleModel",
      "state": {
       "description_width": ""
      }
     },
     "18446bda42004779b833ddc7297f73d5": {
      "model_module": "@jupyter-widgets/base",
      "model_module_version": "1.2.0",
      "model_name": "LayoutModel",
      "state": {}
     },
     "18a91f3d40c4476b8b1891c2bfd3e25d": {
      "model_module": "@quantum/ibm-q-lab-widgets",
      "model_module_version": "^1.0.3",
      "model_name": "CircuitComposerModel",
      "state": {
       "_model_module_version": "^1.0.3",
       "_view_module_version": "^1.0.3",
       "circuit": "\"OPENQASM 2.0;\\ninclude \\\"qelib1.inc\\\";\\n\\nqreg q[3];\\ncreg c[3];\\n\\nswap q[0],q[1];\\nz q[2];\"",
       "editable": true,
       "layout": "IPY_MODEL_3c34729028824a69ab2e3998c1c73b89",
       "qiskit_code_cell_index": 54
      }
     },
     "18b47e3100be465abf040e6e432af411": {
      "model_module": "@jupyter-widgets/base",
      "model_module_version": "1.2.0",
      "model_name": "LayoutModel",
      "state": {
       "width": "70px"
      }
     },
     "190ab006afe144f38c0f9abe87812c1c": {
      "model_module": "@jupyter-widgets/base",
      "model_module_version": "1.2.0",
      "model_name": "LayoutModel",
      "state": {}
     },
     "19a85304b4f2488fa6d1714369f1e0a9": {
      "model_module": "@quantum/ibm-q-lab-widgets",
      "model_module_version": "^1.0.3",
      "model_name": "CircuitComposerModel",
      "state": {
       "_model_module_version": "^1.0.3",
       "_view_module_version": "^1.0.3",
       "circuit": "\"OPENQASM 2.0;\\ninclude \\\"qelib1.inc\\\";\\n\\nqreg q[3];\\ncreg c[3];\\n\\n\"",
       "editable": true,
       "layout": "IPY_MODEL_be119dbd25db4e1bae2fc6935a3478a3",
       "qiskit_code_cell_index": -1
      }
     },
     "19b8d73ac1f749e09104efdee38f636f": {
      "model_module": "@jupyter-widgets/base",
      "model_module_version": "1.2.0",
      "model_name": "LayoutModel",
      "state": {
       "width": "190px"
      }
     },
     "1ae18da521ee4927b3438a6a5e76ba9e": {
      "model_module": "@jupyter-widgets/base",
      "model_module_version": "1.2.0",
      "model_name": "LayoutModel",
      "state": {
       "width": "95px"
      }
     },
     "1b3f60623c0e4faaa16c2594c6f052e5": {
      "model_module": "@jupyter-widgets/controls",
      "model_module_version": "1.5.0",
      "model_name": "GridBoxModel",
      "state": {
       "children": [
        "IPY_MODEL_c6ab8065cab84bf6b7252daeabe56432"
       ],
       "layout": "IPY_MODEL_90b0ee9a82e741008e8569543d914998"
      }
     },
     "1b72d96987b74aa880eebf6aabc2a993": {
      "model_module": "@jupyter-widgets/controls",
      "model_module_version": "1.5.0",
      "model_name": "HTMLModel",
      "state": {
       "layout": "IPY_MODEL_852c60eab2d74300b9014d1e064ccacc",
       "style": "IPY_MODEL_df04f5479d67433cb432e45f7a35cecb",
       "value": "<h5>Job ID</h5>"
      }
     },
     "1bb0bd14b17c43fdb984eb3c70c2cef6": {
      "model_module": "@jupyter-widgets/base",
      "model_module_version": "1.2.0",
      "model_name": "LayoutModel",
      "state": {}
     },
     "1bdc1f0e036e4e28b74d6d141034bfe8": {
      "model_module": "@quantum/ibm-q-lab-widgets",
      "model_module_version": "^1.0.3",
      "model_name": "CircuitComposerModel",
      "state": {
       "_model_module_version": "^1.0.3",
       "_view_module_version": "^1.0.3",
       "circuit": "\"OPENQASM 2.0;\\ninclude \\\"qelib1.inc\\\";\\n\\nqreg q[3];\\ncreg c[3];\\n\\n\"",
       "editable": true,
       "layout": "IPY_MODEL_3008efe61d4e4458a8deb713662f4e8e",
       "qiskit_code_cell_index": -1
      }
     },
     "1c050fce70034ed7bab1bc571055a895": {
      "model_module": "@jupyter-widgets/controls",
      "model_module_version": "1.5.0",
      "model_name": "HTMLModel",
      "state": {
       "layout": "IPY_MODEL_8b98c82060564483b39a625bdccd5376",
       "style": "IPY_MODEL_7da40d40aaf44de5bee9dde02e9d3ae5",
       "value": "<h5>Message</h5>"
      }
     },
     "1c24fea1d32d4a71ba72cbf8714c227a": {
      "model_module": "@jupyter-widgets/controls",
      "model_module_version": "1.5.0",
      "model_name": "HBoxModel",
      "state": {
       "children": [
        "IPY_MODEL_7699164cd69b4e62857010cdb8fb3518",
        "IPY_MODEL_f45e6270ee2c4f71adebd3df2cdcb121",
        "IPY_MODEL_7671f3bef82547df93b7ae2e1cbdba83",
        "IPY_MODEL_e14734f3924f4b55bdcc5b4bec5ed494",
        "IPY_MODEL_082ac8ac0fb84719beb14a8b36d507b7"
       ],
       "layout": "IPY_MODEL_c0460781e0ca4635a86044b535e74011"
      }
     },
     "1c3b669f5cb7414782648203af7c1ff7": {
      "model_module": "@jupyter-widgets/base",
      "model_module_version": "1.2.0",
      "model_name": "LayoutModel",
      "state": {}
     },
     "1c8068c149294210bb3ca556b2573ee4": {
      "model_module": "@jupyter-widgets/base",
      "model_module_version": "1.2.0",
      "model_name": "LayoutModel",
      "state": {
       "width": "70px"
      }
     },
     "1cba501f75bd4a2da9f0fbe8ce460347": {
      "model_module": "@quantum/ibm-q-lab-widgets",
      "model_module_version": "^1.0.3",
      "model_name": "CircuitComposerModel",
      "state": {
       "_model_module_version": "^1.0.3",
       "_view_module_version": "^1.0.3",
       "circuit": "\"OPENQASM 2.0;\\ninclude \\\"qelib1.inc\\\";\\n\\nqreg q4[3];\\ncreg c3[3];\\n\\ncx q4[1],q4[2];\\ncx q4[0],q4[2];\\nccx q4[0],q4[1],q4[2];\"",
       "editable": true,
       "layout": "IPY_MODEL_3e431b46e6564178a35fee7efc7bd715",
       "qiskit_code_cell_index": 47
      }
     },
     "1d98343600cd4098b9b788327fe207ff": {
      "model_module": "@jupyter-widgets/controls",
      "model_module_version": "1.5.0",
      "model_name": "HTMLModel",
      "state": {
       "layout": "IPY_MODEL_e7cc84e132ee485d935102b3c198d255",
       "style": "IPY_MODEL_71b76fdeebd543f2a86f657a6e7a31c9",
       "value": "<h5>Status</h5>"
      }
     },
     "1f31aa46a28643fbab939ce5970ead46": {
      "model_module": "@jupyter-widgets/controls",
      "model_module_version": "1.5.0",
      "model_name": "HTMLModel",
      "state": {
       "layout": "IPY_MODEL_19b8d73ac1f749e09104efdee38f636f",
       "style": "IPY_MODEL_31409a0d8ce24aa2809310106b643add",
       "value": "<h5>Job ID</h5>"
      }
     },
     "1fcda1a45e3e47b0b03746787b6eec9e": {
      "model_module": "@jupyter-widgets/controls",
      "model_module_version": "1.5.0",
      "model_name": "DescriptionStyleModel",
      "state": {
       "description_width": ""
      }
     },
     "205d43046c3a467fae0274b728c28fb7": {
      "model_module": "@jupyter-widgets/base",
      "model_module_version": "1.2.0",
      "model_name": "LayoutModel",
      "state": {
       "width": "70px"
      }
     },
     "2066912682fe43fa90445fe370a1da17": {
      "model_module": "@jupyter-widgets/controls",
      "model_module_version": "1.5.0",
      "model_name": "HTMLModel",
      "state": {
       "layout": "IPY_MODEL_0d31fd6aff07413bbc087ef5b2b80573",
       "style": "IPY_MODEL_aff87702f540424da09390ab205e01ae",
       "value": "<h5>Status</h5>"
      }
     },
     "20a1cc7a64da45599e25f0f717b7fa9b": {
      "model_module": "@jupyter-widgets/base",
      "model_module_version": "1.2.0",
      "model_name": "LayoutModel",
      "state": {}
     },
     "20ad527cae0742dcb69e548ff04ba59c": {
      "model_module": "@jupyter-widgets/controls",
      "model_module_version": "1.5.0",
      "model_name": "DescriptionStyleModel",
      "state": {
       "description_width": ""
      }
     },
     "2306d7980f53425ca9f65282852911db": {
      "model_module": "@quantum/ibm-q-lab-widgets",
      "model_module_version": "^1.0.3",
      "model_name": "CircuitComposerModel",
      "state": {
       "_model_module_version": "^1.0.3",
       "_view_module_version": "^1.0.3",
       "circuit": "\"OPENQASM 2.0;\\ninclude \\\"qelib1.inc\\\";\\n\\nqreg q[3];\\ncreg c[3];\\n\\n\"",
       "editable": true,
       "layout": "IPY_MODEL_53a3f392a64b4b16907ba5432fbd75ba",
       "qiskit_code_cell_index": -1
      }
     },
     "23179b1b37c14621b715b07cddce4ea6": {
      "model_module": "@jupyter-widgets/base",
      "model_module_version": "1.2.0",
      "model_name": "LayoutModel",
      "state": {}
     },
     "24b2811721fb477786959cc922d47fac": {
      "model_module": "@jupyter-widgets/base",
      "model_module_version": "1.2.0",
      "model_name": "LayoutModel",
      "state": {
       "grid_area": "right",
       "padding": "0px 0px 0px 0px",
       "width": "70px"
      }
     },
     "24c870a8c65440a78e05286f3b64f13f": {
      "model_module": "@jupyter-widgets/controls",
      "model_module_version": "1.5.0",
      "model_name": "HTMLModel",
      "state": {
       "layout": "IPY_MODEL_8ec78aac5d1449279de38faad5b8dd76",
       "style": "IPY_MODEL_7e216fc602244fb28f7b12c242a55747",
       "value": "<h5>Job ID</h5>"
      }
     },
     "25192d15e13a4389a20ff624c2705f55": {
      "model_module": "@jupyter-widgets/controls",
      "model_module_version": "1.5.0",
      "model_name": "HTMLModel",
      "state": {
       "layout": "IPY_MODEL_7fb7467660ba4818b224a760bf18d2d4",
       "style": "IPY_MODEL_00687b8b531246e18e62ef79ad5c6970",
       "value": "<h5>Backend</h5>"
      }
     },
     "258eae7128724a828fd604a4df2853d7": {
      "model_module": "@jupyter-widgets/base",
      "model_module_version": "1.2.0",
      "model_name": "LayoutModel",
      "state": {
       "margin": "0px 0px 0px 37px",
       "width": "600px"
      }
     },
     "25a2771bfc724c4485ce18e45e93e148": {
      "model_module": "@jupyter-widgets/base",
      "model_module_version": "1.2.0",
      "model_name": "LayoutModel",
      "state": {}
     },
     "264de026736c4158b88c260d5ad43c67": {
      "model_module": "@jupyter-widgets/base",
      "model_module_version": "1.2.0",
      "model_name": "LayoutModel",
      "state": {
       "grid_template_areas": "\n                                       \". . . . right \"\n                                        ",
       "grid_template_columns": "20% 20% 20% 20% 20%",
       "width": "100%"
      }
     },
     "26a0a8fe3fac4463b480b23e2ce39eba": {
      "model_module": "@jupyter-widgets/controls",
      "model_module_version": "1.5.0",
      "model_name": "HTMLModel",
      "state": {
       "layout": "IPY_MODEL_3ee74cc8d36c4e5391415f79be6aa2fd",
       "style": "IPY_MODEL_626bcbf09ded4e12afa57f4a476189b0",
       "value": "<p style='font-family: IBM Plex Sans, Arial, Helvetica, sans-serif; font-size: 20px; font-weight: medium;'>Circuit Properties</p>"
      }
     },
     "26ca92d21d6149828724dd6d4b588389": {
      "model_module": "@jupyter-widgets/controls",
      "model_module_version": "1.5.0",
      "model_name": "ButtonModel",
      "state": {
       "button_style": "primary",
       "description": "Clear",
       "layout": "IPY_MODEL_50b875d9ab2d4acaa815061f478fbf47",
       "style": "IPY_MODEL_b08b187f73454353a24f8751a6892126"
      }
     },
     "26cb2ef0ef144ba299224d37e4b427bd": {
      "model_module": "@jupyter-widgets/controls",
      "model_module_version": "1.5.0",
      "model_name": "DescriptionStyleModel",
      "state": {
       "description_width": ""
      }
     },
     "26cbbc69c88e4e8b83105bf0cdf77a86": {
      "model_module": "@jupyter-widgets/base",
      "model_module_version": "1.2.0",
      "model_name": "LayoutModel",
      "state": {}
     },
     "26e3aaa102d345c8ae70a39dbe56c7f1": {
      "model_module": "@jupyter-widgets/base",
      "model_module_version": "1.2.0",
      "model_name": "LayoutModel",
      "state": {
       "margin": "0px 0px 10px 0px"
      }
     },
     "275e96c24bb045cdaeb001306313a482": {
      "model_module": "@jupyter-widgets/base",
      "model_module_version": "1.2.0",
      "model_name": "LayoutModel",
      "state": {
       "margin": "0px 0px 10px 0px"
      }
     },
     "277b45ec464a4ee9b89fe8eadf3a2b15": {
      "model_module": "@quantum/ibm-q-lab-widgets",
      "model_module_version": "^1.0.3",
      "model_name": "CircuitComposerModel",
      "state": {
       "_model_module_version": "^1.0.3",
       "_view_module_version": "^1.0.3",
       "circuit": "\"OPENQASM 2.0;\\ninclude \\\"qelib1.inc\\\";\\n\\nqreg q[3];\\ncreg c[3];\\n\\n\"",
       "editable": true,
       "layout": "IPY_MODEL_020d9c6ddd9a4f4eaa95e3627f4f211e",
       "qiskit_code_cell_index": -1
      }
     },
     "27fc2fc7bab843b1b8386593140ca910": {
      "model_module": "@jupyter-widgets/base",
      "model_module_version": "1.2.0",
      "model_name": "LayoutModel",
      "state": {
       "width": "70px"
      }
     },
     "2853186d26fc4485bc9b3becd6b6d591": {
      "model_module": "@quantum/ibm-q-lab-widgets",
      "model_module_version": "^1.0.3",
      "model_name": "CircuitComposerModel",
      "state": {
       "_model_module_version": "^1.0.3",
       "_view_module_version": "^1.0.3",
       "circuit": "\"OPENQASM 2.0;\\ninclude \\\"qelib1.inc\\\";\\n\\nqreg q[3];\\ncreg c[3];\\n\\n\"",
       "editable": true,
       "layout": "IPY_MODEL_62c3c65bf4b641df91023a0da1721604",
       "qiskit_code_cell_index": -1
      }
     },
     "28774d699ac64c6f8080058a12362bb3": {
      "model_module": "@jupyter-widgets/controls",
      "model_module_version": "1.5.0",
      "model_name": "DescriptionStyleModel",
      "state": {
       "description_width": ""
      }
     },
     "28b34ea527e348f18b88558bdddc0e1b": {
      "model_module": "@jupyter-widgets/base",
      "model_module_version": "1.2.0",
      "model_name": "LayoutModel",
      "state": {
       "grid_template_areas": "\n                                       \". . . . right \"\n                                        ",
       "grid_template_columns": "20% 20% 20% 20% 20%",
       "width": "100%"
      }
     },
     "2a0fc29ac3d44f4c9b57e3851cffb1d1": {
      "model_module": "@jupyter-widgets/controls",
      "model_module_version": "1.5.0",
      "model_name": "HTMLModel",
      "state": {
       "layout": "IPY_MODEL_ff65bb72e7dd4615a2fd83de47a80910",
       "style": "IPY_MODEL_3e99420eef28485cb78daaf45616a10e",
       "value": "<h5>Backend</h5>"
      }
     },
     "2af0523c340145e1bfd0029d8ad6a853": {
      "model_module": "@quantum/ibm-q-lab-widgets",
      "model_module_version": "^1.0.3",
      "model_name": "CircuitComposerModel",
      "state": {
       "_model_module_version": "^1.0.3",
       "_view_module_version": "^1.0.3",
       "circuit": "\"OPENQASM 2.0;\\ninclude \\\"qelib1.inc\\\";\\n\\nqreg q[3];\\ncreg c[3];\\n\\nx q[0];\\nrz(pi/2) q[0];\\ncx q[2],q[1];\"",
       "editable": true,
       "layout": "IPY_MODEL_5ea9466bb7114fb085a065ae44e374e6",
       "qiskit_code_cell_index": 43
      }
     },
     "2afb6579aec34ebe93556f1b7df10c0b": {
      "model_module": "@jupyter-widgets/controls",
      "model_module_version": "1.5.0",
      "model_name": "HTMLModel",
      "state": {
       "layout": "IPY_MODEL_ec3d6cec43f64d109cce41e91a207abf",
       "style": "IPY_MODEL_90cd23bb0ffe4124af34bee073d37774",
       "value": "<p style='font-family: IBM Plex Sans, Arial, Helvetica, sans-serif; font-size: 20px; font-weight: medium;'>Circuit Properties</p>"
      }
     },
     "2b9798c62a184803ae701efa4c985337": {
      "model_module": "@jupyter-widgets/controls",
      "model_module_version": "1.5.0",
      "model_name": "HTMLModel",
      "state": {
       "layout": "IPY_MODEL_f41b6aa2f189400e9b216228b90a4ee3",
       "style": "IPY_MODEL_118b63139f6a449e91afa426c715f9ca",
       "value": "<h5>Status</h5>"
      }
     },
     "2c06893d8e4d4ab8bddea3ac23076c37": {
      "model_module": "@jupyter-widgets/base",
      "model_module_version": "1.2.0",
      "model_name": "LayoutModel",
      "state": {
       "margin": "0px 0px 10px 0px"
      }
     },
     "2cc38e474f8b4e2d92366b1db0afbdc0": {
      "model_module": "@jupyter-widgets/controls",
      "model_module_version": "1.5.0",
      "model_name": "HTMLModel",
      "state": {
       "layout": "IPY_MODEL_901433422340420db62e9ae3127d4235",
       "style": "IPY_MODEL_eaf2aee64d05485aa35ea40fab729616",
       "value": "<h5>Backend</h5>"
      }
     },
     "2d2ce5a6866c461ba81c12a2707933eb": {
      "model_module": "@jupyter-widgets/base",
      "model_module_version": "1.2.0",
      "model_name": "LayoutModel",
      "state": {
       "grid_template_areas": "\n                                       \". . . . right \"\n                                        ",
       "grid_template_columns": "20% 20% 20% 20% 20%",
       "width": "100%"
      }
     },
     "2d392305286b4fd8915177da73a938c6": {
      "model_module": "@quantum/ibm-q-lab-widgets",
      "model_module_version": "^1.0.3",
      "model_name": "CircuitComposerModel",
      "state": {
       "_model_module_version": "^1.0.3",
       "_view_module_version": "^1.0.3",
       "circuit": "\"OPENQASM 2.0;\\ninclude \\\"qelib1.inc\\\";\\n\\nqreg q[3];\\ncreg c[3];\\n\\n\"",
       "editable": true,
       "layout": "IPY_MODEL_396a31949c0b4ce6ac818e6b356eff07",
       "qiskit_code_cell_index": -1
      }
     },
     "2d9a5f3ecb7844d9a235518bf29aa502": {
      "model_module": "@jupyter-widgets/base",
      "model_module_version": "1.2.0",
      "model_name": "LayoutModel",
      "state": {}
     },
     "2dbfeffcb9814e2bb68f0a08f38d9b18": {
      "model_module": "@jupyter-widgets/controls",
      "model_module_version": "1.5.0",
      "model_name": "ButtonStyleModel",
      "state": {}
     },
     "2dc5151d292d44f3bee2dd4cba36ec92": {
      "model_module": "@jupyter-widgets/controls",
      "model_module_version": "1.5.0",
      "model_name": "ButtonStyleModel",
      "state": {}
     },
     "2eaa8833e44744439a072efced3f32ae": {
      "model_module": "@jupyter-widgets/controls",
      "model_module_version": "1.5.0",
      "model_name": "ButtonModel",
      "state": {
       "button_style": "primary",
       "description": "Clear",
       "layout": "IPY_MODEL_30e5e068668a4af9ae3f5e9510ba4cf9",
       "style": "IPY_MODEL_c2e484c5d6af4da2983d5d54c1f28343"
      }
     },
     "2eb21c61c63d4abc806bb17d0afddd9e": {
      "model_module": "@jupyter-widgets/controls",
      "model_module_version": "1.5.0",
      "model_name": "DescriptionStyleModel",
      "state": {
       "description_width": ""
      }
     },
     "2fa82dae3b0b44c7b106fa28f21631bc": {
      "model_module": "@jupyter-widgets/controls",
      "model_module_version": "1.5.0",
      "model_name": "DescriptionStyleModel",
      "state": {
       "description_width": ""
      }
     },
     "3008efe61d4e4458a8deb713662f4e8e": {
      "model_module": "@jupyter-widgets/base",
      "model_module_version": "1.2.0",
      "model_name": "LayoutModel",
      "state": {}
     },
     "30488cbcf7d34bae82270607d5513607": {
      "model_module": "@jupyter-widgets/base",
      "model_module_version": "1.2.0",
      "model_name": "LayoutModel",
      "state": {
       "width": "190px"
      }
     },
     "30ba74b5cbbe4c95b5c8afb17631bc86": {
      "model_module": "@jupyter-widgets/base",
      "model_module_version": "1.2.0",
      "model_name": "LayoutModel",
      "state": {
       "width": "190px"
      }
     },
     "30e5e068668a4af9ae3f5e9510ba4cf9": {
      "model_module": "@jupyter-widgets/base",
      "model_module_version": "1.2.0",
      "model_name": "LayoutModel",
      "state": {
       "grid_area": "right",
       "padding": "0px 0px 0px 0px",
       "width": "70px"
      }
     },
     "3108dd9dff1948ecae64c2103780cd4e": {
      "model_module": "@quantum/ibm-q-lab-widgets",
      "model_module_version": "^1.0.3",
      "model_name": "CircuitComposerModel",
      "state": {
       "_model_module_version": "^1.0.3",
       "_view_module_version": "^1.0.3",
       "circuit": "\"OPENQASM 2.0;\\ninclude \\\"qelib1.inc\\\";\\n\\nqreg q33[3];\\ncreg c4[3];\\n\\ncx q33[1],q33[2];\\ncx q33[0],q33[2];\\nccx q33[0],q33[1],q33[2];\\nmeasure q33[2] -> c4[0];\"",
       "editable": true,
       "layout": "IPY_MODEL_85525067dff94970af9dd5e04b5d4f95",
       "qiskit_code_cell_index": -1
      }
     },
     "31409a0d8ce24aa2809310106b643add": {
      "model_module": "@jupyter-widgets/controls",
      "model_module_version": "1.5.0",
      "model_name": "DescriptionStyleModel",
      "state": {
       "description_width": ""
      }
     },
     "3260ea3536cd441184144a0e2ec4488a": {
      "model_module": "@jupyter-widgets/base",
      "model_module_version": "1.2.0",
      "model_name": "LayoutModel",
      "state": {
       "grid_template_areas": "\n                                       \". . . . right \"\n                                        ",
       "grid_template_columns": "20% 20% 20% 20% 20%",
       "width": "100%"
      }
     },
     "3288d28e9f454327bb9deae1d3dbae2d": {
      "model_module": "@quantum/ibm-q-lab-widgets",
      "model_module_version": "^1.0.3",
      "model_name": "CircuitComposerModel",
      "state": {
       "_model_module_version": "^1.0.3",
       "_view_module_version": "^1.0.3",
       "circuit": "\"OPENQASM 2.0;\\ninclude \\\"qelib1.inc\\\";\\n\\nqreg q[3];\\ncreg c[3];\\n\\n\"",
       "editable": true,
       "layout": "IPY_MODEL_3299c8aa5bbc411db8ff1c07f3821d84",
       "qiskit_code_cell_index": -1
      }
     },
     "3299c8aa5bbc411db8ff1c07f3821d84": {
      "model_module": "@jupyter-widgets/base",
      "model_module_version": "1.2.0",
      "model_name": "LayoutModel",
      "state": {}
     },
     "32f919e0f5134760a9df0d89d2e77b51": {
      "model_module": "@jupyter-widgets/controls",
      "model_module_version": "1.5.0",
      "model_name": "ButtonModel",
      "state": {
       "button_style": "primary",
       "description": "Clear",
       "layout": "IPY_MODEL_b6762a63f86c494393bc4024ef5d6ec7",
       "style": "IPY_MODEL_89aa7532228f44319c6b71354eb29dd3"
      }
     },
     "331e3257365741db8def52287f2769b5": {
      "model_module": "@jupyter-widgets/controls",
      "model_module_version": "1.5.0",
      "model_name": "ButtonModel",
      "state": {
       "button_style": "primary",
       "description": "Clear",
       "layout": "IPY_MODEL_09e29575306f418b92d9a2c28662e772",
       "style": "IPY_MODEL_7f7ec52f7c9d43d683e3bf46d5b8af28"
      }
     },
     "3326f789e1454d848be17beeadad59cd": {
      "model_module": "@jupyter-widgets/base",
      "model_module_version": "1.2.0",
      "model_name": "LayoutModel",
      "state": {
       "width": "190px"
      }
     },
     "332b33d947fe4fe1824bea4d9e54d7fd": {
      "model_module": "@jupyter-widgets/controls",
      "model_module_version": "1.5.0",
      "model_name": "HTMLModel",
      "state": {
       "layout": "IPY_MODEL_6c9e2fcaa9a94d0aa61975a91a432150",
       "style": "IPY_MODEL_776b4b70a59846898f102ac3e50852a2",
       "value": "<h5>Backend</h5>"
      }
     },
     "338a750d86c34cd6842713614c3f386c": {
      "model_module": "@jupyter-widgets/base",
      "model_module_version": "1.2.0",
      "model_name": "LayoutModel",
      "state": {
       "margin": "0px 0px 0px 37px",
       "width": "600px"
      }
     },
     "33e5c437cd6949e4b1fc9b6de04f30af": {
      "model_module": "@jupyter-widgets/base",
      "model_module_version": "1.2.0",
      "model_name": "LayoutModel",
      "state": {}
     },
     "3420bbc7352f48d4a23dadc9ba0df71a": {
      "model_module": "@quantum/ibm-q-lab-widgets",
      "model_module_version": "^1.0.3",
      "model_name": "CircuitComposerModel",
      "state": {
       "_model_module_version": "^1.0.3",
       "_view_module_version": "^1.0.3",
       "circuit": "\"OPENQASM 2.0;\\ninclude \\\"qelib1.inc\\\";\\n\\nqreg q[3];\\ncreg c[3];\\n\\n\"",
       "editable": true,
       "layout": "IPY_MODEL_e99a25578a3a413ab0b267672b43f72b",
       "qiskit_code_cell_index": -1
      }
     },
     "3550cd9a049f480f8b952c93869e96e2": {
      "model_module": "@jupyter-widgets/controls",
      "model_module_version": "1.5.0",
      "model_name": "ButtonStyleModel",
      "state": {}
     },
     "36321f592adf424e8904aba14040ce4d": {
      "model_module": "@quantum/ibm-q-lab-widgets",
      "model_module_version": "^1.0.3",
      "model_name": "CircuitComposerModel",
      "state": {
       "_model_module_version": "^1.0.3",
       "_view_module_version": "^1.0.3",
       "circuit": "\"OPENQASM 2.0;\\ninclude \\\"qelib1.inc\\\";\\n\\nqreg q[3];\\ncreg c[3];\\n\\n\"",
       "editable": true,
       "layout": "IPY_MODEL_a116878984b741f7ac6690e44f038947",
       "qiskit_code_cell_index": -1
      }
     },
     "37b7d129f94342e1abcce40399056637": {
      "model_module": "@jupyter-widgets/base",
      "model_module_version": "1.2.0",
      "model_name": "LayoutModel",
      "state": {}
     },
     "37d358e0a49f4aa5875f775a31a84858": {
      "model_module": "@jupyter-widgets/controls",
      "model_module_version": "1.5.0",
      "model_name": "HTMLModel",
      "state": {
       "layout": "IPY_MODEL_a8af894664164b2e82c73d8bd47c7485",
       "style": "IPY_MODEL_905541cbe239467da30cbd81517e9772",
       "value": "<p style='font-family: IBM Plex Sans, Arial, Helvetica, sans-serif; font-size: 20px; font-weight: medium;'>Circuit Properties</p>"
      }
     },
     "381788a926d744ae8cb7edf5993b71d5": {
      "model_module": "@quantum/ibm-q-lab-widgets",
      "model_module_version": "^1.0.3",
      "model_name": "CircuitComposerModel",
      "state": {
       "_model_module_version": "^1.0.3",
       "_view_module_version": "^1.0.3",
       "circuit": "\"OPENQASM 2.0;\\ninclude \\\"qelib1.inc\\\";\\n\\nqreg q[3];\\ncreg c[3];\\n\\nswap q[0],q[1];\\nz q[2];\"",
       "editable": true,
       "layout": "IPY_MODEL_dd55d56845324b43a32881e7e6333e38",
       "qiskit_code_cell_index": -1
      }
     },
     "385ab6ea8d9f401ab85b126425aef694": {
      "model_module": "@jupyter-widgets/base",
      "model_module_version": "1.2.0",
      "model_name": "LayoutModel",
      "state": {
       "width": "145px"
      }
     },
     "396a31949c0b4ce6ac818e6b356eff07": {
      "model_module": "@jupyter-widgets/base",
      "model_module_version": "1.2.0",
      "model_name": "LayoutModel",
      "state": {}
     },
     "398571c7156041b5bdbebc3b04974e2f": {
      "model_module": "@jupyter-widgets/controls",
      "model_module_version": "1.5.0",
      "model_name": "GridBoxModel",
      "state": {
       "children": [
        "IPY_MODEL_fd9e1e3b36b04bf191eb9f11ed9fba6e"
       ],
       "layout": "IPY_MODEL_058c0ab1f10246ce985c0d6923f85ea6"
      }
     },
     "3b141f3d89894c2e8dd2ef7ebd183fed": {
      "model_module": "@jupyter-widgets/base",
      "model_module_version": "1.2.0",
      "model_name": "LayoutModel",
      "state": {
       "width": "190px"
      }
     },
     "3b9a86da9f5240df818956e4fb25e041": {
      "model_module": "@jupyter-widgets/controls",
      "model_module_version": "1.5.0",
      "model_name": "DescriptionStyleModel",
      "state": {
       "description_width": ""
      }
     },
     "3b9ee684c0b444be9b23282f91770fcf": {
      "model_module": "@quantum/ibm-q-lab-widgets",
      "model_module_version": "^1.0.3",
      "model_name": "CircuitComposerModel",
      "state": {
       "_model_module_version": "^1.0.3",
       "_view_module_version": "^1.0.3",
       "circuit": "\"OPENQASM 2.0;\\ninclude \\\"qelib1.inc\\\";\\n\\nqreg q[3];\\ncreg c[3];\\n\\ncx q[1],q[0];\\ncx q[0],q[1];\\ncx q[1],q[0];\\ncx q[2],q[1];\\nrz(pi) q[2];\"",
       "editable": true,
       "layout": "IPY_MODEL_4261461ae4cc4835a4c7277f6ca7de3f",
       "qiskit_code_cell_index": 44
      }
     },
     "3c34729028824a69ab2e3998c1c73b89": {
      "model_module": "@jupyter-widgets/base",
      "model_module_version": "1.2.0",
      "model_name": "LayoutModel",
      "state": {}
     },
     "3c7db4d0f27f4603bbd9303ab4cc6ea6": {
      "model_module": "@jupyter-widgets/controls",
      "model_module_version": "1.5.0",
      "model_name": "HTMLModel",
      "state": {
       "layout": "IPY_MODEL_071b8b592b2b4ba987a324d459eeb994",
       "style": "IPY_MODEL_a7e387ce624b4fdd927af7426dbf7025",
       "value": "<p style='font-family: IBM Plex Sans, Arial, Helvetica, sans-serif; font-size: 20px; font-weight: medium;'>Circuit Properties</p>"
      }
     },
     "3d1f573966184a569534b055061790af": {
      "model_module": "@quantum/ibm-q-lab-widgets",
      "model_module_version": "^1.0.3",
      "model_name": "CircuitComposerModel",
      "state": {
       "_model_module_version": "^1.0.3",
       "_view_module_version": "^1.0.3",
       "circuit": "\"OPENQASM 2.0;\\ninclude \\\"qelib1.inc\\\";\\n\\nqreg q[3];\\ncreg c[3];\\n\\n\"",
       "editable": true,
       "layout": "IPY_MODEL_5eb85f37ded7402f93252122f2ef5c20",
       "qiskit_code_cell_index": -1
      }
     },
     "3d62cadf9a5f465d9583cda6d521b504": {
      "model_module": "@jupyter-widgets/controls",
      "model_module_version": "1.5.0",
      "model_name": "DescriptionStyleModel",
      "state": {
       "description_width": ""
      }
     },
     "3e174dd3d8544ac88043f17a5ecc8500": {
      "model_module": "@jupyter-widgets/controls",
      "model_module_version": "1.5.0",
      "model_name": "HTMLModel",
      "state": {
       "layout": "IPY_MODEL_6f05f9fe4c734814ae7c24818dd8c8e4",
       "style": "IPY_MODEL_d00d6210a81d40af8b725a661b8be93b",
       "value": "<h5>Job ID</h5>"
      }
     },
     "3e431b46e6564178a35fee7efc7bd715": {
      "model_module": "@jupyter-widgets/base",
      "model_module_version": "1.2.0",
      "model_name": "LayoutModel",
      "state": {}
     },
     "3e89aebbd7284b79a0481c5b3284a03c": {
      "model_module": "@jupyter-widgets/base",
      "model_module_version": "1.2.0",
      "model_name": "LayoutModel",
      "state": {}
     },
     "3e99420eef28485cb78daaf45616a10e": {
      "model_module": "@jupyter-widgets/controls",
      "model_module_version": "1.5.0",
      "model_name": "DescriptionStyleModel",
      "state": {
       "description_width": ""
      }
     },
     "3ee74cc8d36c4e5391415f79be6aa2fd": {
      "model_module": "@jupyter-widgets/base",
      "model_module_version": "1.2.0",
      "model_name": "LayoutModel",
      "state": {
       "margin": "0px 0px 10px 0px"
      }
     },
     "3fb4a8913a5049b09d3d417371eccb3c": {
      "model_module": "@jupyter-widgets/base",
      "model_module_version": "1.2.0",
      "model_name": "LayoutModel",
      "state": {}
     },
     "40201056b9a044548deb5e4729fe30b3": {
      "model_module": "@jupyter-widgets/controls",
      "model_module_version": "1.5.0",
      "model_name": "HBoxModel",
      "state": {
       "children": [
        "IPY_MODEL_abfb4fc29dd1406cbbb7f5b53d45638f",
        "IPY_MODEL_bcdb4f764418464d876656ff47969d41",
        "IPY_MODEL_d78743e18e6b47308381f245818f1dd5",
        "IPY_MODEL_b2a697572d834a1e92bfd7109dd150e0",
        "IPY_MODEL_0a0e1409d8fc4c22be026b67930a0cd4"
       ],
       "layout": "IPY_MODEL_4338c0483ad74d4fb6419f99e522d6d4"
      }
     },
     "40a9e1e7c0a54ca0b3482f31af76b784": {
      "model_module": "@jupyter-widgets/controls",
      "model_module_version": "1.5.0",
      "model_name": "DescriptionStyleModel",
      "state": {
       "description_width": ""
      }
     },
     "40b07e1e3e7b4e3d8391b6d150fc0201": {
      "model_module": "@jupyter-widgets/base",
      "model_module_version": "1.2.0",
      "model_name": "LayoutModel",
      "state": {}
     },
     "40efb9a1549147f1ad1f826f3d7905f6": {
      "model_module": "@jupyter-widgets/base",
      "model_module_version": "1.2.0",
      "model_name": "LayoutModel",
      "state": {
       "width": "145px"
      }
     },
     "4146d2fcd85546fc9db4d0543d650431": {
      "model_module": "@jupyter-widgets/base",
      "model_module_version": "1.2.0",
      "model_name": "LayoutModel",
      "state": {
       "grid_template_areas": "\n                                       \". . . . right \"\n                                        ",
       "grid_template_columns": "20% 20% 20% 20% 20%",
       "width": "100%"
      }
     },
     "414a1068e8f64ea38065b2c17a5219bb": {
      "model_module": "@jupyter-widgets/base",
      "model_module_version": "1.2.0",
      "model_name": "LayoutModel",
      "state": {
       "grid_template_areas": "\n                                       \". . . . right \"\n                                        ",
       "grid_template_columns": "20% 20% 20% 20% 20%",
       "width": "100%"
      }
     },
     "4261461ae4cc4835a4c7277f6ca7de3f": {
      "model_module": "@jupyter-widgets/base",
      "model_module_version": "1.2.0",
      "model_name": "LayoutModel",
      "state": {}
     },
     "42dbbbccda4d499694c43f824f861d75": {
      "model_module": "@quantum/ibm-q-lab-widgets",
      "model_module_version": "^1.0.3",
      "model_name": "CircuitComposerModel",
      "state": {
       "_model_module_version": "^1.0.3",
       "_view_module_version": "^1.0.3",
       "circuit": "\"OPENQASM 2.0;\\ninclude \\\"qelib1.inc\\\";\\n\\nqreg q[3];\\ncreg c[3];\\n\\n\"",
       "editable": true,
       "layout": "IPY_MODEL_ed9909234c0b4720b1ef938213c784b5",
       "qiskit_code_cell_index": -1
      }
     },
     "42f3b30f55f64d82b1c6439cd4367cb8": {
      "model_module": "@jupyter-widgets/base",
      "model_module_version": "1.2.0",
      "model_name": "LayoutModel",
      "state": {}
     },
     "4338c0483ad74d4fb6419f99e522d6d4": {
      "model_module": "@jupyter-widgets/base",
      "model_module_version": "1.2.0",
      "model_name": "LayoutModel",
      "state": {
       "margin": "0px 0px 0px 37px",
       "width": "600px"
      }
     },
     "4347878a5164474f8caad7c3568100b4": {
      "model_module": "@quantum/ibm-q-lab-widgets",
      "model_module_version": "^1.0.3",
      "model_name": "CircuitComposerModel",
      "state": {
       "_model_module_version": "^1.0.3",
       "_view_module_version": "^1.0.3",
       "circuit": "\"OPENQASM 2.0;\\ninclude \\\"qelib1.inc\\\";\\n\\nqreg q[3];\\ncreg c[3];\\n\\n\"",
       "editable": true,
       "layout": "IPY_MODEL_647adaf252504ebb89f5ac424e82288b",
       "qiskit_code_cell_index": -1
      }
     },
     "437750a22d3f469f91ab47ad757e2a45": {
      "model_module": "@jupyter-widgets/base",
      "model_module_version": "1.2.0",
      "model_name": "LayoutModel",
      "state": {
       "width": "95px"
      }
     },
     "4400777ab0fe475b8bf004b489e25a8a": {
      "model_module": "@jupyter-widgets/base",
      "model_module_version": "1.2.0",
      "model_name": "LayoutModel",
      "state": {
       "margin": "0px 0px 0px 37px",
       "width": "600px"
      }
     },
     "4434f9bbf9164c36a5948c834c777739": {
      "model_module": "@jupyter-widgets/base",
      "model_module_version": "1.2.0",
      "model_name": "LayoutModel",
      "state": {
       "margin": "0px 0px 0px 37px",
       "width": "600px"
      }
     },
     "445317bcd81a4c328824dea9ff477ed7": {
      "model_module": "@jupyter-widgets/base",
      "model_module_version": "1.2.0",
      "model_name": "LayoutModel",
      "state": {
       "grid_template_areas": "\n                                       \". . . . right \"\n                                        ",
       "grid_template_columns": "20% 20% 20% 20% 20%",
       "width": "100%"
      }
     },
     "44a79fd77b9e477684de365174366130": {
      "model_module": "@jupyter-widgets/base",
      "model_module_version": "1.2.0",
      "model_name": "LayoutModel",
      "state": {}
     },
     "44c3084221074279a1fe65621ffec4c0": {
      "model_module": "@jupyter-widgets/controls",
      "model_module_version": "1.5.0",
      "model_name": "HTMLModel",
      "state": {
       "layout": "IPY_MODEL_20a1cc7a64da45599e25f0f717b7fa9b",
       "style": "IPY_MODEL_20ad527cae0742dcb69e548ff04ba59c",
       "value": "<h5>Message</h5>"
      }
     },
     "44f669391a4d42b282d9bf437d5305d0": {
      "model_module": "@jupyter-widgets/controls",
      "model_module_version": "1.5.0",
      "model_name": "HTMLModel",
      "state": {
       "layout": "IPY_MODEL_bfb91f9f217844568337ce77202b67bc",
       "style": "IPY_MODEL_0bea43da5d56445a88974e61b66c52be",
       "value": "<h5>Job ID</h5>"
      }
     },
     "458b76229ac9466a93968d7ac98a73a7": {
      "model_module": "@jupyter-widgets/controls",
      "model_module_version": "1.5.0",
      "model_name": "DescriptionStyleModel",
      "state": {
       "description_width": ""
      }
     },
     "45c8857a37a24a34ad5810c13d23651b": {
      "model_module": "@jupyter-widgets/controls",
      "model_module_version": "1.5.0",
      "model_name": "HTMLModel",
      "state": {
       "layout": "IPY_MODEL_01c879086b934219b29d792417520512",
       "style": "IPY_MODEL_95d604d7edcc461ab11870eea046e295",
       "value": "<h5>Backend</h5>"
      }
     },
     "467754524cdf4049b19bd6ea03eca647": {
      "model_module": "@jupyter-widgets/controls",
      "model_module_version": "1.5.0",
      "model_name": "DescriptionStyleModel",
      "state": {
       "description_width": ""
      }
     },
     "4700a02cfb7b4ac39225242433cd7711": {
      "model_module": "@jupyter-widgets/controls",
      "model_module_version": "1.5.0",
      "model_name": "HTMLModel",
      "state": {
       "layout": "IPY_MODEL_30ba74b5cbbe4c95b5c8afb17631bc86",
       "style": "IPY_MODEL_07fd227e7fcf4dd1860ffb8ebd34b4d2",
       "value": "<h5>Job ID</h5>"
      }
     },
     "481e565624ec4cd2b0b9af63e6c7958e": {
      "model_module": "@jupyter-widgets/base",
      "model_module_version": "1.2.0",
      "model_name": "LayoutModel",
      "state": {}
     },
     "48b56f32910541c1999e1ccaef3d090c": {
      "model_module": "@jupyter-widgets/controls",
      "model_module_version": "1.5.0",
      "model_name": "DescriptionStyleModel",
      "state": {
       "description_width": ""
      }
     },
     "4a470e12eac549b9a75888e6eb387d0b": {
      "model_module": "@quantum/ibm-q-lab-widgets",
      "model_module_version": "^1.0.3",
      "model_name": "CircuitComposerModel",
      "state": {
       "_model_module_version": "^1.0.3",
       "_view_module_version": "^1.0.3",
       "circuit": "\"OPENQASM 2.0;\\ninclude \\\"qelib1.inc\\\";\\n\\nqreg q[3];\\ncreg c[3];\\n\\n\"",
       "editable": true,
       "layout": "IPY_MODEL_481e565624ec4cd2b0b9af63e6c7958e",
       "qiskit_code_cell_index": -1
      }
     },
     "4a5cfb75bcf9448d87e0f33ed9eb18a0": {
      "model_module": "@quantum/ibm-q-lab-widgets",
      "model_module_version": "^1.0.3",
      "model_name": "CircuitComposerModel",
      "state": {
       "_model_module_version": "^1.0.3",
       "_view_module_version": "^1.0.3",
       "circuit": "\"OPENQASM 2.0;\\ninclude \\\"qelib1.inc\\\";\\n\\nqreg q[3];\\ncreg c[3];\\n\\n\"",
       "editable": true,
       "layout": "IPY_MODEL_25a2771bfc724c4485ce18e45e93e148",
       "qiskit_code_cell_index": -1
      }
     },
     "4b884917539c49feaf716e2f58ae1bb3": {
      "model_module": "@jupyter-widgets/controls",
      "model_module_version": "1.5.0",
      "model_name": "HTMLModel",
      "state": {
       "layout": "IPY_MODEL_0c6085a10676474d9df1193395266c46",
       "style": "IPY_MODEL_af50ed8c616640dda8dfe43cd971e526",
       "value": "<h5>Message</h5>"
      }
     },
     "4c5850b093234f35bf5afe995313fe91": {
      "model_module": "@jupyter-widgets/base",
      "model_module_version": "1.2.0",
      "model_name": "LayoutModel",
      "state": {}
     },
     "4d698ff3886446f2ad8fbbb4f76fbd02": {
      "model_module": "@quantum/ibm-q-lab-widgets",
      "model_module_version": "^1.0.3",
      "model_name": "CircuitComposerModel",
      "state": {
       "_model_module_version": "^1.0.3",
       "_view_module_version": "^1.0.3",
       "circuit": "\"OPENQASM 2.0;\\ninclude \\\"qelib1.inc\\\";\\n\\nqreg q[3];\\ncreg c[3];\\n\\n\"",
       "editable": true,
       "layout": "IPY_MODEL_f6e003da05d349118f38ae2a64663871",
       "qiskit_code_cell_index": -1
      }
     },
     "4eb2200cb71e4110bfe473b01ae616bf": {
      "model_module": "@jupyter-widgets/controls",
      "model_module_version": "1.5.0",
      "model_name": "HTMLModel",
      "state": {
       "layout": "IPY_MODEL_854dd58f9d564fc5a8a9ed09aaf3c44d",
       "style": "IPY_MODEL_d51d581f462e44dc8ffa1f3664a2b073",
       "value": "<h5>Job ID</h5>"
      }
     },
     "4f5a6b0a58964ec39418de154fe26573": {
      "model_module": "@jupyter-widgets/base",
      "model_module_version": "1.2.0",
      "model_name": "LayoutModel",
      "state": {}
     },
     "4feea1f6171c4620a320bcc5948a5636": {
      "model_module": "@jupyter-widgets/base",
      "model_module_version": "1.2.0",
      "model_name": "LayoutModel",
      "state": {}
     },
     "4ff1b32437774bbbae4e9a5e0650e8a1": {
      "model_module": "@jupyter-widgets/base",
      "model_module_version": "1.2.0",
      "model_name": "LayoutModel",
      "state": {}
     },
     "50091921f7684addb5afd14d51d0de14": {
      "model_module": "@jupyter-widgets/base",
      "model_module_version": "1.2.0",
      "model_name": "LayoutModel",
      "state": {}
     },
     "5074afc2233b4d4cb75e214f5415ad78": {
      "model_module": "@jupyter-widgets/controls",
      "model_module_version": "1.5.0",
      "model_name": "DescriptionStyleModel",
      "state": {
       "description_width": ""
      }
     },
     "50b875d9ab2d4acaa815061f478fbf47": {
      "model_module": "@jupyter-widgets/base",
      "model_module_version": "1.2.0",
      "model_name": "LayoutModel",
      "state": {
       "grid_area": "right",
       "padding": "0px 0px 0px 0px",
       "width": "70px"
      }
     },
     "50dfd93bae63492d84ad39f8f3cbed18": {
      "model_module": "@jupyter-widgets/controls",
      "model_module_version": "1.5.0",
      "model_name": "DescriptionStyleModel",
      "state": {
       "description_width": ""
      }
     },
     "512ecf2552b446b09dd0d4623e53676f": {
      "model_module": "@jupyter-widgets/base",
      "model_module_version": "1.2.0",
      "model_name": "LayoutModel",
      "state": {}
     },
     "5158b4f4b69c4af89080e709bc5a3a2f": {
      "model_module": "@jupyter-widgets/controls",
      "model_module_version": "1.5.0",
      "model_name": "DescriptionStyleModel",
      "state": {
       "description_width": ""
      }
     },
     "51cd6436bd0f4612b7e5a3cd267f5a7f": {
      "model_module": "@jupyter-widgets/controls",
      "model_module_version": "1.5.0",
      "model_name": "HTMLModel",
      "state": {
       "layout": "IPY_MODEL_a9483f14f95c4d539945ca3e77071d62",
       "style": "IPY_MODEL_d54997dae4d54069b5bc9b180de4abb7",
       "value": "<h5>Message</h5>"
      }
     },
     "522abd193d5143a6bd304bb1f5073fa0": {
      "model_module": "@jupyter-widgets/base",
      "model_module_version": "1.2.0",
      "model_name": "LayoutModel",
      "state": {
       "width": "70px"
      }
     },
     "5238da7ddc1e4b659a3feb351eb7b3d4": {
      "model_module": "@jupyter-widgets/controls",
      "model_module_version": "1.5.0",
      "model_name": "DescriptionStyleModel",
      "state": {
       "description_width": ""
      }
     },
     "524573dfc9b3457eb1fc65d94bd5cc19": {
      "model_module": "@quantum/ibm-q-lab-widgets",
      "model_module_version": "^1.0.3",
      "model_name": "CircuitComposerModel",
      "state": {
       "_model_module_version": "^1.0.3",
       "_view_module_version": "^1.0.3",
       "circuit": "\"OPENQASM 2.0;\\ninclude \\\"qelib1.inc\\\";\\n\\nqreg q29[3];\\ncreg c2[3];\\n\\ncx q29[1],q29[2];\\ncx q29[0],q29[2];\\nccx q29[0],q29[1],q29[2];\\nmeasure q29[2] -> c2[0];\"",
       "editable": true,
       "layout": "IPY_MODEL_a4b896b34a244855abd723ca174724cf",
       "qiskit_code_cell_index": -1
      }
     },
     "52b7a4d861f34d46b947838bca90c284": {
      "model_module": "@jupyter-widgets/base",
      "model_module_version": "1.2.0",
      "model_name": "LayoutModel",
      "state": {}
     },
     "5397602ae19945cc87c98b7979157887": {
      "model_module": "@quantum/ibm-q-lab-widgets",
      "model_module_version": "^1.0.3",
      "model_name": "CircuitComposerModel",
      "state": {
       "_model_module_version": "^1.0.3",
       "_view_module_version": "^1.0.3",
       "circuit": "\"OPENQASM 2.0;\\ninclude \\\"qelib1.inc\\\";\\n\\nqreg q[3];\\ncreg c[1];\\n\\ncx q[1],q[2];\\ncx q[0],q[2];\\nccx q[0],q[1],q[2];\\nmeasure q[2] -> c[0];\"",
       "editable": true,
       "layout": "IPY_MODEL_927c44444373442faf088984ed5a3878",
       "qiskit_code_cell_index": -1
      }
     },
     "539edb2fa7d64f7d8fc82c8a6c9ca8f8": {
      "model_module": "@jupyter-widgets/controls",
      "model_module_version": "1.5.0",
      "model_name": "DescriptionStyleModel",
      "state": {
       "description_width": ""
      }
     },
     "53a3f392a64b4b16907ba5432fbd75ba": {
      "model_module": "@jupyter-widgets/base",
      "model_module_version": "1.2.0",
      "model_name": "LayoutModel",
      "state": {}
     },
     "548e972a51da40e59bfaef01d57be088": {
      "model_module": "@quantum/ibm-q-lab-widgets",
      "model_module_version": "^1.0.3",
      "model_name": "CircuitComposerModel",
      "state": {
       "_model_module_version": "^1.0.3",
       "_view_module_version": "^1.0.3",
       "circuit": "\"OPENQASM 2.0;\\ninclude \\\"qelib1.inc\\\";\\n\\nqreg q[3];\\ncreg c[3];\\n\\nswap q[0],q[1];\\nz q[2];\"",
       "editable": true,
       "layout": "IPY_MODEL_faab740a976848f08ac890a0120e954c",
       "qiskit_code_cell_index": -1
      }
     },
     "54efbfd8da3447b3b19543ec279e915b": {
      "model_module": "@jupyter-widgets/controls",
      "model_module_version": "1.5.0",
      "model_name": "HTMLModel",
      "state": {
       "layout": "IPY_MODEL_e63ca0a4b446490daf05d3f795cd346e",
       "style": "IPY_MODEL_d813abd4f19d43f4a5a0dffecb2f433a",
       "value": "<h5>Job ID</h5>"
      }
     },
     "55f86eb388c2442283628ff2043c9385": {
      "model_module": "@jupyter-widgets/controls",
      "model_module_version": "1.5.0",
      "model_name": "HBoxModel",
      "state": {
       "children": [
        "IPY_MODEL_14e8c2acb28b48479a3f576feb0c0a75",
        "IPY_MODEL_b5cf49e4ff684a9db08840ab0a980035",
        "IPY_MODEL_5d4b99b53a55436db64f13abe8ed4bf4",
        "IPY_MODEL_d0de14d57e3d4a6ca32e7bc02a805600",
        "IPY_MODEL_c2c9c6b295d843cba77b4835e43fec85"
       ],
       "layout": "IPY_MODEL_59a5b35ab93e4224afa2ecac49171bdf"
      }
     },
     "5617775f6e0240b0bafd6c591c590c2e": {
      "model_module": "@jupyter-widgets/base",
      "model_module_version": "1.2.0",
      "model_name": "LayoutModel",
      "state": {}
     },
     "56fb45c8fe2f429e86a11e69e17f6b5c": {
      "model_module": "@jupyter-widgets/base",
      "model_module_version": "1.2.0",
      "model_name": "LayoutModel",
      "state": {
       "width": "95px"
      }
     },
     "57e0ccc3cf694508933fdb6e66835851": {
      "model_module": "@jupyter-widgets/base",
      "model_module_version": "1.2.0",
      "model_name": "LayoutModel",
      "state": {}
     },
     "57f63cc55b194c82bf9fd4d3751cc7f6": {
      "model_module": "@jupyter-widgets/base",
      "model_module_version": "1.2.0",
      "model_name": "LayoutModel",
      "state": {
       "margin": "0px 0px 10px 0px"
      }
     },
     "58dc1b9b38d24ed49244be4634dbfd75": {
      "model_module": "@jupyter-widgets/base",
      "model_module_version": "1.2.0",
      "model_name": "LayoutModel",
      "state": {
       "margin": "0px 0px 10px 0px"
      }
     },
     "58df896f45dd4fc480852242017408a4": {
      "model_module": "@jupyter-widgets/controls",
      "model_module_version": "1.5.0",
      "model_name": "ButtonModel",
      "state": {
       "button_style": "primary",
       "description": "Clear",
       "layout": "IPY_MODEL_708f57cb5f17430db0df148fcad6d731",
       "style": "IPY_MODEL_b09656910fce43c2aa88f441e8ae49b1"
      }
     },
     "5901f5b47e3c4e06bcfb63ff4463ed63": {
      "model_module": "@jupyter-widgets/controls",
      "model_module_version": "1.5.0",
      "model_name": "HTMLModel",
      "state": {
       "layout": "IPY_MODEL_92b84366ab0e4745bf4558430002b003",
       "style": "IPY_MODEL_26cb2ef0ef144ba299224d37e4b427bd",
       "value": "<h5>Queue</h5>"
      }
     },
     "59a5b35ab93e4224afa2ecac49171bdf": {
      "model_module": "@jupyter-widgets/base",
      "model_module_version": "1.2.0",
      "model_name": "LayoutModel",
      "state": {
       "margin": "0px 0px 0px 37px",
       "width": "600px"
      }
     },
     "59adb0fd062b4416a6869480b9acc0e1": {
      "model_module": "@jupyter-widgets/controls",
      "model_module_version": "1.5.0",
      "model_name": "HTMLModel",
      "state": {
       "layout": "IPY_MODEL_6f15393cd1824bbb982518094b13478e",
       "style": "IPY_MODEL_5238da7ddc1e4b659a3feb351eb7b3d4",
       "value": "<h5>Status</h5>"
      }
     },
     "59af2373b1854b66826e9d1b4752c19a": {
      "model_module": "@jupyter-widgets/base",
      "model_module_version": "1.2.0",
      "model_name": "LayoutModel",
      "state": {
       "margin": "0px 0px 10px 0px"
      }
     },
     "5a1b4823434e45edac423b5cf0fcbbcf": {
      "model_module": "@jupyter-widgets/controls",
      "model_module_version": "1.5.0",
      "model_name": "HBoxModel",
      "state": {
       "children": [
        "IPY_MODEL_8ea306f791db457b90507ec65f340861",
        "IPY_MODEL_aed2fff20a4a42d281bc7563fe6254ec",
        "IPY_MODEL_9b5c2380d1f64e5ba44920313943086c",
        "IPY_MODEL_bee7af23f12e42298f23a7ff2a775cb3",
        "IPY_MODEL_8bc40f254f74420fb63df5318f871ea7"
       ],
       "layout": "IPY_MODEL_9bc7db62d4d541cd92e7cd19d340bf19"
      }
     },
     "5b954be6f7cf4d63b93eca6bfa84bc2b": {
      "model_module": "@jupyter-widgets/base",
      "model_module_version": "1.2.0",
      "model_name": "LayoutModel",
      "state": {
       "width": "95px"
      }
     },
     "5bfc0f9613df450989a98e0a200d3b2f": {
      "model_module": "@jupyter-widgets/base",
      "model_module_version": "1.2.0",
      "model_name": "LayoutModel",
      "state": {
       "margin": "0px 0px 0px 37px",
       "width": "600px"
      }
     },
     "5d424631bc2546f7b402aa7e7ccb75ca": {
      "model_module": "@jupyter-widgets/base",
      "model_module_version": "1.2.0",
      "model_name": "LayoutModel",
      "state": {
       "width": "190px"
      }
     },
     "5d49d5dc262f49b5b489d94e32d0e3eb": {
      "model_module": "@jupyter-widgets/controls",
      "model_module_version": "1.5.0",
      "model_name": "DescriptionStyleModel",
      "state": {
       "description_width": ""
      }
     },
     "5d4b99b53a55436db64f13abe8ed4bf4": {
      "model_module": "@jupyter-widgets/controls",
      "model_module_version": "1.5.0",
      "model_name": "HTMLModel",
      "state": {
       "layout": "IPY_MODEL_ed2398d7377940a19feadec9738c8911",
       "style": "IPY_MODEL_7e436ffd7e3a4f05bf1d5598fef6d6dc",
       "value": "<h5>Status</h5>"
      }
     },
     "5e0164820c4e4fe19740e00a387699ca": {
      "model_module": "@quantum/ibm-q-lab-widgets",
      "model_module_version": "^1.0.3",
      "model_name": "CircuitComposerModel",
      "state": {
       "_model_module_version": "^1.0.3",
       "_view_module_version": "^1.0.3",
       "circuit": "\"OPENQASM 2.0;\\ninclude \\\"qelib1.inc\\\";\\n\\nqreg q2[3];\\ncreg c1[3];\\n\\ncx q2[1],q2[2];\\ncx q2[0],q2[2];\\nccx q2[0],q2[1],q2[2];\\nx q2[2];\\nmeasure q2[2] -> c1[0];\"",
       "editable": true,
       "layout": "IPY_MODEL_190ab006afe144f38c0f9abe87812c1c",
       "qiskit_code_cell_index": 47
      }
     },
     "5e2164ebdde64440b793779b9188b83d": {
      "model_module": "@jupyter-widgets/base",
      "model_module_version": "1.2.0",
      "model_name": "LayoutModel",
      "state": {}
     },
     "5ea9466bb7114fb085a065ae44e374e6": {
      "model_module": "@jupyter-widgets/base",
      "model_module_version": "1.2.0",
      "model_name": "LayoutModel",
      "state": {}
     },
     "5eb85f37ded7402f93252122f2ef5c20": {
      "model_module": "@jupyter-widgets/base",
      "model_module_version": "1.2.0",
      "model_name": "LayoutModel",
      "state": {}
     },
     "5ed4af38f61345b881395254191fa693": {
      "model_module": "@jupyter-widgets/controls",
      "model_module_version": "1.5.0",
      "model_name": "HBoxModel",
      "state": {
       "children": [
        "IPY_MODEL_d89af909d9b449f78f7ad0d3992f8dec",
        "IPY_MODEL_d08d82ed729f4159a75b712499aad162",
        "IPY_MODEL_2b9798c62a184803ae701efa4c985337",
        "IPY_MODEL_f85491e06e184d8ea92219eabe3d965f",
        "IPY_MODEL_f193048343fd41128afbeb8eca6e7401"
       ],
       "layout": "IPY_MODEL_a2cf13b0153145f8ac7d332020f87ffd"
      }
     },
     "5f4a503db4894223b5dfa7edaff2a2ba": {
      "model_module": "@jupyter-widgets/controls",
      "model_module_version": "1.5.0",
      "model_name": "DescriptionStyleModel",
      "state": {
       "description_width": ""
      }
     },
     "5fa5e5ac4e9f420dbd2c859eeed13c74": {
      "model_module": "@quantum/ibm-q-lab-widgets",
      "model_module_version": "^1.0.3",
      "model_name": "CircuitComposerModel",
      "state": {
       "_model_module_version": "^1.0.3",
       "_view_module_version": "^1.0.3",
       "circuit": "\"OPENQASM 2.0;\\ninclude \\\"qelib1.inc\\\";\\n\\nqreg q3[3];\\ncreg c3[3];\\n\\ncx q3[1],q3[2];\\ncx q3[0],q3[2];\\nccx q3[0],q3[1],q3[2];\\nx q3[2];\\nmeasure q3[2] -> c3[0];\"",
       "editable": true,
       "layout": "IPY_MODEL_0c2790117be5423b9b19274d3a3c386a",
       "qiskit_code_cell_index": 34
      }
     },
     "602567b829324270a8ac201d69a4df37": {
      "model_module": "@jupyter-widgets/base",
      "model_module_version": "1.2.0",
      "model_name": "LayoutModel",
      "state": {}
     },
     "602fd472a90e4e0881c932ac3137a452": {
      "model_module": "@jupyter-widgets/base",
      "model_module_version": "1.2.0",
      "model_name": "LayoutModel",
      "state": {
       "width": "95px"
      }
     },
     "60d9d629460144a688bb2e9773b36ef1": {
      "model_module": "@jupyter-widgets/base",
      "model_module_version": "1.2.0",
      "model_name": "LayoutModel",
      "state": {
       "grid_area": "right",
       "padding": "0px 0px 0px 0px",
       "width": "70px"
      }
     },
     "615af80a815142e9ae2f628501d2a061": {
      "model_module": "@jupyter-widgets/controls",
      "model_module_version": "1.5.0",
      "model_name": "DescriptionStyleModel",
      "state": {
       "description_width": ""
      }
     },
     "61aeb577b8eb48e18a4b87207c5f8963": {
      "model_module": "@jupyter-widgets/base",
      "model_module_version": "1.2.0",
      "model_name": "LayoutModel",
      "state": {
       "grid_area": "right",
       "padding": "0px 0px 0px 0px",
       "width": "70px"
      }
     },
     "626bcbf09ded4e12afa57f4a476189b0": {
      "model_module": "@jupyter-widgets/controls",
      "model_module_version": "1.5.0",
      "model_name": "DescriptionStyleModel",
      "state": {
       "description_width": ""
      }
     },
     "62c3c65bf4b641df91023a0da1721604": {
      "model_module": "@jupyter-widgets/base",
      "model_module_version": "1.2.0",
      "model_name": "LayoutModel",
      "state": {}
     },
     "62fed7858e2d4d5e8efe1b6a4b529075": {
      "model_module": "@jupyter-widgets/controls",
      "model_module_version": "1.5.0",
      "model_name": "DescriptionStyleModel",
      "state": {
       "description_width": ""
      }
     },
     "63250eaac69b49b3bb8906e8b51782f8": {
      "model_module": "@jupyter-widgets/controls",
      "model_module_version": "1.5.0",
      "model_name": "HBoxModel",
      "state": {
       "children": [
        "IPY_MODEL_711101cbd9724bfc9741364f1ee35bf6",
        "IPY_MODEL_9195aa3bf23a4f1db12c184ef545292c",
        "IPY_MODEL_1d98343600cd4098b9b788327fe207ff",
        "IPY_MODEL_692243ec871840548696b28ef1a71b0f",
        "IPY_MODEL_d49fb7f7f12c494aba1cead52c0259ff"
       ],
       "layout": "IPY_MODEL_338a750d86c34cd6842713614c3f386c"
      }
     },
     "63b9f8f7a3e04a5cb8bf7488f1d8cc75": {
      "model_module": "@quantum/ibm-q-lab-widgets",
      "model_module_version": "^1.0.3",
      "model_name": "CircuitComposerModel",
      "state": {
       "_model_module_version": "^1.0.3",
       "_view_module_version": "^1.0.3",
       "circuit": "\"OPENQASM 2.0;\\ninclude \\\"qelib1.inc\\\";\\n\\nqreg q[3];\\ncreg c[3];\\n\\n\"",
       "editable": true,
       "layout": "IPY_MODEL_512ecf2552b446b09dd0d4623e53676f",
       "qiskit_code_cell_index": -1
      }
     },
     "642c9ceedc4140cdb66870edf338b9c2": {
      "model_module": "@jupyter-widgets/base",
      "model_module_version": "1.2.0",
      "model_name": "LayoutModel",
      "state": {
       "grid_area": "right",
       "padding": "0px 0px 0px 0px",
       "width": "70px"
      }
     },
     "646f38fbda294bc1b82e21ec5c417b63": {
      "model_module": "@jupyter-widgets/controls",
      "model_module_version": "1.5.0",
      "model_name": "DescriptionStyleModel",
      "state": {
       "description_width": ""
      }
     },
     "647adaf252504ebb89f5ac424e82288b": {
      "model_module": "@jupyter-widgets/base",
      "model_module_version": "1.2.0",
      "model_name": "LayoutModel",
      "state": {}
     },
     "663821625faf4cf18279a0cb70a5df3b": {
      "model_module": "@jupyter-widgets/controls",
      "model_module_version": "1.5.0",
      "model_name": "HTMLModel",
      "state": {
       "layout": "IPY_MODEL_a0669cb8aa644cd1bbe036acbd656053",
       "style": "IPY_MODEL_1fcda1a45e3e47b0b03746787b6eec9e",
       "value": "<h5>Queue</h5>"
      }
     },
     "66423f7c452749c1a55a4e6885cf4ac6": {
      "model_module": "@jupyter-widgets/base",
      "model_module_version": "1.2.0",
      "model_name": "LayoutModel",
      "state": {}
     },
     "685e193ac6ee4050870c824dd57d9e2b": {
      "model_module": "@jupyter-widgets/base",
      "model_module_version": "1.2.0",
      "model_name": "LayoutModel",
      "state": {
       "margin": "0px 0px 10px 0px"
      }
     },
     "6863cbb083e04d5c9c1a95731ce70f20": {
      "model_module": "@jupyter-widgets/base",
      "model_module_version": "1.2.0",
      "model_name": "LayoutModel",
      "state": {
       "width": "145px"
      }
     },
     "692243ec871840548696b28ef1a71b0f": {
      "model_module": "@jupyter-widgets/controls",
      "model_module_version": "1.5.0",
      "model_name": "HTMLModel",
      "state": {
       "layout": "IPY_MODEL_6e4aa442580040c4a11667fa19022af5",
       "style": "IPY_MODEL_467754524cdf4049b19bd6ea03eca647",
       "value": "<h5>Queue</h5>"
      }
     },
     "69ea08366f8e4be08dddde0c0fbcc764": {
      "model_module": "@jupyter-widgets/base",
      "model_module_version": "1.2.0",
      "model_name": "LayoutModel",
      "state": {}
     },
     "6aa1493f207842bba2c6300020935a88": {
      "model_module": "@jupyter-widgets/controls",
      "model_module_version": "1.5.0",
      "model_name": "DescriptionStyleModel",
      "state": {
       "description_width": ""
      }
     },
     "6aa4a23a6b6d4519b7e4587b09caded8": {
      "model_module": "@jupyter-widgets/controls",
      "model_module_version": "1.5.0",
      "model_name": "DescriptionStyleModel",
      "state": {
       "description_width": ""
      }
     },
     "6b4e274670fe40068558a248feeffa6a": {
      "model_module": "@jupyter-widgets/base",
      "model_module_version": "1.2.0",
      "model_name": "LayoutModel",
      "state": {}
     },
     "6ba14da99fbb492d8c19ed1663b0c316": {
      "model_module": "@jupyter-widgets/controls",
      "model_module_version": "1.5.0",
      "model_name": "DescriptionStyleModel",
      "state": {
       "description_width": ""
      }
     },
     "6c228e5b113d4a998c9ddb2245170d23": {
      "model_module": "@jupyter-widgets/controls",
      "model_module_version": "1.5.0",
      "model_name": "HTMLModel",
      "state": {
       "layout": "IPY_MODEL_522abd193d5143a6bd304bb1f5073fa0",
       "style": "IPY_MODEL_d1e4ae0f595b4df19d172c6af221c849",
       "value": "<h5>Queue</h5>"
      }
     },
     "6c9e2fcaa9a94d0aa61975a91a432150": {
      "model_module": "@jupyter-widgets/base",
      "model_module_version": "1.2.0",
      "model_name": "LayoutModel",
      "state": {
       "width": "145px"
      }
     },
     "6cc701461412458ca8245149cec18326": {
      "model_module": "@jupyter-widgets/base",
      "model_module_version": "1.2.0",
      "model_name": "LayoutModel",
      "state": {}
     },
     "6d78da2cb743401b88df3de8f2a62634": {
      "model_module": "@jupyter-widgets/controls",
      "model_module_version": "1.5.0",
      "model_name": "ButtonModel",
      "state": {
       "button_style": "primary",
       "description": "Clear",
       "layout": "IPY_MODEL_61aeb577b8eb48e18a4b87207c5f8963",
       "style": "IPY_MODEL_e143cd6b9bdd4026b13ed57fc89715b5"
      }
     },
     "6d7ad7f0b06f4995b487297d0ccbd9a0": {
      "model_module": "@quantum/ibm-q-lab-widgets",
      "model_module_version": "^1.0.3",
      "model_name": "CircuitComposerModel",
      "state": {
       "_model_module_version": "^1.0.3",
       "_view_module_version": "^1.0.3",
       "circuit": "\"OPENQASM 2.0;\\ninclude \\\"qelib1.inc\\\";\\n\\nqreg q[3];\\ncreg c[3];\\n\\n\"",
       "editable": true,
       "layout": "IPY_MODEL_6e54f495f9e34958abf09fe70ba8a7a6",
       "qiskit_code_cell_index": -1
      }
     },
     "6dbddc0ddb0a4ecc9df90c8cfd27fc66": {
      "model_module": "@jupyter-widgets/base",
      "model_module_version": "1.2.0",
      "model_name": "LayoutModel",
      "state": {
       "grid_template_areas": "\n                                       \". . . . right \"\n                                        ",
       "grid_template_columns": "20% 20% 20% 20% 20%",
       "width": "100%"
      }
     },
     "6deb558b337f49df897c73c33b6260bf": {
      "model_module": "@quantum/ibm-q-lab-widgets",
      "model_module_version": "^1.0.3",
      "model_name": "CircuitComposerModel",
      "state": {
       "_model_module_version": "^1.0.3",
       "_view_module_version": "^1.0.3",
       "circuit": "\"OPENQASM 2.0;\\ninclude \\\"qelib1.inc\\\";\\n\\nqreg q3[3];\\ncreg c3[3];\\n\\ncx q3[1],q3[2];\\ncx q3[0],q3[2];\\nccx q3[0],q3[1],q3[2];\\nmeasure q3[2] -> c3[0];\"",
       "editable": true,
       "layout": "IPY_MODEL_6b4e274670fe40068558a248feeffa6a",
       "qiskit_code_cell_index": -1
      }
     },
     "6df4cb35faad4d13b27701ce464d35c5": {
      "model_module": "@jupyter-widgets/controls",
      "model_module_version": "1.5.0",
      "model_name": "GridBoxModel",
      "state": {
       "children": [
        "IPY_MODEL_c2b6ab2140e646a49a8f7e4c8ecf3cad"
       ],
       "layout": "IPY_MODEL_4146d2fcd85546fc9db4d0543d650431"
      }
     },
     "6df98145a8614a84b72c65622704b00a": {
      "model_module": "@jupyter-widgets/controls",
      "model_module_version": "1.5.0",
      "model_name": "DescriptionStyleModel",
      "state": {
       "description_width": ""
      }
     },
     "6e4aa442580040c4a11667fa19022af5": {
      "model_module": "@jupyter-widgets/base",
      "model_module_version": "1.2.0",
      "model_name": "LayoutModel",
      "state": {
       "width": "70px"
      }
     },
     "6e54f495f9e34958abf09fe70ba8a7a6": {
      "model_module": "@jupyter-widgets/base",
      "model_module_version": "1.2.0",
      "model_name": "LayoutModel",
      "state": {}
     },
     "6e6dcd0ba35c40cbb57375b033fec87f": {
      "model_module": "@jupyter-widgets/controls",
      "model_module_version": "1.5.0",
      "model_name": "GridBoxModel",
      "state": {
       "children": [
        "IPY_MODEL_32f919e0f5134760a9df0d89d2e77b51"
       ],
       "layout": "IPY_MODEL_01ec1d1813484c968dbcca4b508b99e4"
      }
     },
     "6f05f9fe4c734814ae7c24818dd8c8e4": {
      "model_module": "@jupyter-widgets/base",
      "model_module_version": "1.2.0",
      "model_name": "LayoutModel",
      "state": {
       "width": "190px"
      }
     },
     "6f15393cd1824bbb982518094b13478e": {
      "model_module": "@jupyter-widgets/base",
      "model_module_version": "1.2.0",
      "model_name": "LayoutModel",
      "state": {
       "width": "95px"
      }
     },
     "6fffde7c383f4bbeb8ebb3faea17920e": {
      "model_module": "@jupyter-widgets/base",
      "model_module_version": "1.2.0",
      "model_name": "LayoutModel",
      "state": {
       "width": "145px"
      }
     },
     "7039e4855fa24b4fb551de5b163bc636": {
      "model_module": "@jupyter-widgets/controls",
      "model_module_version": "1.5.0",
      "model_name": "DescriptionStyleModel",
      "state": {
       "description_width": ""
      }
     },
     "7073bbfee267411fbf836caeae310ca5": {
      "model_module": "@jupyter-widgets/controls",
      "model_module_version": "1.5.0",
      "model_name": "HTMLModel",
      "state": {
       "layout": "IPY_MODEL_a539ea37afa84225bda9b0b1a4124d73",
       "style": "IPY_MODEL_7ce557786a2d41cab652e557786eb0bc",
       "value": "<h5>Job ID</h5>"
      }
     },
     "708f57cb5f17430db0df148fcad6d731": {
      "model_module": "@jupyter-widgets/base",
      "model_module_version": "1.2.0",
      "model_name": "LayoutModel",
      "state": {
       "grid_area": "right",
       "padding": "0px 0px 0px 0px",
       "width": "70px"
      }
     },
     "711101cbd9724bfc9741364f1ee35bf6": {
      "model_module": "@jupyter-widgets/controls",
      "model_module_version": "1.5.0",
      "model_name": "HTMLModel",
      "state": {
       "layout": "IPY_MODEL_77119a792e294ddbbee08fcc30379c05",
       "style": "IPY_MODEL_6ba14da99fbb492d8c19ed1663b0c316",
       "value": "<h5>Job ID</h5>"
      }
     },
     "71b76fdeebd543f2a86f657a6e7a31c9": {
      "model_module": "@jupyter-widgets/controls",
      "model_module_version": "1.5.0",
      "model_name": "DescriptionStyleModel",
      "state": {
       "description_width": ""
      }
     },
     "733280e940c8467c98f8dad1d664c470": {
      "model_module": "@jupyter-widgets/base",
      "model_module_version": "1.2.0",
      "model_name": "LayoutModel",
      "state": {}
     },
     "744f1cadf5124e6695ed0ce837a98414": {
      "model_module": "@jupyter-widgets/controls",
      "model_module_version": "1.5.0",
      "model_name": "DescriptionStyleModel",
      "state": {
       "description_width": ""
      }
     },
     "74519cce23de44ca8ee162293804ce2c": {
      "model_module": "@jupyter-widgets/base",
      "model_module_version": "1.2.0",
      "model_name": "LayoutModel",
      "state": {}
     },
     "746eefff70994b2ca689a2790ab4e164": {
      "model_module": "@jupyter-widgets/controls",
      "model_module_version": "1.5.0",
      "model_name": "ButtonStyleModel",
      "state": {}
     },
     "74f24cd3a4464234a81526166562b963": {
      "model_module": "@jupyter-widgets/controls",
      "model_module_version": "1.5.0",
      "model_name": "DescriptionStyleModel",
      "state": {
       "description_width": ""
      }
     },
     "7568b8a678284642aaa444741d4a26a5": {
      "model_module": "@jupyter-widgets/controls",
      "model_module_version": "1.5.0",
      "model_name": "HBoxModel",
      "state": {
       "children": [
        "IPY_MODEL_7073bbfee267411fbf836caeae310ca5",
        "IPY_MODEL_2a0fc29ac3d44f4c9b57e3851cffb1d1",
        "IPY_MODEL_99347a4d58dc47348a9578c398b24209",
        "IPY_MODEL_6c228e5b113d4a998c9ddb2245170d23",
        "IPY_MODEL_a54bf7efb7cd44c2a489e20092ccfadb"
       ],
       "layout": "IPY_MODEL_e29f6ed0cb8f41cb913d36c9457a2c1b"
      }
     },
     "7671f3bef82547df93b7ae2e1cbdba83": {
      "model_module": "@jupyter-widgets/controls",
      "model_module_version": "1.5.0",
      "model_name": "HTMLModel",
      "state": {
       "layout": "IPY_MODEL_81268541dcd64c479dc261751365522e",
       "style": "IPY_MODEL_18216240bda34ce6989a753386c11af2",
       "value": "<h5>Status</h5>"
      }
     },
     "7699164cd69b4e62857010cdb8fb3518": {
      "model_module": "@jupyter-widgets/controls",
      "model_module_version": "1.5.0",
      "model_name": "HTMLModel",
      "state": {
       "layout": "IPY_MODEL_3b141f3d89894c2e8dd2ef7ebd183fed",
       "style": "IPY_MODEL_e552c95288ef4dadad357b3602fa630d",
       "value": "<h5>Job ID</h5>"
      }
     },
     "76b56b1183514586b8a28fd90a4f76d8": {
      "model_module": "@jupyter-widgets/controls",
      "model_module_version": "1.5.0",
      "model_name": "GridBoxModel",
      "state": {
       "children": [
        "IPY_MODEL_8c6217d8abbc419e86dade3c4630ae4a"
       ],
       "layout": "IPY_MODEL_445317bcd81a4c328824dea9ff477ed7"
      }
     },
     "77119a792e294ddbbee08fcc30379c05": {
      "model_module": "@jupyter-widgets/base",
      "model_module_version": "1.2.0",
      "model_name": "LayoutModel",
      "state": {
       "width": "190px"
      }
     },
     "776b4b70a59846898f102ac3e50852a2": {
      "model_module": "@jupyter-widgets/controls",
      "model_module_version": "1.5.0",
      "model_name": "DescriptionStyleModel",
      "state": {
       "description_width": ""
      }
     },
     "77bcaf6d5cdd4db2a5d70a7b8a493456": {
      "model_module": "@jupyter-widgets/controls",
      "model_module_version": "1.5.0",
      "model_name": "DescriptionStyleModel",
      "state": {
       "description_width": ""
      }
     },
     "78c05694575a4c6d843467f766cb5ceb": {
      "model_module": "@jupyter-widgets/controls",
      "model_module_version": "1.5.0",
      "model_name": "DescriptionStyleModel",
      "state": {
       "description_width": ""
      }
     },
     "791934bf3d9341cda49c154379622d16": {
      "model_module": "@jupyter-widgets/controls",
      "model_module_version": "1.5.0",
      "model_name": "DescriptionStyleModel",
      "state": {
       "description_width": ""
      }
     },
     "791ee719ffcf47699877ff7253a067a3": {
      "model_module": "@jupyter-widgets/controls",
      "model_module_version": "1.5.0",
      "model_name": "HTMLModel",
      "state": {
       "layout": "IPY_MODEL_bc4d49ec36884ca08d7e3c361c8f2eb9",
       "style": "IPY_MODEL_cb6e53942e7d45c7a8ca94514e6d2951",
       "value": "<h5>Message</h5>"
      }
     },
     "799fa903848b49e5b2b5b83869c3825c": {
      "model_module": "@jupyter-widgets/controls",
      "model_module_version": "1.5.0",
      "model_name": "HTMLModel",
      "state": {
       "layout": "IPY_MODEL_f62bbcfe06b54122ad83f33297fc140b",
       "style": "IPY_MODEL_e458643f1ca9444f854bfbe6e1923944",
       "value": "<h5>Queue</h5>"
      }
     },
     "7a6576a2ab9f40b0b5e0f9d2aee56d10": {
      "model_module": "@jupyter-widgets/base",
      "model_module_version": "1.2.0",
      "model_name": "LayoutModel",
      "state": {
       "width": "145px"
      }
     },
     "7aa1ea80fabc4a74a04a47d302486a90": {
      "model_module": "@jupyter-widgets/base",
      "model_module_version": "1.2.0",
      "model_name": "LayoutModel",
      "state": {}
     },
     "7b8426cc9f7244c98a8c22eca9c9eb18": {
      "model_module": "@jupyter-widgets/base",
      "model_module_version": "1.2.0",
      "model_name": "LayoutModel",
      "state": {}
     },
     "7c5fb10552a546fe85087e1abd137b40": {
      "model_module": "@quantum/ibm-q-lab-widgets",
      "model_module_version": "^1.0.3",
      "model_name": "CircuitComposerModel",
      "state": {
       "_model_module_version": "^1.0.3",
       "_view_module_version": "^1.0.3",
       "circuit": "\"OPENQASM 2.0;\\ninclude \\\"qelib1.inc\\\";\\n\\nqreg q[3];\\ncreg c[3];\\n\\n\"",
       "editable": true,
       "layout": "IPY_MODEL_fbbc7a7ec75e4b698818629e39fb91c1",
       "qiskit_code_cell_index": -1
      }
     },
     "7ce3d8940b17469e9e285c7670e28900": {
      "model_module": "@jupyter-widgets/base",
      "model_module_version": "1.2.0",
      "model_name": "LayoutModel",
      "state": {}
     },
     "7ce557786a2d41cab652e557786eb0bc": {
      "model_module": "@jupyter-widgets/controls",
      "model_module_version": "1.5.0",
      "model_name": "DescriptionStyleModel",
      "state": {
       "description_width": ""
      }
     },
     "7d9409179b6849d08b4cf61e30b7f9f8": {
      "model_module": "@jupyter-widgets/base",
      "model_module_version": "1.2.0",
      "model_name": "LayoutModel",
      "state": {
       "grid_template_areas": "\n                                       \". . . . right \"\n                                        ",
       "grid_template_columns": "20% 20% 20% 20% 20%",
       "width": "100%"
      }
     },
     "7da40d40aaf44de5bee9dde02e9d3ae5": {
      "model_module": "@jupyter-widgets/controls",
      "model_module_version": "1.5.0",
      "model_name": "DescriptionStyleModel",
      "state": {
       "description_width": ""
      }
     },
     "7e216fc602244fb28f7b12c242a55747": {
      "model_module": "@jupyter-widgets/controls",
      "model_module_version": "1.5.0",
      "model_name": "DescriptionStyleModel",
      "state": {
       "description_width": ""
      }
     },
     "7e436ffd7e3a4f05bf1d5598fef6d6dc": {
      "model_module": "@jupyter-widgets/controls",
      "model_module_version": "1.5.0",
      "model_name": "DescriptionStyleModel",
      "state": {
       "description_width": ""
      }
     },
     "7eb7d592b7364615842e585ec91e5d11": {
      "model_module": "@jupyter-widgets/controls",
      "model_module_version": "1.5.0",
      "model_name": "HTMLModel",
      "state": {
       "layout": "IPY_MODEL_e8845e95893040278aff985df15467dc",
       "style": "IPY_MODEL_d1335188923643bfb57240e633bab22a",
       "value": "<h5>Backend</h5>"
      }
     },
     "7f34b188d2de4f6698308fc62b378fab": {
      "model_module": "@jupyter-widgets/base",
      "model_module_version": "1.2.0",
      "model_name": "LayoutModel",
      "state": {
       "margin": "0px 0px 10px 0px"
      }
     },
     "7f7ec52f7c9d43d683e3bf46d5b8af28": {
      "model_module": "@jupyter-widgets/controls",
      "model_module_version": "1.5.0",
      "model_name": "ButtonStyleModel",
      "state": {}
     },
     "7fb7467660ba4818b224a760bf18d2d4": {
      "model_module": "@jupyter-widgets/base",
      "model_module_version": "1.2.0",
      "model_name": "LayoutModel",
      "state": {
       "width": "145px"
      }
     },
     "80ad5a6c1fc94be9b43465cfd51d345a": {
      "model_module": "@jupyter-widgets/controls",
      "model_module_version": "1.5.0",
      "model_name": "DescriptionStyleModel",
      "state": {
       "description_width": ""
      }
     },
     "81268541dcd64c479dc261751365522e": {
      "model_module": "@jupyter-widgets/base",
      "model_module_version": "1.2.0",
      "model_name": "LayoutModel",
      "state": {
       "width": "95px"
      }
     },
     "81c00e1676ed404ca7efacd7c80fb9df": {
      "model_module": "@jupyter-widgets/controls",
      "model_module_version": "1.5.0",
      "model_name": "HTMLModel",
      "state": {
       "layout": "IPY_MODEL_a6ffbad732774df8bf8910abbd018ceb",
       "style": "IPY_MODEL_646f38fbda294bc1b82e21ec5c417b63",
       "value": "<h5>Status</h5>"
      }
     },
     "82231b026e924401b018112f62c5e103": {
      "model_module": "@jupyter-widgets/base",
      "model_module_version": "1.2.0",
      "model_name": "LayoutModel",
      "state": {
       "grid_template_areas": "\n                                       \". . . . right \"\n                                        ",
       "grid_template_columns": "20% 20% 20% 20% 20%",
       "width": "100%"
      }
     },
     "82b98116d62c4ebb892f4468d53c518c": {
      "model_module": "@jupyter-widgets/base",
      "model_module_version": "1.2.0",
      "model_name": "LayoutModel",
      "state": {
       "grid_area": "right",
       "padding": "0px 0px 0px 0px",
       "width": "70px"
      }
     },
     "852c60eab2d74300b9014d1e064ccacc": {
      "model_module": "@jupyter-widgets/base",
      "model_module_version": "1.2.0",
      "model_name": "LayoutModel",
      "state": {
       "width": "190px"
      }
     },
     "854dd58f9d564fc5a8a9ed09aaf3c44d": {
      "model_module": "@jupyter-widgets/base",
      "model_module_version": "1.2.0",
      "model_name": "LayoutModel",
      "state": {
       "width": "190px"
      }
     },
     "8551369d40ec48bd8b59681e53dc8761": {
      "model_module": "@jupyter-widgets/controls",
      "model_module_version": "1.5.0",
      "model_name": "GridBoxModel",
      "state": {
       "children": [
        "IPY_MODEL_6d78da2cb743401b88df3de8f2a62634"
       ],
       "layout": "IPY_MODEL_ac107e6edc494695971ac37c5661a386"
      }
     },
     "85525067dff94970af9dd5e04b5d4f95": {
      "model_module": "@jupyter-widgets/base",
      "model_module_version": "1.2.0",
      "model_name": "LayoutModel",
      "state": {}
     },
     "8568082cdd16496d851d248b56d69d2c": {
      "model_module": "@jupyter-widgets/base",
      "model_module_version": "1.2.0",
      "model_name": "LayoutModel",
      "state": {
       "width": "190px"
      }
     },
     "862e6925e2384b30961b06c36e059459": {
      "model_module": "@jupyter-widgets/controls",
      "model_module_version": "1.5.0",
      "model_name": "GridBoxModel",
      "state": {
       "children": [
        "IPY_MODEL_c23d34059bd94326a2db9a68e34a2296"
       ],
       "layout": "IPY_MODEL_264de026736c4158b88c260d5ad43c67"
      }
     },
     "867281371bda41c9a144f55b81f5cb41": {
      "model_module": "@jupyter-widgets/controls",
      "model_module_version": "1.5.0",
      "model_name": "HTMLModel",
      "state": {
       "layout": "IPY_MODEL_df958bfd89d04fc096f9002c8adf0b01",
       "style": "IPY_MODEL_09df53fcfd534ea3ac0ac8d3eba69d85",
       "value": "<h5>Queue</h5>"
      }
     },
     "87e5b80d6e534ef79b8c1311e137fd98": {
      "model_module": "@jupyter-widgets/base",
      "model_module_version": "1.2.0",
      "model_name": "LayoutModel",
      "state": {}
     },
     "883b175146d344bf9c74af87605d42fb": {
      "model_module": "@jupyter-widgets/base",
      "model_module_version": "1.2.0",
      "model_name": "LayoutModel",
      "state": {
       "width": "145px"
      }
     },
     "89aa7532228f44319c6b71354eb29dd3": {
      "model_module": "@jupyter-widgets/controls",
      "model_module_version": "1.5.0",
      "model_name": "ButtonStyleModel",
      "state": {}
     },
     "8a0fd74f175b40ce9a7cb620e082f844": {
      "model_module": "@jupyter-widgets/base",
      "model_module_version": "1.2.0",
      "model_name": "LayoutModel",
      "state": {
       "grid_area": "right",
       "padding": "0px 0px 0px 0px",
       "width": "70px"
      }
     },
     "8a53040bf3a247678bb21bde9af43923": {
      "model_module": "@jupyter-widgets/controls",
      "model_module_version": "1.5.0",
      "model_name": "GridBoxModel",
      "state": {
       "children": [
        "IPY_MODEL_998d339fc5d14c328bd4b0431ab10de4"
       ],
       "layout": "IPY_MODEL_7d9409179b6849d08b4cf61e30b7f9f8"
      }
     },
     "8af40c979d2f4abf8eb79c65190883f4": {
      "model_module": "@jupyter-widgets/controls",
      "model_module_version": "1.5.0",
      "model_name": "DescriptionStyleModel",
      "state": {
       "description_width": ""
      }
     },
     "8af8905c98d14605aec36fc840b02344": {
      "model_module": "@jupyter-widgets/base",
      "model_module_version": "1.2.0",
      "model_name": "LayoutModel",
      "state": {
       "width": "70px"
      }
     },
     "8b3a8e1e875840d1b5f26a70860cfb00": {
      "model_module": "@jupyter-widgets/base",
      "model_module_version": "1.2.0",
      "model_name": "LayoutModel",
      "state": {
       "margin": "0px 0px 0px 37px",
       "width": "600px"
      }
     },
     "8b98c82060564483b39a625bdccd5376": {
      "model_module": "@jupyter-widgets/base",
      "model_module_version": "1.2.0",
      "model_name": "LayoutModel",
      "state": {}
     },
     "8bc40f254f74420fb63df5318f871ea7": {
      "model_module": "@jupyter-widgets/controls",
      "model_module_version": "1.5.0",
      "model_name": "HTMLModel",
      "state": {
       "layout": "IPY_MODEL_2d9a5f3ecb7844d9a235518bf29aa502",
       "style": "IPY_MODEL_8d80167d95cb401f9d40e10105415ebc",
       "value": "<h5>Message</h5>"
      }
     },
     "8c6217d8abbc419e86dade3c4630ae4a": {
      "model_module": "@jupyter-widgets/controls",
      "model_module_version": "1.5.0",
      "model_name": "ButtonModel",
      "state": {
       "button_style": "primary",
       "description": "Clear",
       "layout": "IPY_MODEL_60d9d629460144a688bb2e9773b36ef1",
       "style": "IPY_MODEL_3550cd9a049f480f8b952c93869e96e2"
      }
     },
     "8c70f0a9bbdf4282abc5ebed499d2b3d": {
      "model_module": "@jupyter-widgets/base",
      "model_module_version": "1.2.0",
      "model_name": "LayoutModel",
      "state": {}
     },
     "8c8ebb9ab7814f49b7f124610764c2a1": {
      "model_module": "@jupyter-widgets/controls",
      "model_module_version": "1.5.0",
      "model_name": "DescriptionStyleModel",
      "state": {
       "description_width": ""
      }
     },
     "8ce36385b1d940f786f5ca2cf45ef9e3": {
      "model_module": "@jupyter-widgets/base",
      "model_module_version": "1.2.0",
      "model_name": "LayoutModel",
      "state": {
       "width": "190px"
      }
     },
     "8d80167d95cb401f9d40e10105415ebc": {
      "model_module": "@jupyter-widgets/controls",
      "model_module_version": "1.5.0",
      "model_name": "DescriptionStyleModel",
      "state": {
       "description_width": ""
      }
     },
     "8e9c726f02214302bca28d27fcdb997e": {
      "model_module": "@jupyter-widgets/controls",
      "model_module_version": "1.5.0",
      "model_name": "HTMLModel",
      "state": {
       "layout": "IPY_MODEL_1c8068c149294210bb3ca556b2573ee4",
       "style": "IPY_MODEL_ef20b21a3be842a1932eabbd1d8f78d4",
       "value": "<h5>Queue</h5>"
      }
     },
     "8ea306f791db457b90507ec65f340861": {
      "model_module": "@jupyter-widgets/controls",
      "model_module_version": "1.5.0",
      "model_name": "HTMLModel",
      "state": {
       "layout": "IPY_MODEL_e6dbad990ed34d75859d6d820ea44eea",
       "style": "IPY_MODEL_615af80a815142e9ae2f628501d2a061",
       "value": "<h5>Job ID</h5>"
      }
     },
     "8ec78aac5d1449279de38faad5b8dd76": {
      "model_module": "@jupyter-widgets/base",
      "model_module_version": "1.2.0",
      "model_name": "LayoutModel",
      "state": {
       "width": "190px"
      }
     },
     "8fd2ff76c6d6443f893204196915d077": {
      "model_module": "@quantum/ibm-q-lab-widgets",
      "model_module_version": "^1.0.3",
      "model_name": "CircuitComposerModel",
      "state": {
       "_model_module_version": "^1.0.3",
       "_view_module_version": "^1.0.3",
       "circuit": "\"OPENQASM 2.0;\\ninclude \\\"qelib1.inc\\\";\\n\\nqreg q1[3];\\ncreg c1[3];\\n\\ncx q1[1],q1[2];\\ncx q1[0],q1[2];\\nccx q1[0],q1[1],q1[2];\\nmeasure q1[2] -> c1[0];\\nx q1[2];\\nmeasure q1[2] -> c1[0];\"",
       "editable": true,
       "layout": "IPY_MODEL_098146a76288479d8f34020f737f6605",
       "qiskit_code_cell_index": -1
      }
     },
     "901433422340420db62e9ae3127d4235": {
      "model_module": "@jupyter-widgets/base",
      "model_module_version": "1.2.0",
      "model_name": "LayoutModel",
      "state": {
       "width": "145px"
      }
     },
     "905541cbe239467da30cbd81517e9772": {
      "model_module": "@jupyter-widgets/controls",
      "model_module_version": "1.5.0",
      "model_name": "DescriptionStyleModel",
      "state": {
       "description_width": ""
      }
     },
     "907ca8dcd51d4ae99b6476f8c8286168": {
      "model_module": "@jupyter-widgets/controls",
      "model_module_version": "1.5.0",
      "model_name": "ButtonModel",
      "state": {
       "button_style": "primary",
       "description": "Clear",
       "layout": "IPY_MODEL_24b2811721fb477786959cc922d47fac",
       "style": "IPY_MODEL_95d8d7a648bd4ed8a9b3f20ae1afa148"
      }
     },
     "90a5746f0bfc425598c87b0865033aaf": {
      "model_module": "@jupyter-widgets/controls",
      "model_module_version": "1.5.0",
      "model_name": "HTMLModel",
      "state": {
       "layout": "IPY_MODEL_f716d34fb3e34c4e9731810376427b3b",
       "style": "IPY_MODEL_b5e2b7928d0249aaba6c60bb33f86a00",
       "value": "<p style='font-family: IBM Plex Sans, Arial, Helvetica, sans-serif; font-size: 20px; font-weight: medium;'>Circuit Properties</p>"
      }
     },
     "90b0ee9a82e741008e8569543d914998": {
      "model_module": "@jupyter-widgets/base",
      "model_module_version": "1.2.0",
      "model_name": "LayoutModel",
      "state": {
       "grid_template_areas": "\n                                       \". . . . right \"\n                                        ",
       "grid_template_columns": "20% 20% 20% 20% 20%",
       "width": "100%"
      }
     },
     "90cd23bb0ffe4124af34bee073d37774": {
      "model_module": "@jupyter-widgets/controls",
      "model_module_version": "1.5.0",
      "model_name": "DescriptionStyleModel",
      "state": {
       "description_width": ""
      }
     },
     "9195aa3bf23a4f1db12c184ef545292c": {
      "model_module": "@jupyter-widgets/controls",
      "model_module_version": "1.5.0",
      "model_name": "HTMLModel",
      "state": {
       "layout": "IPY_MODEL_6fffde7c383f4bbeb8ebb3faea17920e",
       "style": "IPY_MODEL_80ad5a6c1fc94be9b43465cfd51d345a",
       "value": "<h5>Backend</h5>"
      }
     },
     "91facf544732485f825073e819ce85f2": {
      "model_module": "@jupyter-widgets/controls",
      "model_module_version": "1.5.0",
      "model_name": "DescriptionStyleModel",
      "state": {
       "description_width": ""
      }
     },
     "927c44444373442faf088984ed5a3878": {
      "model_module": "@jupyter-widgets/base",
      "model_module_version": "1.2.0",
      "model_name": "LayoutModel",
      "state": {}
     },
     "92b84366ab0e4745bf4558430002b003": {
      "model_module": "@jupyter-widgets/base",
      "model_module_version": "1.2.0",
      "model_name": "LayoutModel",
      "state": {
       "width": "70px"
      }
     },
     "933383d4dae5451db183349b7948a6c8": {
      "model_module": "@quantum/ibm-q-lab-widgets",
      "model_module_version": "^1.0.3",
      "model_name": "CircuitComposerModel",
      "state": {
       "_model_module_version": "^1.0.3",
       "_view_module_version": "^1.0.3",
       "circuit": "\"OPENQASM 2.0;\\ninclude \\\"qelib1.inc\\\";\\n\\nqreg q[3];\\ncreg c[3];\\n\\n\"",
       "editable": true,
       "layout": "IPY_MODEL_1555d2ac5d1c4c93a2c43c5fc1189ac0",
       "qiskit_code_cell_index": -1
      }
     },
     "93bcccc0815f47f880a809b94c71b54b": {
      "model_module": "@quantum/ibm-q-lab-widgets",
      "model_module_version": "^1.0.3",
      "model_name": "CircuitComposerModel",
      "state": {
       "_model_module_version": "^1.0.3",
       "_view_module_version": "^1.0.3",
       "circuit": "\"OPENQASM 2.0;\\ninclude \\\"qelib1.inc\\\";\\n\\nqreg q[3];\\ncreg c[3];\\n\\nswap q[0],q[1];\\ncx q[1],q[2];\\nz q[2];\"",
       "editable": true,
       "layout": "IPY_MODEL_a59c703276e04f1caaf8770a25e129c9",
       "qiskit_code_cell_index": 41
      }
     },
     "95d604d7edcc461ab11870eea046e295": {
      "model_module": "@jupyter-widgets/controls",
      "model_module_version": "1.5.0",
      "model_name": "DescriptionStyleModel",
      "state": {
       "description_width": ""
      }
     },
     "95d8d7a648bd4ed8a9b3f20ae1afa148": {
      "model_module": "@jupyter-widgets/controls",
      "model_module_version": "1.5.0",
      "model_name": "ButtonStyleModel",
      "state": {}
     },
     "96d5c6d26c994fc19a437928578a9b8d": {
      "model_module": "@jupyter-widgets/controls",
      "model_module_version": "1.5.0",
      "model_name": "HTMLModel",
      "state": {
       "layout": "IPY_MODEL_8af8905c98d14605aec36fc840b02344",
       "style": "IPY_MODEL_f2a6c5fa72fe4f8faed45ccab979cb03",
       "value": "<h5>Queue</h5>"
      }
     },
     "98114a2a92c047d6af5e6313aeb9d8d2": {
      "model_module": "@jupyter-widgets/controls",
      "model_module_version": "1.5.0",
      "model_name": "HTMLModel",
      "state": {
       "layout": "IPY_MODEL_58dc1b9b38d24ed49244be4634dbfd75",
       "style": "IPY_MODEL_bede716561ee493485972f70dfc0bba5",
       "value": "<p style='font-family: IBM Plex Sans, Arial, Helvetica, sans-serif; font-size: 20px; font-weight: medium;'>Circuit Properties</p>"
      }
     },
     "982f6afb37b548e19410dcc592c23d66": {
      "model_module": "@jupyter-widgets/base",
      "model_module_version": "1.2.0",
      "model_name": "LayoutModel",
      "state": {
       "grid_area": "right",
       "padding": "0px 0px 0px 0px",
       "width": "70px"
      }
     },
     "9834c3fc63694bcf870b45cb91b232e6": {
      "model_module": "@jupyter-widgets/controls",
      "model_module_version": "1.5.0",
      "model_name": "HTMLModel",
      "state": {
       "layout": "IPY_MODEL_aa6abca44fc44b51ab150b48beec45cc",
       "style": "IPY_MODEL_28774d699ac64c6f8080058a12362bb3",
       "value": "<p style='font-family: IBM Plex Sans, Arial, Helvetica, sans-serif; font-size: 20px; font-weight: medium;'>Circuit Properties</p>"
      }
     },
     "986764d62f5b4e28b358ca5b8203b672": {
      "model_module": "@quantum/ibm-q-lab-widgets",
      "model_module_version": "^1.0.3",
      "model_name": "CircuitComposerModel",
      "state": {
       "_model_module_version": "^1.0.3",
       "_view_module_version": "^1.0.3",
       "circuit": "\"OPENQASM 2.0;\\ninclude \\\"qelib1.inc\\\";\\n\\nqreg q3[1];\\ncreg c2[1];\\n\\nrz(pi/2) q3[0];\\nsx q3[0];\\nrz(pi/2) q3[0];\"",
       "editable": true,
       "layout": "IPY_MODEL_8c70f0a9bbdf4282abc5ebed499d2b3d",
       "qiskit_code_cell_index": -1
      }
     },
     "988545c15da74334bc930567aa91dfb8": {
      "model_module": "@jupyter-widgets/base",
      "model_module_version": "1.2.0",
      "model_name": "LayoutModel",
      "state": {
       "margin": "0px 0px 0px 37px",
       "width": "600px"
      }
     },
     "99347a4d58dc47348a9578c398b24209": {
      "model_module": "@jupyter-widgets/controls",
      "model_module_version": "1.5.0",
      "model_name": "HTMLModel",
      "state": {
       "layout": "IPY_MODEL_437750a22d3f469f91ab47ad757e2a45",
       "style": "IPY_MODEL_6aa1493f207842bba2c6300020935a88",
       "value": "<h5>Status</h5>"
      }
     },
     "998d339fc5d14c328bd4b0431ab10de4": {
      "model_module": "@jupyter-widgets/controls",
      "model_module_version": "1.5.0",
      "model_name": "ButtonModel",
      "state": {
       "button_style": "primary",
       "description": "Clear",
       "layout": "IPY_MODEL_642c9ceedc4140cdb66870edf338b9c2",
       "style": "IPY_MODEL_2dbfeffcb9814e2bb68f0a08f38d9b18"
      }
     },
     "9abae09d191348feb3b89dcf1ba2c4d5": {
      "model_module": "@jupyter-widgets/base",
      "model_module_version": "1.2.0",
      "model_name": "LayoutModel",
      "state": {
       "width": "145px"
      }
     },
     "9af0592a04a74f3e9ab218f471927763": {
      "model_module": "@jupyter-widgets/controls",
      "model_module_version": "1.5.0",
      "model_name": "HTMLModel",
      "state": {
       "layout": "IPY_MODEL_157664f9cd124216918b16ca4a323852",
       "style": "IPY_MODEL_ff701b3970a84131991b6d665a19e178",
       "value": "<h5>Queue</h5>"
      }
     },
     "9b2b9391cdc54e7f84bcd80736977d8a": {
      "model_module": "@jupyter-widgets/base",
      "model_module_version": "1.2.0",
      "model_name": "LayoutModel",
      "state": {
       "width": "70px"
      }
     },
     "9b5c2380d1f64e5ba44920313943086c": {
      "model_module": "@jupyter-widgets/controls",
      "model_module_version": "1.5.0",
      "model_name": "HTMLModel",
      "state": {
       "layout": "IPY_MODEL_d690abc463d64f80a2722d23de682e74",
       "style": "IPY_MODEL_a98982e7bd1044a3aac97cd7170b937d",
       "value": "<h5>Status</h5>"
      }
     },
     "9bc7db62d4d541cd92e7cd19d340bf19": {
      "model_module": "@jupyter-widgets/base",
      "model_module_version": "1.2.0",
      "model_name": "LayoutModel",
      "state": {
       "margin": "0px 0px 0px 37px",
       "width": "600px"
      }
     },
     "9c807f2134484e25b0b289d4aafb00c0": {
      "model_module": "@jupyter-widgets/controls",
      "model_module_version": "1.5.0",
      "model_name": "GridBoxModel",
      "state": {
       "children": [
        "IPY_MODEL_26ca92d21d6149828724dd6d4b588389"
       ],
       "layout": "IPY_MODEL_d769842e39214aae9fed90fe36b450b7"
      }
     },
     "9d35ec002bd14646a190b1c8afb92a23": {
      "model_module": "@quantum/ibm-q-lab-widgets",
      "model_module_version": "^1.0.3",
      "model_name": "CircuitComposerModel",
      "state": {
       "_model_module_version": "^1.0.3",
       "_view_module_version": "^1.0.3",
       "circuit": "\"OPENQASM 2.0;\\ninclude \\\"qelib1.inc\\\";\\n\\nqreg q[3];\\ncreg c[1];\\n\\ncx q[1],q[2];\\ncx q[0],q[2];\\nccx q[0],q[1],q[2];\\nmeasure q[2] -> c[0];\"",
       "editable": true,
       "layout": "IPY_MODEL_733280e940c8467c98f8dad1d664c470",
       "qiskit_code_cell_index": -1
      }
     },
     "9ed9590323aa46688e2ba31f633e3f78": {
      "model_module": "@jupyter-widgets/controls",
      "model_module_version": "1.5.0",
      "model_name": "DescriptionStyleModel",
      "state": {
       "description_width": ""
      }
     },
     "a05c2cdb2ee446548fa484374b05f26d": {
      "model_module": "@jupyter-widgets/controls",
      "model_module_version": "1.5.0",
      "model_name": "HBoxModel",
      "state": {
       "children": [
        "IPY_MODEL_3e174dd3d8544ac88043f17a5ecc8500",
        "IPY_MODEL_c562f2f16b5c438fa3272c4a145e7d01",
        "IPY_MODEL_a3c65616f3d94913b0115577bf2f6ac4",
        "IPY_MODEL_115e321a54064c15af84960de9afcd39",
        "IPY_MODEL_d85f26eaecff4d26964747f7489a1573"
       ],
       "layout": "IPY_MODEL_4400777ab0fe475b8bf004b489e25a8a"
      }
     },
     "a0669cb8aa644cd1bbe036acbd656053": {
      "model_module": "@jupyter-widgets/base",
      "model_module_version": "1.2.0",
      "model_name": "LayoutModel",
      "state": {
       "width": "70px"
      }
     },
     "a116878984b741f7ac6690e44f038947": {
      "model_module": "@jupyter-widgets/base",
      "model_module_version": "1.2.0",
      "model_name": "LayoutModel",
      "state": {}
     },
     "a1aae185da6941518751e6b928729bcd": {
      "model_module": "@jupyter-widgets/base",
      "model_module_version": "1.2.0",
      "model_name": "LayoutModel",
      "state": {
       "width": "70px"
      }
     },
     "a1f3145fb47f4d76ad779a51947861b4": {
      "model_module": "@jupyter-widgets/base",
      "model_module_version": "1.2.0",
      "model_name": "LayoutModel",
      "state": {}
     },
     "a2cf13b0153145f8ac7d332020f87ffd": {
      "model_module": "@jupyter-widgets/base",
      "model_module_version": "1.2.0",
      "model_name": "LayoutModel",
      "state": {
       "margin": "0px 0px 0px 37px",
       "width": "600px"
      }
     },
     "a3c65616f3d94913b0115577bf2f6ac4": {
      "model_module": "@jupyter-widgets/controls",
      "model_module_version": "1.5.0",
      "model_name": "HTMLModel",
      "state": {
       "layout": "IPY_MODEL_602fd472a90e4e0881c932ac3137a452",
       "style": "IPY_MODEL_fc6e67828b47492caa52c2d91c372fe7",
       "value": "<h5>Status</h5>"
      }
     },
     "a4954a10292b43efb85baa1d788db3d6": {
      "model_module": "@jupyter-widgets/base",
      "model_module_version": "1.2.0",
      "model_name": "LayoutModel",
      "state": {
       "margin": "0px 0px 0px 37px",
       "width": "600px"
      }
     },
     "a4b896b34a244855abd723ca174724cf": {
      "model_module": "@jupyter-widgets/base",
      "model_module_version": "1.2.0",
      "model_name": "LayoutModel",
      "state": {}
     },
     "a539ea37afa84225bda9b0b1a4124d73": {
      "model_module": "@jupyter-widgets/base",
      "model_module_version": "1.2.0",
      "model_name": "LayoutModel",
      "state": {
       "width": "190px"
      }
     },
     "a54bf7efb7cd44c2a489e20092ccfadb": {
      "model_module": "@jupyter-widgets/controls",
      "model_module_version": "1.5.0",
      "model_name": "HTMLModel",
      "state": {
       "layout": "IPY_MODEL_cc71eb09ce1b494b81f90cfcc2e1dd95",
       "style": "IPY_MODEL_5f4a503db4894223b5dfa7edaff2a2ba",
       "value": "<h5>Message</h5>"
      }
     },
     "a59c44990a98430687a0f4ea958a0fd6": {
      "model_module": "@quantum/ibm-q-lab-widgets",
      "model_module_version": "^1.0.3",
      "model_name": "CircuitComposerModel",
      "state": {
       "_model_module_version": "^1.0.3",
       "_view_module_version": "^1.0.3",
       "circuit": "\"OPENQASM 2.0;\\ninclude \\\"qelib1.inc\\\";\\n\\nqreg q[3];\\ncreg c[3];\\n\\n\"",
       "editable": true,
       "layout": "IPY_MODEL_ede3b422e153430b9b0b630a174ce576",
       "qiskit_code_cell_index": -1
      }
     },
     "a59c703276e04f1caaf8770a25e129c9": {
      "model_module": "@jupyter-widgets/base",
      "model_module_version": "1.2.0",
      "model_name": "LayoutModel",
      "state": {}
     },
     "a625863b3c27475e9f15361af2d48ced": {
      "model_module": "@jupyter-widgets/controls",
      "model_module_version": "1.5.0",
      "model_name": "HTMLModel",
      "state": {
       "layout": "IPY_MODEL_66423f7c452749c1a55a4e6885cf4ac6",
       "style": "IPY_MODEL_af9441cd16cf4658b7949bf9d81b8b83",
       "value": "<h5>Message</h5>"
      }
     },
     "a680d46ae9e24200b5cfbfda6f403ac0": {
      "model_module": "@jupyter-widgets/controls",
      "model_module_version": "1.5.0",
      "model_name": "HTMLModel",
      "state": {
       "layout": "IPY_MODEL_1ae18da521ee4927b3438a6a5e76ba9e",
       "style": "IPY_MODEL_f58a7f58e3d948a887ae0e5a112c4793",
       "value": "<h5>Status</h5>"
      }
     },
     "a6bb9f421d4a4d178256237cd4c276bd": {
      "model_module": "@quantum/ibm-q-lab-widgets",
      "model_module_version": "^1.0.3",
      "model_name": "CircuitComposerModel",
      "state": {
       "_model_module_version": "^1.0.3",
       "_view_module_version": "^1.0.3",
       "circuit": "\"OPENQASM 2.0;\\ninclude \\\"qelib1.inc\\\";\\n\\nqreg q2[3];\\ncreg c1[3];\\n\\ncx q2[1],q2[2];\\ncx q2[0],q2[2];\\nccx q2[0],q2[1],q2[2];\\nmeasure q2[2] -> c1[0];\"",
       "editable": true,
       "layout": "IPY_MODEL_37b7d129f94342e1abcce40399056637",
       "qiskit_code_cell_index": -1
      }
     },
     "a6ffbad732774df8bf8910abbd018ceb": {
      "model_module": "@jupyter-widgets/base",
      "model_module_version": "1.2.0",
      "model_name": "LayoutModel",
      "state": {
       "width": "95px"
      }
     },
     "a7e387ce624b4fdd927af7426dbf7025": {
      "model_module": "@jupyter-widgets/controls",
      "model_module_version": "1.5.0",
      "model_name": "DescriptionStyleModel",
      "state": {
       "description_width": ""
      }
     },
     "a81e101e4e1d4190bd0ed8ca09dd418c": {
      "model_module": "@quantum/ibm-q-lab-widgets",
      "model_module_version": "^1.0.3",
      "model_name": "CircuitComposerModel",
      "state": {
       "_model_module_version": "^1.0.3",
       "_view_module_version": "^1.0.3",
       "circuit": "\"OPENQASM 2.0;\\ninclude \\\"qelib1.inc\\\";\\n\\nqreg q[3];\\ncreg c[3];\\n\\n\"",
       "editable": true,
       "layout": "IPY_MODEL_33e5c437cd6949e4b1fc9b6de04f30af",
       "qiskit_code_cell_index": 44
      }
     },
     "a8397cedee8b46068972fb99882fd0c9": {
      "model_module": "@quantum/ibm-q-lab-widgets",
      "model_module_version": "^1.0.3",
      "model_name": "CircuitComposerModel",
      "state": {
       "_model_module_version": "^1.0.3",
       "_view_module_version": "^1.0.3",
       "circuit": "\"OPENQASM 2.0;\\ninclude \\\"qelib1.inc\\\";\\n\\nqreg q[3];\\ncreg c[1];\\n\\ncx q[1],q[2];\\ncx q[0],q[2];\\nccx q[0],q[1],q[2];\\nmeasure q[2] -> c[0];\"",
       "editable": true,
       "layout": "IPY_MODEL_1c3b669f5cb7414782648203af7c1ff7",
       "qiskit_code_cell_index": -1
      }
     },
     "a84b961d485f4979be26e7f5f4734196": {
      "model_module": "@jupyter-widgets/controls",
      "model_module_version": "1.5.0",
      "model_name": "HTMLModel",
      "state": {
       "layout": "IPY_MODEL_275e96c24bb045cdaeb001306313a482",
       "style": "IPY_MODEL_f656665ee2a843408b8bff659ada0675",
       "value": "<p style='font-family: IBM Plex Sans, Arial, Helvetica, sans-serif; font-size: 20px; font-weight: medium;'>Circuit Properties</p>"
      }
     },
     "a88b31f7f45a477e9ad4d48b9aa1193c": {
      "model_module": "@jupyter-widgets/controls",
      "model_module_version": "1.5.0",
      "model_name": "GridBoxModel",
      "state": {
       "children": [
        "IPY_MODEL_331e3257365741db8def52287f2769b5"
       ],
       "layout": "IPY_MODEL_28b34ea527e348f18b88558bdddc0e1b"
      }
     },
     "a8af894664164b2e82c73d8bd47c7485": {
      "model_module": "@jupyter-widgets/base",
      "model_module_version": "1.2.0",
      "model_name": "LayoutModel",
      "state": {
       "margin": "0px 0px 10px 0px"
      }
     },
     "a9483f14f95c4d539945ca3e77071d62": {
      "model_module": "@jupyter-widgets/base",
      "model_module_version": "1.2.0",
      "model_name": "LayoutModel",
      "state": {}
     },
     "a98982e7bd1044a3aac97cd7170b937d": {
      "model_module": "@jupyter-widgets/controls",
      "model_module_version": "1.5.0",
      "model_name": "DescriptionStyleModel",
      "state": {
       "description_width": ""
      }
     },
     "a995ab1aa4e641de9c7bd17565313757": {
      "model_module": "@jupyter-widgets/controls",
      "model_module_version": "1.5.0",
      "model_name": "HTMLModel",
      "state": {
       "layout": "IPY_MODEL_d6c6f0e1e63c4968b6271f43d048d5ae",
       "style": "IPY_MODEL_62fed7858e2d4d5e8efe1b6a4b529075",
       "value": "<h5>Status</h5>"
      }
     },
     "aa6abca44fc44b51ab150b48beec45cc": {
      "model_module": "@jupyter-widgets/base",
      "model_module_version": "1.2.0",
      "model_name": "LayoutModel",
      "state": {
       "margin": "0px 0px 10px 0px"
      }
     },
     "ab588bab3fce4010917bbdd2666df29b": {
      "model_module": "@jupyter-widgets/base",
      "model_module_version": "1.2.0",
      "model_name": "LayoutModel",
      "state": {
       "width": "95px"
      }
     },
     "abfb4fc29dd1406cbbb7f5b53d45638f": {
      "model_module": "@jupyter-widgets/controls",
      "model_module_version": "1.5.0",
      "model_name": "HTMLModel",
      "state": {
       "layout": "IPY_MODEL_8ce36385b1d940f786f5ca2cf45ef9e3",
       "style": "IPY_MODEL_744f1cadf5124e6695ed0ce837a98414",
       "value": "<h5>Job ID</h5>"
      }
     },
     "ac107e6edc494695971ac37c5661a386": {
      "model_module": "@jupyter-widgets/base",
      "model_module_version": "1.2.0",
      "model_name": "LayoutModel",
      "state": {
       "grid_template_areas": "\n                                       \". . . . right \"\n                                        ",
       "grid_template_columns": "20% 20% 20% 20% 20%",
       "width": "100%"
      }
     },
     "ac9a217eec614a1e812d8e53bee008bc": {
      "model_module": "@jupyter-widgets/controls",
      "model_module_version": "1.5.0",
      "model_name": "ButtonModel",
      "state": {
       "button_style": "primary",
       "description": "Clear",
       "layout": "IPY_MODEL_0fdff5dfd0fa447480de43a89a8d0f6a",
       "style": "IPY_MODEL_2dc5151d292d44f3bee2dd4cba36ec92"
      }
     },
     "acfeefe404d345708c5e204b8866788f": {
      "model_module": "@jupyter-widgets/base",
      "model_module_version": "1.2.0",
      "model_name": "LayoutModel",
      "state": {
       "width": "145px"
      }
     },
     "adf6da53203d41128e2426688fc2a811": {
      "model_module": "@jupyter-widgets/base",
      "model_module_version": "1.2.0",
      "model_name": "LayoutModel",
      "state": {}
     },
     "ae8334de76dc46d7aed36ca54514be49": {
      "model_module": "@quantum/ibm-q-lab-widgets",
      "model_module_version": "^1.0.3",
      "model_name": "CircuitComposerModel",
      "state": {
       "_model_module_version": "^1.0.3",
       "_view_module_version": "^1.0.3",
       "circuit": "\"OPENQASM 2.0;\\ninclude \\\"qelib1.inc\\\";\\n\\nqreg q[3];\\ncreg c[3];\\n\\n\"",
       "editable": true,
       "layout": "IPY_MODEL_5617775f6e0240b0bafd6c591c590c2e",
       "qiskit_code_cell_index": -1
      }
     },
     "aed2fff20a4a42d281bc7563fe6254ec": {
      "model_module": "@jupyter-widgets/controls",
      "model_module_version": "1.5.0",
      "model_name": "HTMLModel",
      "state": {
       "layout": "IPY_MODEL_acfeefe404d345708c5e204b8866788f",
       "style": "IPY_MODEL_b78763a523884cfc9577adda062a953f",
       "value": "<h5>Backend</h5>"
      }
     },
     "af50ed8c616640dda8dfe43cd971e526": {
      "model_module": "@jupyter-widgets/controls",
      "model_module_version": "1.5.0",
      "model_name": "DescriptionStyleModel",
      "state": {
       "description_width": ""
      }
     },
     "af9441cd16cf4658b7949bf9d81b8b83": {
      "model_module": "@jupyter-widgets/controls",
      "model_module_version": "1.5.0",
      "model_name": "DescriptionStyleModel",
      "state": {
       "description_width": ""
      }
     },
     "aff87702f540424da09390ab205e01ae": {
      "model_module": "@jupyter-widgets/controls",
      "model_module_version": "1.5.0",
      "model_name": "DescriptionStyleModel",
      "state": {
       "description_width": ""
      }
     },
     "b08b187f73454353a24f8751a6892126": {
      "model_module": "@jupyter-widgets/controls",
      "model_module_version": "1.5.0",
      "model_name": "ButtonStyleModel",
      "state": {}
     },
     "b09656910fce43c2aa88f441e8ae49b1": {
      "model_module": "@jupyter-widgets/controls",
      "model_module_version": "1.5.0",
      "model_name": "ButtonStyleModel",
      "state": {}
     },
     "b09c4aebd3c04d00ba6c15ccca3c0bf5": {
      "model_module": "@jupyter-widgets/controls",
      "model_module_version": "1.5.0",
      "model_name": "ButtonModel",
      "state": {
       "button_style": "primary",
       "description": "Clear",
       "layout": "IPY_MODEL_bbf8b1fd0cab471fb3c2f9e71196371b",
       "style": "IPY_MODEL_148dbc5ca6d54610a7cae53105d55710"
      }
     },
     "b180552daa064c58a5d10a8c97a65dd0": {
      "model_module": "@jupyter-widgets/base",
      "model_module_version": "1.2.0",
      "model_name": "LayoutModel",
      "state": {}
     },
     "b19bbdecfec140caa8f2b64896d5130e": {
      "model_module": "@quantum/ibm-q-lab-widgets",
      "model_module_version": "^1.0.3",
      "model_name": "CircuitComposerModel",
      "state": {
       "_model_module_version": "^1.0.3",
       "_view_module_version": "^1.0.3",
       "circuit": "\"OPENQASM 2.0;\\ninclude \\\"qelib1.inc\\\";\\n\\nqreg q[3];\\ncreg c[3];\\n\\nccx q[0],q[1],q[2];\"",
       "editable": true,
       "layout": "IPY_MODEL_69ea08366f8e4be08dddde0c0fbcc764",
       "qiskit_code_cell_index": -1
      }
     },
     "b1db84f3cc4a4066a8df14637419630c": {
      "model_module": "@quantum/ibm-q-lab-widgets",
      "model_module_version": "^1.0.3",
      "model_name": "CircuitComposerModel",
      "state": {
       "_model_module_version": "^1.0.3",
       "_view_module_version": "^1.0.3",
       "circuit": "\"OPENQASM 2.0;\\ninclude \\\"qelib1.inc\\\";\\n\\nqreg q[3];\\ncreg c[3];\\n\\nswap q[0],q[1];\\nz q[2];\"",
       "editable": true,
       "layout": "IPY_MODEL_50091921f7684addb5afd14d51d0de14",
       "qiskit_code_cell_index": -1
      }
     },
     "b2031dd1b2894b1182f619f10b6fa4f7": {
      "model_module": "@quantum/ibm-q-lab-widgets",
      "model_module_version": "^1.0.3",
      "model_name": "CircuitComposerModel",
      "state": {
       "_model_module_version": "^1.0.3",
       "_view_module_version": "^1.0.3",
       "circuit": "\"OPENQASM 2.0;\\ninclude \\\"qelib1.inc\\\";\\n\\nqreg q[3];\\ncreg c[1];\\n\\ncx q[1],q[2];\\ncx q[0],q[2];\\nccx q[0],q[1],q[2];\\nmeasure q[2] -> c[0];\\nx q[2];\\nmeasure q[2] -> c[0];\"",
       "editable": true,
       "layout": "IPY_MODEL_52b7a4d861f34d46b947838bca90c284",
       "qiskit_code_cell_index": -1
      }
     },
     "b294265339d747a6aa25f5996d4f7077": {
      "model_module": "@quantum/ibm-q-lab-widgets",
      "model_module_version": "^1.0.3",
      "model_name": "CircuitComposerModel",
      "state": {
       "_model_module_version": "^1.0.3",
       "_view_module_version": "^1.0.3",
       "circuit": "\"OPENQASM 2.0;\\ninclude \\\"qelib1.inc\\\";\\n\\nqreg q[3];\\ncreg c[3];\\n\\n\"",
       "editable": true,
       "layout": "IPY_MODEL_6cc701461412458ca8245149cec18326",
       "qiskit_code_cell_index": -1
      }
     },
     "b2a697572d834a1e92bfd7109dd150e0": {
      "model_module": "@jupyter-widgets/controls",
      "model_module_version": "1.5.0",
      "model_name": "HTMLModel",
      "state": {
       "layout": "IPY_MODEL_cb084de5b03f49bd86e465a0dfb0d75b",
       "style": "IPY_MODEL_f2014f13fe1a4e2784242914d68b5286",
       "value": "<h5>Queue</h5>"
      }
     },
     "b2c4aef6b8ca48e289c86f64de5d8657": {
      "model_module": "@jupyter-widgets/controls",
      "model_module_version": "1.5.0",
      "model_name": "DescriptionStyleModel",
      "state": {
       "description_width": ""
      }
     },
     "b38bbe14cf5a4ab5840961b0478b5402": {
      "model_module": "@jupyter-widgets/controls",
      "model_module_version": "1.5.0",
      "model_name": "DescriptionStyleModel",
      "state": {
       "description_width": ""
      }
     },
     "b445f0e465864ce282896f13ec86a2b1": {
      "model_module": "@jupyter-widgets/controls",
      "model_module_version": "1.5.0",
      "model_name": "HTMLModel",
      "state": {
       "layout": "IPY_MODEL_c2775f83dbed4958a11efd55ffe7046a",
       "style": "IPY_MODEL_539edb2fa7d64f7d8fc82c8a6c9ca8f8",
       "value": "<h5>Queue</h5>"
      }
     },
     "b44e1e7f864f4ba48cc33ff6d817dd77": {
      "model_module": "@jupyter-widgets/controls",
      "model_module_version": "1.5.0",
      "model_name": "GridBoxModel",
      "state": {
       "children": [
        "IPY_MODEL_907ca8dcd51d4ae99b6476f8c8286168"
       ],
       "layout": "IPY_MODEL_82231b026e924401b018112f62c5e103"
      }
     },
     "b4c22c7c95864dfc9209e214aac7ccf8": {
      "model_module": "@jupyter-widgets/controls",
      "model_module_version": "1.5.0",
      "model_name": "DescriptionStyleModel",
      "state": {
       "description_width": ""
      }
     },
     "b5220d3a2d054a719cbff07cd8281971": {
      "model_module": "@quantum/ibm-q-lab-widgets",
      "model_module_version": "^1.0.3",
      "model_name": "CircuitComposerModel",
      "state": {
       "_model_module_version": "^1.0.3",
       "_view_module_version": "^1.0.3",
       "circuit": "\"OPENQASM 2.0;\\ninclude \\\"qelib1.inc\\\";\\n\\nqreg q[1];\\ncreg c[1];\\n\\nrz(pi/2) q[0];\\nsx q[0];\\nrz(pi/2) q[0];\"",
       "editable": true,
       "layout": "IPY_MODEL_44a79fd77b9e477684de365174366130",
       "qiskit_code_cell_index": -1
      }
     },
     "b590a930a818462484b91054cf132cce": {
      "model_module": "@jupyter-widgets/controls",
      "model_module_version": "1.5.0",
      "model_name": "DescriptionStyleModel",
      "state": {
       "description_width": ""
      }
     },
     "b5cf49e4ff684a9db08840ab0a980035": {
      "model_module": "@jupyter-widgets/controls",
      "model_module_version": "1.5.0",
      "model_name": "HTMLModel",
      "state": {
       "layout": "IPY_MODEL_6863cbb083e04d5c9c1a95731ce70f20",
       "style": "IPY_MODEL_2eb21c61c63d4abc806bb17d0afddd9e",
       "value": "<h5>Backend</h5>"
      }
     },
     "b5e2b7928d0249aaba6c60bb33f86a00": {
      "model_module": "@jupyter-widgets/controls",
      "model_module_version": "1.5.0",
      "model_name": "DescriptionStyleModel",
      "state": {
       "description_width": ""
      }
     },
     "b628159114464dd891140376f02cf211": {
      "model_module": "@quantum/ibm-q-lab-widgets",
      "model_module_version": "^1.0.3",
      "model_name": "CircuitComposerModel",
      "state": {
       "_model_module_version": "^1.0.3",
       "_view_module_version": "^1.0.3",
       "circuit": "\"OPENQASM 2.0;\\ninclude \\\"qelib1.inc\\\";\\n\\nqreg q[3];\\ncreg c[1];\\n\\ncx q[1],q[2];\\ncx q[0],q[2];\\nccx q[0],q[1],q[2];\"",
       "editable": true,
       "layout": "IPY_MODEL_602567b829324270a8ac201d69a4df37",
       "qiskit_code_cell_index": -1
      }
     },
     "b63b04f532294089868280454e3f4798": {
      "model_module": "@jupyter-widgets/controls",
      "model_module_version": "1.5.0",
      "model_name": "HTMLModel",
      "state": {
       "layout": "IPY_MODEL_4ff1b32437774bbbae4e9a5e0650e8a1",
       "style": "IPY_MODEL_b38bbe14cf5a4ab5840961b0478b5402",
       "value": "<h5>Message</h5>"
      }
     },
     "b645d55afc6649dd807e38ab30da764b": {
      "model_module": "@jupyter-widgets/base",
      "model_module_version": "1.2.0",
      "model_name": "LayoutModel",
      "state": {}
     },
     "b6762a63f86c494393bc4024ef5d6ec7": {
      "model_module": "@jupyter-widgets/base",
      "model_module_version": "1.2.0",
      "model_name": "LayoutModel",
      "state": {
       "grid_area": "right",
       "padding": "0px 0px 0px 0px",
       "width": "70px"
      }
     },
     "b78763a523884cfc9577adda062a953f": {
      "model_module": "@jupyter-widgets/controls",
      "model_module_version": "1.5.0",
      "model_name": "DescriptionStyleModel",
      "state": {
       "description_width": ""
      }
     },
     "b7f0e778814b4e98963d09b9e4bf74b0": {
      "model_module": "@jupyter-widgets/base",
      "model_module_version": "1.2.0",
      "model_name": "LayoutModel",
      "state": {
       "width": "95px"
      }
     },
     "b8ce2361a7ea4a349fc3f22c37b0c3a2": {
      "model_module": "@jupyter-widgets/controls",
      "model_module_version": "1.5.0",
      "model_name": "HTMLModel",
      "state": {
       "layout": "IPY_MODEL_3326f789e1454d848be17beeadad59cd",
       "style": "IPY_MODEL_7039e4855fa24b4fb551de5b163bc636",
       "value": "<h5>Job ID</h5>"
      }
     },
     "b92aa6be60ee4e899137ad65127f76fd": {
      "model_module": "@jupyter-widgets/controls",
      "model_module_version": "1.5.0",
      "model_name": "DescriptionStyleModel",
      "state": {
       "description_width": ""
      }
     },
     "b9f125d38e9048bab1472bb934ddb2fb": {
      "model_module": "@jupyter-widgets/controls",
      "model_module_version": "1.5.0",
      "model_name": "HBoxModel",
      "state": {
       "children": [
        "IPY_MODEL_4eb2200cb71e4110bfe473b01ae616bf",
        "IPY_MODEL_d7afc2237a0e4836a6acf4b10eb741a0",
        "IPY_MODEL_81c00e1676ed404ca7efacd7c80fb9df",
        "IPY_MODEL_f92aa752b1a545efae5f89e89db79bff",
        "IPY_MODEL_e382101b4a5740cfbac8c74ee2070e6d"
       ],
       "layout": "IPY_MODEL_258eae7128724a828fd604a4df2853d7"
      }
     },
     "ba3a947a23044cafbd704624afc57c97": {
      "model_module": "@quantum/ibm-q-lab-widgets",
      "model_module_version": "^1.0.3",
      "model_name": "CircuitComposerModel",
      "state": {
       "_model_module_version": "^1.0.3",
       "_view_module_version": "^1.0.3",
       "circuit": "\"OPENQASM 2.0;\\ninclude \\\"qelib1.inc\\\";\\n\\nqreg q[3];\\ncreg c[1];\\n\\ncx q[1],q[2];\\ncx q[0],q[2];\\nccx q[0],q[1],q[2];\\nmeasure q[2] -> c[0];\"",
       "editable": true,
       "layout": "IPY_MODEL_7aa1ea80fabc4a74a04a47d302486a90",
       "qiskit_code_cell_index": -1
      }
     },
     "ba9ec7881d914d3aa50939e451533e0c": {
      "model_module": "@quantum/ibm-q-lab-widgets",
      "model_module_version": "^1.0.3",
      "model_name": "CircuitComposerModel",
      "state": {
       "_model_module_version": "^1.0.3",
       "_view_module_version": "^1.0.3",
       "circuit": "\"OPENQASM 2.0;\\ninclude \\\"qelib1.inc\\\";\\n\\nqreg q2[3];\\ncreg c1[3];\\n\\ncx q2[1],q2[2];\\ncx q2[0],q2[2];\\nccx q2[0],q2[1],q2[2];\"",
       "editable": true,
       "layout": "IPY_MODEL_091123743b774ed39186e57d7a6db20a",
       "qiskit_code_cell_index": -1
      }
     },
     "baf8a86c6f7c4fd98bf0e0f0ea0aa3cb": {
      "model_module": "@jupyter-widgets/base",
      "model_module_version": "1.2.0",
      "model_name": "LayoutModel",
      "state": {}
     },
     "bb1a35f52d3c480f8a893f487356cefd": {
      "model_module": "@jupyter-widgets/controls",
      "model_module_version": "1.5.0",
      "model_name": "ButtonStyleModel",
      "state": {}
     },
     "bbd2508fb2f842628e3041fd4e440c1c": {
      "model_module": "@jupyter-widgets/controls",
      "model_module_version": "1.5.0",
      "model_name": "ButtonStyleModel",
      "state": {}
     },
     "bbf8b1fd0cab471fb3c2f9e71196371b": {
      "model_module": "@jupyter-widgets/base",
      "model_module_version": "1.2.0",
      "model_name": "LayoutModel",
      "state": {
       "grid_area": "right",
       "padding": "0px 0px 0px 0px",
       "width": "70px"
      }
     },
     "bc06df4c45e541b986a8bdc23fbda3ff": {
      "model_module": "@jupyter-widgets/controls",
      "model_module_version": "1.5.0",
      "model_name": "ButtonModel",
      "state": {
       "button_style": "primary",
       "description": "Clear",
       "layout": "IPY_MODEL_f06820c4aec74a3f9973d65f7a6e9aef",
       "style": "IPY_MODEL_0631a355ddda42ef83569e488403b044"
      }
     },
     "bc2d30aa2f63499499f15173b90aad59": {
      "model_module": "@quantum/ibm-q-lab-widgets",
      "model_module_version": "^1.0.3",
      "model_name": "CircuitComposerModel",
      "state": {
       "_model_module_version": "^1.0.3",
       "_view_module_version": "^1.0.3",
       "circuit": "\"OPENQASM 2.0;\\ninclude \\\"qelib1.inc\\\";\\n\\nqreg q[3];\\ncreg c[3];\\n\\n\"",
       "editable": true,
       "layout": "IPY_MODEL_18446bda42004779b833ddc7297f73d5",
       "qiskit_code_cell_index": -1
      }
     },
     "bc4d49ec36884ca08d7e3c361c8f2eb9": {
      "model_module": "@jupyter-widgets/base",
      "model_module_version": "1.2.0",
      "model_name": "LayoutModel",
      "state": {}
     },
     "bcdb4f764418464d876656ff47969d41": {
      "model_module": "@jupyter-widgets/controls",
      "model_module_version": "1.5.0",
      "model_name": "HTMLModel",
      "state": {
       "layout": "IPY_MODEL_d7047d99a6dd411195b6ef798571a3e4",
       "style": "IPY_MODEL_50dfd93bae63492d84ad39f8f3cbed18",
       "value": "<h5>Backend</h5>"
      }
     },
     "bd90c585db9348878d7a0d76beaffa66": {
      "model_module": "@jupyter-widgets/controls",
      "model_module_version": "1.5.0",
      "model_name": "HTMLModel",
      "state": {
       "layout": "IPY_MODEL_e26c82484e4f45318ab5f789f4a23f82",
       "style": "IPY_MODEL_791934bf3d9341cda49c154379622d16",
       "value": "<h5>Backend</h5>"
      }
     },
     "bd911de90a7b4c369d1bd8892c6411ed": {
      "model_module": "@jupyter-widgets/controls",
      "model_module_version": "1.5.0",
      "model_name": "HTMLModel",
      "state": {
       "layout": "IPY_MODEL_da762a1b8ae747bd88cfeca2f4f9aa62",
       "style": "IPY_MODEL_f85c891265d7425a82cc4602ca1888d5",
       "value": "<p style='font-family: IBM Plex Sans, Arial, Helvetica, sans-serif; font-size: 20px; font-weight: medium;'>Circuit Properties</p>"
      }
     },
     "be119dbd25db4e1bae2fc6935a3478a3": {
      "model_module": "@jupyter-widgets/base",
      "model_module_version": "1.2.0",
      "model_name": "LayoutModel",
      "state": {}
     },
     "be299f6812f34f87a5d2e5aa345c86d4": {
      "model_module": "@jupyter-widgets/controls",
      "model_module_version": "1.5.0",
      "model_name": "DescriptionStyleModel",
      "state": {
       "description_width": ""
      }
     },
     "be615fa4e37f46f4b2bd64f94695d231": {
      "model_module": "@jupyter-widgets/base",
      "model_module_version": "1.2.0",
      "model_name": "LayoutModel",
      "state": {}
     },
     "be86b667811843688ab1253125617b32": {
      "model_module": "@jupyter-widgets/controls",
      "model_module_version": "1.5.0",
      "model_name": "HTMLModel",
      "state": {
       "layout": "IPY_MODEL_685e193ac6ee4050870c824dd57d9e2b",
       "style": "IPY_MODEL_ef12d0696cbc4f05ab783c9634d5597e",
       "value": "<p style='font-family: IBM Plex Sans, Arial, Helvetica, sans-serif; font-size: 20px; font-weight: medium;'>Circuit Properties</p>"
      }
     },
     "be922707f6f4439fab3d49f822b253db": {
      "model_module": "@jupyter-widgets/base",
      "model_module_version": "1.2.0",
      "model_name": "LayoutModel",
      "state": {}
     },
     "bec7757e5e1e4fec8d973d1c24a584d6": {
      "model_module": "@jupyter-widgets/controls",
      "model_module_version": "1.5.0",
      "model_name": "HBoxModel",
      "state": {
       "children": [
        "IPY_MODEL_44f669391a4d42b282d9bf437d5305d0",
        "IPY_MODEL_cb4c7e0aadae4110860bbb1fac279178",
        "IPY_MODEL_f25aea119fc349cab9f22829fd3c47fc",
        "IPY_MODEL_5901f5b47e3c4e06bcfb63ff4463ed63",
        "IPY_MODEL_b63b04f532294089868280454e3f4798"
       ],
       "layout": "IPY_MODEL_ec686d0859ce4b9dbe76b1aefb3c04b0"
      }
     },
     "bede716561ee493485972f70dfc0bba5": {
      "model_module": "@jupyter-widgets/controls",
      "model_module_version": "1.5.0",
      "model_name": "DescriptionStyleModel",
      "state": {
       "description_width": ""
      }
     },
     "bee7af23f12e42298f23a7ff2a775cb3": {
      "model_module": "@jupyter-widgets/controls",
      "model_module_version": "1.5.0",
      "model_name": "HTMLModel",
      "state": {
       "layout": "IPY_MODEL_02aee6b7777c41c5989acace1c0973bd",
       "style": "IPY_MODEL_2fa82dae3b0b44c7b106fa28f21631bc",
       "value": "<h5>Queue</h5>"
      }
     },
     "bef9ce11be074a00a12303925868a1fa": {
      "model_module": "@jupyter-widgets/base",
      "model_module_version": "1.2.0",
      "model_name": "LayoutModel",
      "state": {}
     },
     "bf8f3e463caa49e98a914fd74b757d31": {
      "model_module": "@jupyter-widgets/controls",
      "model_module_version": "1.5.0",
      "model_name": "DescriptionStyleModel",
      "state": {
       "description_width": ""
      }
     },
     "bfb91f9f217844568337ce77202b67bc": {
      "model_module": "@jupyter-widgets/base",
      "model_module_version": "1.2.0",
      "model_name": "LayoutModel",
      "state": {
       "width": "190px"
      }
     },
     "c0379b36527e43a193afc697783d883c": {
      "model_module": "@quantum/ibm-q-lab-widgets",
      "model_module_version": "^1.0.3",
      "model_name": "CircuitComposerModel",
      "state": {
       "_model_module_version": "^1.0.3",
       "_view_module_version": "^1.0.3",
       "circuit": "\"OPENQASM 2.0;\\ninclude \\\"qelib1.inc\\\";\\n\\nqreg q0[3];\\ncreg c0[3];\\n\\ncx q0[1],q0[2];\\ncx q0[0],q0[2];\\nccx q0[0],q0[1],q0[2];\\nx q0[2];\\nmeasure q0[2] -> c0[0];\"",
       "editable": true,
       "layout": "IPY_MODEL_87e5b80d6e534ef79b8c1311e137fd98",
       "qiskit_code_cell_index": -1
      }
     },
     "c0460781e0ca4635a86044b535e74011": {
      "model_module": "@jupyter-widgets/base",
      "model_module_version": "1.2.0",
      "model_name": "LayoutModel",
      "state": {
       "margin": "0px 0px 0px 37px",
       "width": "600px"
      }
     },
     "c0ccbe4ab2ea41ccacdfd6fd66f7502b": {
      "model_module": "@quantum/ibm-q-lab-widgets",
      "model_module_version": "^1.0.3",
      "model_name": "CircuitComposerModel",
      "state": {
       "_model_module_version": "^1.0.3",
       "_view_module_version": "^1.0.3",
       "circuit": "\"OPENQASM 2.0;\\ninclude \\\"qelib1.inc\\\";\\n\\nqreg q[3];\\ncreg c[3];\\n\\n\"",
       "editable": true,
       "layout": "IPY_MODEL_cd127382fb094b509763fb26f4a6efb0",
       "qiskit_code_cell_index": -1
      }
     },
     "c23d34059bd94326a2db9a68e34a2296": {
      "model_module": "@jupyter-widgets/controls",
      "model_module_version": "1.5.0",
      "model_name": "ButtonModel",
      "state": {
       "button_style": "primary",
       "description": "Clear",
       "layout": "IPY_MODEL_030a012c6ecd4829857f874f5abcae9f",
       "style": "IPY_MODEL_746eefff70994b2ca689a2790ab4e164"
      }
     },
     "c2775f83dbed4958a11efd55ffe7046a": {
      "model_module": "@jupyter-widgets/base",
      "model_module_version": "1.2.0",
      "model_name": "LayoutModel",
      "state": {
       "width": "70px"
      }
     },
     "c2b6ab2140e646a49a8f7e4c8ecf3cad": {
      "model_module": "@jupyter-widgets/controls",
      "model_module_version": "1.5.0",
      "model_name": "ButtonModel",
      "state": {
       "button_style": "primary",
       "description": "Clear",
       "layout": "IPY_MODEL_8a0fd74f175b40ce9a7cb620e082f844",
       "style": "IPY_MODEL_c836f0a41d7f4f2e92106e60d2d349e1"
      }
     },
     "c2c9c6b295d843cba77b4835e43fec85": {
      "model_module": "@jupyter-widgets/controls",
      "model_module_version": "1.5.0",
      "model_name": "HTMLModel",
      "state": {
       "layout": "IPY_MODEL_40b07e1e3e7b4e3d8391b6d150fc0201",
       "style": "IPY_MODEL_77bcaf6d5cdd4db2a5d70a7b8a493456",
       "value": "<h5>Message</h5>"
      }
     },
     "c2e484c5d6af4da2983d5d54c1f28343": {
      "model_module": "@jupyter-widgets/controls",
      "model_module_version": "1.5.0",
      "model_name": "ButtonStyleModel",
      "state": {}
     },
     "c562f2f16b5c438fa3272c4a145e7d01": {
      "model_module": "@jupyter-widgets/controls",
      "model_module_version": "1.5.0",
      "model_name": "HTMLModel",
      "state": {
       "layout": "IPY_MODEL_40efb9a1549147f1ad1f826f3d7905f6",
       "style": "IPY_MODEL_b92aa6be60ee4e899137ad65127f76fd",
       "value": "<h5>Backend</h5>"
      }
     },
     "c56a4a86ac954e1eb840e50b5b9a05d9": {
      "model_module": "@jupyter-widgets/controls",
      "model_module_version": "1.5.0",
      "model_name": "DescriptionStyleModel",
      "state": {
       "description_width": ""
      }
     },
     "c6ab8065cab84bf6b7252daeabe56432": {
      "model_module": "@jupyter-widgets/controls",
      "model_module_version": "1.5.0",
      "model_name": "ButtonModel",
      "state": {
       "button_style": "primary",
       "description": "Clear",
       "layout": "IPY_MODEL_82b98116d62c4ebb892f4468d53c518c",
       "style": "IPY_MODEL_bbd2508fb2f842628e3041fd4e440c1c"
      }
     },
     "c6d3436b35f34d3e9949f934ac549e3f": {
      "model_module": "@jupyter-widgets/base",
      "model_module_version": "1.2.0",
      "model_name": "LayoutModel",
      "state": {
       "grid_area": "right",
       "padding": "0px 0px 0px 0px",
       "width": "70px"
      }
     },
     "c707cc74eaa540be9be0d25c7d82210e": {
      "model_module": "@quantum/ibm-q-lab-widgets",
      "model_module_version": "^1.0.3",
      "model_name": "CircuitComposerModel",
      "state": {
       "_model_module_version": "^1.0.3",
       "_view_module_version": "^1.0.3",
       "circuit": "\"OPENQASM 2.0;\\ninclude \\\"qelib1.inc\\\";\\n\\nqreg q1[3];\\ncreg c1[3];\\n\\ncx q1[1],q1[2];\\ncx q1[0],q1[2];\\nccx q1[0],q1[1],q1[2];\\nx q1[2];\\nmeasure q1[2] -> c1[2];\"",
       "editable": true,
       "layout": "IPY_MODEL_42f3b30f55f64d82b1c6439cd4367cb8",
       "qiskit_code_cell_index": -1
      }
     },
     "c836f0a41d7f4f2e92106e60d2d349e1": {
      "model_module": "@jupyter-widgets/controls",
      "model_module_version": "1.5.0",
      "model_name": "ButtonStyleModel",
      "state": {}
     },
     "c88cdfec06954233bc054aaf4cba9576": {
      "model_module": "@jupyter-widgets/controls",
      "model_module_version": "1.5.0",
      "model_name": "DescriptionStyleModel",
      "state": {
       "description_width": ""
      }
     },
     "c8955b002d324a4b93bd46aca4240933": {
      "model_module": "@jupyter-widgets/base",
      "model_module_version": "1.2.0",
      "model_name": "LayoutModel",
      "state": {}
     },
     "c8cde8426f394fa59dd11b394cb85d73": {
      "model_module": "@jupyter-widgets/controls",
      "model_module_version": "1.5.0",
      "model_name": "HTMLModel",
      "state": {
       "layout": "IPY_MODEL_7f34b188d2de4f6698308fc62b378fab",
       "style": "IPY_MODEL_3b9a86da9f5240df818956e4fb25e041",
       "value": "<p style='font-family: IBM Plex Sans, Arial, Helvetica, sans-serif; font-size: 20px; font-weight: medium;'>Circuit Properties</p>"
      }
     },
     "c92a59f8047745988e4992e5b00cd622": {
      "model_module": "@jupyter-widgets/controls",
      "model_module_version": "1.5.0",
      "model_name": "DescriptionStyleModel",
      "state": {
       "description_width": ""
      }
     },
     "ca100b5afbfc4bfa877aacd42926cb5b": {
      "model_module": "@jupyter-widgets/controls",
      "model_module_version": "1.5.0",
      "model_name": "HTMLModel",
      "state": {
       "layout": "IPY_MODEL_f5a3d7f450034d3aa136a390f4362e66",
       "style": "IPY_MODEL_40a9e1e7c0a54ca0b3482f31af76b784",
       "value": "<p style='font-family: IBM Plex Sans, Arial, Helvetica, sans-serif; font-size: 20px; font-weight: medium;'>Circuit Properties</p>"
      }
     },
     "cb084de5b03f49bd86e465a0dfb0d75b": {
      "model_module": "@jupyter-widgets/base",
      "model_module_version": "1.2.0",
      "model_name": "LayoutModel",
      "state": {
       "width": "70px"
      }
     },
     "cb2cfb5b6cef47a08b69b39cf5c9c1d0": {
      "model_module": "@jupyter-widgets/controls",
      "model_module_version": "1.5.0",
      "model_name": "HBoxModel",
      "state": {
       "children": [
        "IPY_MODEL_14ca63ea4128479da9f01354ea081f79",
        "IPY_MODEL_06e37e6a43f14b90a29ed82464f87774",
        "IPY_MODEL_a680d46ae9e24200b5cfbfda6f403ac0",
        "IPY_MODEL_799fa903848b49e5b2b5b83869c3825c",
        "IPY_MODEL_44c3084221074279a1fe65621ffec4c0"
       ],
       "layout": "IPY_MODEL_0da50320e5bd46b3aa7042daf06cab2b"
      }
     },
     "cb2e28b8ce1a470fb9844e83bb73ac68": {
      "model_module": "@jupyter-widgets/base",
      "model_module_version": "1.2.0",
      "model_name": "LayoutModel",
      "state": {}
     },
     "cb31773f5b4e4312bd471da8fa93c8ed": {
      "model_module": "@jupyter-widgets/controls",
      "model_module_version": "1.5.0",
      "model_name": "DescriptionStyleModel",
      "state": {
       "description_width": ""
      }
     },
     "cb4c7e0aadae4110860bbb1fac279178": {
      "model_module": "@jupyter-widgets/controls",
      "model_module_version": "1.5.0",
      "model_name": "HTMLModel",
      "state": {
       "layout": "IPY_MODEL_7a6576a2ab9f40b0b5e0f9d2aee56d10",
       "style": "IPY_MODEL_48b56f32910541c1999e1ccaef3d090c",
       "value": "<h5>Backend</h5>"
      }
     },
     "cb6e53942e7d45c7a8ca94514e6d2951": {
      "model_module": "@jupyter-widgets/controls",
      "model_module_version": "1.5.0",
      "model_name": "DescriptionStyleModel",
      "state": {
       "description_width": ""
      }
     },
     "cbd171354f9d49f7bcf893a65d962e73": {
      "model_module": "@jupyter-widgets/controls",
      "model_module_version": "1.5.0",
      "model_name": "HTMLModel",
      "state": {
       "layout": "IPY_MODEL_26e3aaa102d345c8ae70a39dbe56c7f1",
       "style": "IPY_MODEL_458b76229ac9466a93968d7ac98a73a7",
       "value": "<p style='font-family: IBM Plex Sans, Arial, Helvetica, sans-serif; font-size: 20px; font-weight: medium;'>Circuit Properties</p>"
      }
     },
     "cc117848b99c42fca4463a1a1cb0f3f4": {
      "model_module": "@quantum/ibm-q-lab-widgets",
      "model_module_version": "^1.0.3",
      "model_name": "CircuitComposerModel",
      "state": {
       "_model_module_version": "^1.0.3",
       "_view_module_version": "^1.0.3",
       "circuit": "\"OPENQASM 2.0;\\ninclude \\\"qelib1.inc\\\";\\n\\nqreg q[3];\\ncreg c[3];\\n\\nccx q[0],q[1],q[2];\"",
       "editable": true,
       "layout": "IPY_MODEL_b180552daa064c58a5d10a8c97a65dd0",
       "qiskit_code_cell_index": -1
      }
     },
     "cc71eb09ce1b494b81f90cfcc2e1dd95": {
      "model_module": "@jupyter-widgets/base",
      "model_module_version": "1.2.0",
      "model_name": "LayoutModel",
      "state": {}
     },
     "cc89dbf37fa14efea7990eff2937ad20": {
      "model_module": "@jupyter-widgets/controls",
      "model_module_version": "1.5.0",
      "model_name": "HBoxModel",
      "state": {
       "children": [
        "IPY_MODEL_b8ce2361a7ea4a349fc3f22c37b0c3a2",
        "IPY_MODEL_7eb7d592b7364615842e585ec91e5d11",
        "IPY_MODEL_a995ab1aa4e641de9c7bd17565313757",
        "IPY_MODEL_663821625faf4cf18279a0cb70a5df3b",
        "IPY_MODEL_a625863b3c27475e9f15361af2d48ced"
       ],
       "layout": "IPY_MODEL_988545c15da74334bc930567aa91dfb8"
      }
     },
     "cd127382fb094b509763fb26f4a6efb0": {
      "model_module": "@jupyter-widgets/base",
      "model_module_version": "1.2.0",
      "model_name": "LayoutModel",
      "state": {}
     },
     "cda4d9e419464993bc7ad28f3237ff69": {
      "model_module": "@jupyter-widgets/controls",
      "model_module_version": "1.5.0",
      "model_name": "HTMLModel",
      "state": {
       "layout": "IPY_MODEL_a1f3145fb47f4d76ad779a51947861b4",
       "style": "IPY_MODEL_00fec089e9a247ee81746cd2e8672b95",
       "value": "<h5>Message</h5>"
      }
     },
     "d00d6210a81d40af8b725a661b8be93b": {
      "model_module": "@jupyter-widgets/controls",
      "model_module_version": "1.5.0",
      "model_name": "DescriptionStyleModel",
      "state": {
       "description_width": ""
      }
     },
     "d08d82ed729f4159a75b712499aad162": {
      "model_module": "@jupyter-widgets/controls",
      "model_module_version": "1.5.0",
      "model_name": "HTMLModel",
      "state": {
       "layout": "IPY_MODEL_883b175146d344bf9c74af87605d42fb",
       "style": "IPY_MODEL_c56a4a86ac954e1eb840e50b5b9a05d9",
       "value": "<h5>Backend</h5>"
      }
     },
     "d0de14d57e3d4a6ca32e7bc02a805600": {
      "model_module": "@jupyter-widgets/controls",
      "model_module_version": "1.5.0",
      "model_name": "HTMLModel",
      "state": {
       "layout": "IPY_MODEL_a1aae185da6941518751e6b928729bcd",
       "style": "IPY_MODEL_b590a930a818462484b91054cf132cce",
       "value": "<h5>Queue</h5>"
      }
     },
     "d1335188923643bfb57240e633bab22a": {
      "model_module": "@jupyter-widgets/controls",
      "model_module_version": "1.5.0",
      "model_name": "DescriptionStyleModel",
      "state": {
       "description_width": ""
      }
     },
     "d16b266be6e34e9bb89e98554710b8b0": {
      "model_module": "@jupyter-widgets/base",
      "model_module_version": "1.2.0",
      "model_name": "LayoutModel",
      "state": {
       "grid_template_areas": "\n                                       \". . . . right \"\n                                        ",
       "grid_template_columns": "20% 20% 20% 20% 20%",
       "width": "100%"
      }
     },
     "d1e4ae0f595b4df19d172c6af221c849": {
      "model_module": "@jupyter-widgets/controls",
      "model_module_version": "1.5.0",
      "model_name": "DescriptionStyleModel",
      "state": {
       "description_width": ""
      }
     },
     "d396a016b63543358b93758839379b62": {
      "model_module": "@jupyter-widgets/base",
      "model_module_version": "1.2.0",
      "model_name": "LayoutModel",
      "state": {}
     },
     "d49fb7f7f12c494aba1cead52c0259ff": {
      "model_module": "@jupyter-widgets/controls",
      "model_module_version": "1.5.0",
      "model_name": "HTMLModel",
      "state": {
       "layout": "IPY_MODEL_1bb0bd14b17c43fdb984eb3c70c2cef6",
       "style": "IPY_MODEL_173a109f9c714f3f9bbbf01294cc4a4b",
       "value": "<h5>Message</h5>"
      }
     },
     "d51d581f462e44dc8ffa1f3664a2b073": {
      "model_module": "@jupyter-widgets/controls",
      "model_module_version": "1.5.0",
      "model_name": "DescriptionStyleModel",
      "state": {
       "description_width": ""
      }
     },
     "d54997dae4d54069b5bc9b180de4abb7": {
      "model_module": "@jupyter-widgets/controls",
      "model_module_version": "1.5.0",
      "model_name": "DescriptionStyleModel",
      "state": {
       "description_width": ""
      }
     },
     "d690abc463d64f80a2722d23de682e74": {
      "model_module": "@jupyter-widgets/base",
      "model_module_version": "1.2.0",
      "model_name": "LayoutModel",
      "state": {
       "width": "95px"
      }
     },
     "d6c6f0e1e63c4968b6271f43d048d5ae": {
      "model_module": "@jupyter-widgets/base",
      "model_module_version": "1.2.0",
      "model_name": "LayoutModel",
      "state": {
       "width": "95px"
      }
     },
     "d7047d99a6dd411195b6ef798571a3e4": {
      "model_module": "@jupyter-widgets/base",
      "model_module_version": "1.2.0",
      "model_name": "LayoutModel",
      "state": {
       "width": "145px"
      }
     },
     "d769842e39214aae9fed90fe36b450b7": {
      "model_module": "@jupyter-widgets/base",
      "model_module_version": "1.2.0",
      "model_name": "LayoutModel",
      "state": {
       "grid_template_areas": "\n                                       \". . . . right \"\n                                        ",
       "grid_template_columns": "20% 20% 20% 20% 20%",
       "width": "100%"
      }
     },
     "d78743e18e6b47308381f245818f1dd5": {
      "model_module": "@jupyter-widgets/controls",
      "model_module_version": "1.5.0",
      "model_name": "HTMLModel",
      "state": {
       "layout": "IPY_MODEL_5b954be6f7cf4d63b93eca6bfa84bc2b",
       "style": "IPY_MODEL_c92a59f8047745988e4992e5b00cd622",
       "value": "<h5>Status</h5>"
      }
     },
     "d7afc2237a0e4836a6acf4b10eb741a0": {
      "model_module": "@jupyter-widgets/controls",
      "model_module_version": "1.5.0",
      "model_name": "HTMLModel",
      "state": {
       "layout": "IPY_MODEL_385ab6ea8d9f401ab85b126425aef694",
       "style": "IPY_MODEL_e8900ffc672f445e8c43d1003454d0fd",
       "value": "<h5>Backend</h5>"
      }
     },
     "d7ef9eb466c449758d9896eece80ad48": {
      "model_module": "@jupyter-widgets/controls",
      "model_module_version": "1.5.0",
      "model_name": "ButtonStyleModel",
      "state": {}
     },
     "d813abd4f19d43f4a5a0dffecb2f433a": {
      "model_module": "@jupyter-widgets/controls",
      "model_module_version": "1.5.0",
      "model_name": "DescriptionStyleModel",
      "state": {
       "description_width": ""
      }
     },
     "d83d94cfb762416e83ae901504be632d": {
      "model_module": "@quantum/ibm-q-lab-widgets",
      "model_module_version": "^1.0.3",
      "model_name": "CircuitComposerModel",
      "state": {
       "_model_module_version": "^1.0.3",
       "_view_module_version": "^1.0.3",
       "circuit": "\"OPENQASM 2.0;\\ninclude \\\"qelib1.inc\\\";\\n\\nqreg q[3];\\ncreg c[3];\\n\\n\"",
       "editable": true,
       "layout": "IPY_MODEL_e7e2f1ca53c2490890d4809d3d272266",
       "qiskit_code_cell_index": -1
      }
     },
     "d85f26eaecff4d26964747f7489a1573": {
      "model_module": "@jupyter-widgets/controls",
      "model_module_version": "1.5.0",
      "model_name": "HTMLModel",
      "state": {
       "layout": "IPY_MODEL_bef9ce11be074a00a12303925868a1fa",
       "style": "IPY_MODEL_e23c8382adf6402bbe6ed5b67d9d6d6e",
       "value": "<h5>Message</h5>"
      }
     },
     "d89af909d9b449f78f7ad0d3992f8dec": {
      "model_module": "@jupyter-widgets/controls",
      "model_module_version": "1.5.0",
      "model_name": "HTMLModel",
      "state": {
       "layout": "IPY_MODEL_5d424631bc2546f7b402aa7e7ccb75ca",
       "style": "IPY_MODEL_6df98145a8614a84b72c65622704b00a",
       "value": "<h5>Job ID</h5>"
      }
     },
     "d9bcdb5e4d5a4e72839d64cbcf40d037": {
      "model_module": "@jupyter-widgets/base",
      "model_module_version": "1.2.0",
      "model_name": "LayoutModel",
      "state": {}
     },
     "d9f4ed545e1e4d67a63d38461a778ecf": {
      "model_module": "@jupyter-widgets/base",
      "model_module_version": "1.2.0",
      "model_name": "LayoutModel",
      "state": {}
     },
     "d9f692203c9244c9ae4672393711ad9f": {
      "model_module": "@jupyter-widgets/controls",
      "model_module_version": "1.5.0",
      "model_name": "HTMLModel",
      "state": {
       "layout": "IPY_MODEL_59af2373b1854b66826e9d1b4752c19a",
       "style": "IPY_MODEL_6aa4a23a6b6d4519b7e4587b09caded8",
       "value": "<p style='font-family: IBM Plex Sans, Arial, Helvetica, sans-serif; font-size: 20px; font-weight: medium;'>Circuit Properties</p>"
      }
     },
     "da762a1b8ae747bd88cfeca2f4f9aa62": {
      "model_module": "@jupyter-widgets/base",
      "model_module_version": "1.2.0",
      "model_name": "LayoutModel",
      "state": {
       "margin": "0px 0px 10px 0px"
      }
     },
     "dbb0f858e4f447f38357cbb52d1d1fd3": {
      "model_module": "@quantum/ibm-q-lab-widgets",
      "model_module_version": "^1.0.3",
      "model_name": "CircuitComposerModel",
      "state": {
       "_model_module_version": "^1.0.3",
       "_view_module_version": "^1.0.3",
       "circuit": "\"OPENQASM 2.0;\\ninclude \\\"qelib1.inc\\\";\\n\\nqreg q[3];\\ncreg c[3];\\n\\n\"",
       "editable": true,
       "layout": "IPY_MODEL_cb2e28b8ce1a470fb9844e83bb73ac68",
       "qiskit_code_cell_index": -1
      }
     },
     "dc3d699c22a749f29a8fb21da21b8f24": {
      "model_module": "@jupyter-widgets/controls",
      "model_module_version": "1.5.0",
      "model_name": "GridBoxModel",
      "state": {
       "children": [
        "IPY_MODEL_efc2400b3cd2435596099265a87e3fe8"
       ],
       "layout": "IPY_MODEL_f8cc3e2120ce4c09a84eea40e9eed074"
      }
     },
     "dd55d56845324b43a32881e7e6333e38": {
      "model_module": "@jupyter-widgets/base",
      "model_module_version": "1.2.0",
      "model_name": "LayoutModel",
      "state": {}
     },
     "def317c975da4c4ea2f50f2939de5caf": {
      "model_module": "@quantum/ibm-q-lab-widgets",
      "model_module_version": "^1.0.3",
      "model_name": "CircuitComposerModel",
      "state": {
       "_model_module_version": "^1.0.3",
       "_view_module_version": "^1.0.3",
       "circuit": "\"OPENQASM 2.0;\\ninclude \\\"qelib1.inc\\\";\\n\\nqreg q[3];\\ncreg c[3];\\n\\n\"",
       "editable": true,
       "layout": "IPY_MODEL_4feea1f6171c4620a320bcc5948a5636",
       "qiskit_code_cell_index": -1
      }
     },
     "df04f5479d67433cb432e45f7a35cecb": {
      "model_module": "@jupyter-widgets/controls",
      "model_module_version": "1.5.0",
      "model_name": "DescriptionStyleModel",
      "state": {
       "description_width": ""
      }
     },
     "df958bfd89d04fc096f9002c8adf0b01": {
      "model_module": "@jupyter-widgets/base",
      "model_module_version": "1.2.0",
      "model_name": "LayoutModel",
      "state": {
       "width": "70px"
      }
     },
     "e02c13655b8749a3b041560f12b70687": {
      "model_module": "@quantum/ibm-q-lab-widgets",
      "model_module_version": "^1.0.3",
      "model_name": "CircuitComposerModel",
      "state": {
       "_model_module_version": "^1.0.3",
       "_view_module_version": "^1.0.3",
       "circuit": "\"OPENQASM 2.0;\\ninclude \\\"qelib1.inc\\\";\\n\\nqreg q29[3];\\ncreg c2[3];\\n\\ncx q29[1],q29[2];\\ncx q29[0],q29[2];\\nccx q29[0],q29[1],q29[2];\"",
       "editable": true,
       "layout": "IPY_MODEL_0ff22eb9feaf477bbc7a94460d34f8ff",
       "qiskit_code_cell_index": -1
      }
     },
     "e12b2829878d4f54b227615b10865be0": {
      "model_module": "@quantum/ibm-q-lab-widgets",
      "model_module_version": "^1.0.3",
      "model_name": "CircuitComposerModel",
      "state": {
       "_model_module_version": "^1.0.3",
       "_view_module_version": "^1.0.3",
       "circuit": "\"OPENQASM 2.0;\\ninclude \\\"qelib1.inc\\\";\\n\\nqreg q[3];\\ncreg c[3];\\n\\n\"",
       "editable": true,
       "layout": "IPY_MODEL_c8955b002d324a4b93bd46aca4240933",
       "qiskit_code_cell_index": -1
      }
     },
     "e143cd6b9bdd4026b13ed57fc89715b5": {
      "model_module": "@jupyter-widgets/controls",
      "model_module_version": "1.5.0",
      "model_name": "ButtonStyleModel",
      "state": {}
     },
     "e14734f3924f4b55bdcc5b4bec5ed494": {
      "model_module": "@jupyter-widgets/controls",
      "model_module_version": "1.5.0",
      "model_name": "HTMLModel",
      "state": {
       "layout": "IPY_MODEL_27fc2fc7bab843b1b8386593140ca910",
       "style": "IPY_MODEL_0c681823017a4cbc8130bed1a43086ac",
       "value": "<h5>Queue</h5>"
      }
     },
     "e1ed78c0731e48229e8a9d93a645fd28": {
      "model_module": "@quantum/ibm-q-lab-widgets",
      "model_module_version": "^1.0.3",
      "model_name": "CircuitComposerModel",
      "state": {
       "_model_module_version": "^1.0.3",
       "_view_module_version": "^1.0.3",
       "circuit": "\"OPENQASM 2.0;\\ninclude \\\"qelib1.inc\\\";\\n\\nqreg q[3];\\ncreg c[3];\\n\\nccx q[0],q[1],q[2];\"",
       "editable": true,
       "layout": "IPY_MODEL_d9bcdb5e4d5a4e72839d64cbcf40d037",
       "qiskit_code_cell_index": -1
      }
     },
     "e23c8382adf6402bbe6ed5b67d9d6d6e": {
      "model_module": "@jupyter-widgets/controls",
      "model_module_version": "1.5.0",
      "model_name": "DescriptionStyleModel",
      "state": {
       "description_width": ""
      }
     },
     "e26c82484e4f45318ab5f789f4a23f82": {
      "model_module": "@jupyter-widgets/base",
      "model_module_version": "1.2.0",
      "model_name": "LayoutModel",
      "state": {
       "width": "145px"
      }
     },
     "e29f6ed0cb8f41cb913d36c9457a2c1b": {
      "model_module": "@jupyter-widgets/base",
      "model_module_version": "1.2.0",
      "model_name": "LayoutModel",
      "state": {
       "margin": "0px 0px 0px 37px",
       "width": "600px"
      }
     },
     "e382101b4a5740cfbac8c74ee2070e6d": {
      "model_module": "@jupyter-widgets/controls",
      "model_module_version": "1.5.0",
      "model_name": "HTMLModel",
      "state": {
       "layout": "IPY_MODEL_3e89aebbd7284b79a0481c5b3284a03c",
       "style": "IPY_MODEL_006a465b0969400c8b27c83965d6e5fd",
       "value": "<h5>Message</h5>"
      }
     },
     "e4356fa47928479fad94f404cb1eb76a": {
      "model_module": "@quantum/ibm-q-lab-widgets",
      "model_module_version": "^1.0.3",
      "model_name": "CircuitComposerModel",
      "state": {
       "_model_module_version": "^1.0.3",
       "_view_module_version": "^1.0.3",
       "circuit": "\"OPENQASM 2.0;\\ninclude \\\"qelib1.inc\\\";\\n\\nqreg q[3];\\ncreg c[1];\\n\\ncx q[1],q[2];\\ncx q[0],q[2];\\nccx q[0],q[1],q[2];\\nmeasure q[2] -> c[0];\"",
       "editable": true,
       "layout": "IPY_MODEL_7ce3d8940b17469e9e285c7670e28900",
       "qiskit_code_cell_index": -1
      }
     },
     "e4526ac078b34ba8a7e6c258e2a288b9": {
      "model_module": "@jupyter-widgets/controls",
      "model_module_version": "1.5.0",
      "model_name": "GridBoxModel",
      "state": {
       "children": [
        "IPY_MODEL_ac9a217eec614a1e812d8e53bee008bc"
       ],
       "layout": "IPY_MODEL_d16b266be6e34e9bb89e98554710b8b0"
      }
     },
     "e458643f1ca9444f854bfbe6e1923944": {
      "model_module": "@jupyter-widgets/controls",
      "model_module_version": "1.5.0",
      "model_name": "DescriptionStyleModel",
      "state": {
       "description_width": ""
      }
     },
     "e47b0f9a91804ea4bb0b55474c5b5af4": {
      "model_module": "@jupyter-widgets/controls",
      "model_module_version": "1.5.0",
      "model_name": "HBoxModel",
      "state": {
       "children": [
        "IPY_MODEL_24c870a8c65440a78e05286f3b64f13f",
        "IPY_MODEL_bd90c585db9348878d7a0d76beaffa66",
        "IPY_MODEL_1690149b711b40619ce096d9bf256b0b",
        "IPY_MODEL_867281371bda41c9a144f55b81f5cb41",
        "IPY_MODEL_51cd6436bd0f4612b7e5a3cd267f5a7f"
       ],
       "layout": "IPY_MODEL_a4954a10292b43efb85baa1d788db3d6"
      }
     },
     "e552c95288ef4dadad357b3602fa630d": {
      "model_module": "@jupyter-widgets/controls",
      "model_module_version": "1.5.0",
      "model_name": "DescriptionStyleModel",
      "state": {
       "description_width": ""
      }
     },
     "e58ce75f933d4be3bfcac31727c0e302": {
      "model_module": "@jupyter-widgets/controls",
      "model_module_version": "1.5.0",
      "model_name": "HTMLModel",
      "state": {
       "layout": "IPY_MODEL_b7f0e778814b4e98963d09b9e4bf74b0",
       "style": "IPY_MODEL_bf8f3e463caa49e98a914fd74b757d31",
       "value": "<h5>Status</h5>"
      }
     },
     "e5bc9438b0974491a248e55d6fa86515": {
      "model_module": "@jupyter-widgets/base",
      "model_module_version": "1.2.0",
      "model_name": "LayoutModel",
      "state": {
       "margin": "0px 0px 0px 37px",
       "width": "600px"
      }
     },
     "e61dea173c9a4870a47e6a93f3be63b9": {
      "model_module": "@jupyter-widgets/base",
      "model_module_version": "1.2.0",
      "model_name": "LayoutModel",
      "state": {}
     },
     "e63ca0a4b446490daf05d3f795cd346e": {
      "model_module": "@jupyter-widgets/base",
      "model_module_version": "1.2.0",
      "model_name": "LayoutModel",
      "state": {
       "width": "190px"
      }
     },
     "e6dbad990ed34d75859d6d820ea44eea": {
      "model_module": "@jupyter-widgets/base",
      "model_module_version": "1.2.0",
      "model_name": "LayoutModel",
      "state": {
       "width": "190px"
      }
     },
     "e7c83160618343cdaa1e31c63f8b6d31": {
      "model_module": "@quantum/ibm-q-lab-widgets",
      "model_module_version": "^1.0.3",
      "model_name": "CircuitComposerModel",
      "state": {
       "_model_module_version": "^1.0.3",
       "_view_module_version": "^1.0.3",
       "circuit": "\"OPENQASM 2.0;\\ninclude \\\"qelib1.inc\\\";\\n\\nqreg q[3];\\ncreg c[3];\\n\\ncx q[1],q[0];\\ncx q[0],q[1];\\ncx q[1],q[0];\\nrz(pi) q[2];\"",
       "editable": true,
       "layout": "IPY_MODEL_f4e84c75810e4d50ab8af126a25c72b6",
       "qiskit_code_cell_index": -1
      }
     },
     "e7cc84e132ee485d935102b3c198d255": {
      "model_module": "@jupyter-widgets/base",
      "model_module_version": "1.2.0",
      "model_name": "LayoutModel",
      "state": {
       "width": "95px"
      }
     },
     "e7e2f1ca53c2490890d4809d3d272266": {
      "model_module": "@jupyter-widgets/base",
      "model_module_version": "1.2.0",
      "model_name": "LayoutModel",
      "state": {}
     },
     "e80410c2c9264536aef853f7f4964a35": {
      "model_module": "@jupyter-widgets/base",
      "model_module_version": "1.2.0",
      "model_name": "LayoutModel",
      "state": {
       "width": "145px"
      }
     },
     "e8845e95893040278aff985df15467dc": {
      "model_module": "@jupyter-widgets/base",
      "model_module_version": "1.2.0",
      "model_name": "LayoutModel",
      "state": {
       "width": "145px"
      }
     },
     "e8900ffc672f445e8c43d1003454d0fd": {
      "model_module": "@jupyter-widgets/controls",
      "model_module_version": "1.5.0",
      "model_name": "DescriptionStyleModel",
      "state": {
       "description_width": ""
      }
     },
     "e99a25578a3a413ab0b267672b43f72b": {
      "model_module": "@jupyter-widgets/base",
      "model_module_version": "1.2.0",
      "model_name": "LayoutModel",
      "state": {}
     },
     "eaf2aee64d05485aa35ea40fab729616": {
      "model_module": "@jupyter-widgets/controls",
      "model_module_version": "1.5.0",
      "model_name": "DescriptionStyleModel",
      "state": {
       "description_width": ""
      }
     },
     "ebe184443e454b59be0306a688d93a1c": {
      "model_module": "@quantum/ibm-q-lab-widgets",
      "model_module_version": "^1.0.3",
      "model_name": "CircuitComposerModel",
      "state": {
       "_model_module_version": "^1.0.3",
       "_view_module_version": "^1.0.3",
       "circuit": "\"OPENQASM 2.0;\\ninclude \\\"qelib1.inc\\\";\\n\\nqreg q19[3];\\ncreg c0[3];\\n\\ncx q19[1],q19[2];\\ncx q19[0],q19[2];\\nccx q19[0],q19[1],q19[2];\"",
       "editable": true,
       "layout": "IPY_MODEL_d9f4ed545e1e4d67a63d38461a778ecf",
       "qiskit_code_cell_index": -1
      }
     },
     "ec3d6cec43f64d109cce41e91a207abf": {
      "model_module": "@jupyter-widgets/base",
      "model_module_version": "1.2.0",
      "model_name": "LayoutModel",
      "state": {
       "margin": "0px 0px 10px 0px"
      }
     },
     "ec686d0859ce4b9dbe76b1aefb3c04b0": {
      "model_module": "@jupyter-widgets/base",
      "model_module_version": "1.2.0",
      "model_name": "LayoutModel",
      "state": {
       "margin": "0px 0px 0px 37px",
       "width": "600px"
      }
     },
     "ece0b69da4ef42e89e2399b90ef89a51": {
      "model_module": "@jupyter-widgets/base",
      "model_module_version": "1.2.0",
      "model_name": "LayoutModel",
      "state": {}
     },
     "ed2398d7377940a19feadec9738c8911": {
      "model_module": "@jupyter-widgets/base",
      "model_module_version": "1.2.0",
      "model_name": "LayoutModel",
      "state": {
       "width": "95px"
      }
     },
     "ed9909234c0b4720b1ef938213c784b5": {
      "model_module": "@jupyter-widgets/base",
      "model_module_version": "1.2.0",
      "model_name": "LayoutModel",
      "state": {}
     },
     "ede3b422e153430b9b0b630a174ce576": {
      "model_module": "@jupyter-widgets/base",
      "model_module_version": "1.2.0",
      "model_name": "LayoutModel",
      "state": {}
     },
     "ee01cfa5318f49bbb51da895d9cbfe98": {
      "model_module": "@jupyter-widgets/base",
      "model_module_version": "1.2.0",
      "model_name": "LayoutModel",
      "state": {
       "width": "95px"
      }
     },
     "ee045c4854f248bd982c15d878f5f3e1": {
      "model_module": "@quantum/ibm-q-lab-widgets",
      "model_module_version": "^1.0.3",
      "model_name": "CircuitComposerModel",
      "state": {
       "_model_module_version": "^1.0.3",
       "_view_module_version": "^1.0.3",
       "circuit": "\"OPENQASM 2.0;\\ninclude \\\"qelib1.inc\\\";\\n\\nqreg q[3];\\ncreg c[3];\\n\\n\"",
       "editable": true,
       "layout": "IPY_MODEL_5e2164ebdde64440b793779b9188b83d",
       "qiskit_code_cell_index": -1
      }
     },
     "ee7a00dab53244b3bc6664228f3e874d": {
      "model_module": "@jupyter-widgets/controls",
      "model_module_version": "1.5.0",
      "model_name": "GridBoxModel",
      "state": {
       "children": [
        "IPY_MODEL_2eaa8833e44744439a072efced3f32ae"
       ],
       "layout": "IPY_MODEL_2d2ce5a6866c461ba81c12a2707933eb"
      }
     },
     "ef12d0696cbc4f05ab783c9634d5597e": {
      "model_module": "@jupyter-widgets/controls",
      "model_module_version": "1.5.0",
      "model_name": "DescriptionStyleModel",
      "state": {
       "description_width": ""
      }
     },
     "ef20b21a3be842a1932eabbd1d8f78d4": {
      "model_module": "@jupyter-widgets/controls",
      "model_module_version": "1.5.0",
      "model_name": "DescriptionStyleModel",
      "state": {
       "description_width": ""
      }
     },
     "efc2400b3cd2435596099265a87e3fe8": {
      "model_module": "@jupyter-widgets/controls",
      "model_module_version": "1.5.0",
      "model_name": "ButtonModel",
      "state": {
       "button_style": "primary",
       "description": "Clear",
       "layout": "IPY_MODEL_982f6afb37b548e19410dcc592c23d66",
       "style": "IPY_MODEL_d7ef9eb466c449758d9896eece80ad48"
      }
     },
     "f06820c4aec74a3f9973d65f7a6e9aef": {
      "model_module": "@jupyter-widgets/base",
      "model_module_version": "1.2.0",
      "model_name": "LayoutModel",
      "state": {
       "grid_area": "right",
       "padding": "0px 0px 0px 0px",
       "width": "70px"
      }
     },
     "f0d64f6e58414d33b497548bf8504e8a": {
      "model_module": "@jupyter-widgets/base",
      "model_module_version": "1.2.0",
      "model_name": "LayoutModel",
      "state": {}
     },
     "f126ac1050dc4512a7836b71f7e4d2d8": {
      "model_module": "@jupyter-widgets/controls",
      "model_module_version": "1.5.0",
      "model_name": "HTMLModel",
      "state": {
       "layout": "IPY_MODEL_57f63cc55b194c82bf9fd4d3751cc7f6",
       "style": "IPY_MODEL_cb31773f5b4e4312bd471da8fa93c8ed",
       "value": "<p style='font-family: IBM Plex Sans, Arial, Helvetica, sans-serif; font-size: 20px; font-weight: medium;'>Circuit Properties</p>"
      }
     },
     "f193048343fd41128afbeb8eca6e7401": {
      "model_module": "@jupyter-widgets/controls",
      "model_module_version": "1.5.0",
      "model_name": "HTMLModel",
      "state": {
       "layout": "IPY_MODEL_26cbbc69c88e4e8b83105bf0cdf77a86",
       "style": "IPY_MODEL_74f24cd3a4464234a81526166562b963",
       "value": "<h5>Message</h5>"
      }
     },
     "f2014f13fe1a4e2784242914d68b5286": {
      "model_module": "@jupyter-widgets/controls",
      "model_module_version": "1.5.0",
      "model_name": "DescriptionStyleModel",
      "state": {
       "description_width": ""
      }
     },
     "f25aea119fc349cab9f22829fd3c47fc": {
      "model_module": "@jupyter-widgets/controls",
      "model_module_version": "1.5.0",
      "model_name": "HTMLModel",
      "state": {
       "layout": "IPY_MODEL_56fb45c8fe2f429e86a11e69e17f6b5c",
       "style": "IPY_MODEL_b2c4aef6b8ca48e289c86f64de5d8657",
       "value": "<h5>Status</h5>"
      }
     },
     "f2a6c5fa72fe4f8faed45ccab979cb03": {
      "model_module": "@jupyter-widgets/controls",
      "model_module_version": "1.5.0",
      "model_name": "DescriptionStyleModel",
      "state": {
       "description_width": ""
      }
     },
     "f41b6aa2f189400e9b216228b90a4ee3": {
      "model_module": "@jupyter-widgets/base",
      "model_module_version": "1.2.0",
      "model_name": "LayoutModel",
      "state": {
       "width": "95px"
      }
     },
     "f45e6270ee2c4f71adebd3df2cdcb121": {
      "model_module": "@jupyter-widgets/controls",
      "model_module_version": "1.5.0",
      "model_name": "HTMLModel",
      "state": {
       "layout": "IPY_MODEL_9abae09d191348feb3b89dcf1ba2c4d5",
       "style": "IPY_MODEL_5074afc2233b4d4cb75e214f5415ad78",
       "value": "<h5>Backend</h5>"
      }
     },
     "f4e84c75810e4d50ab8af126a25c72b6": {
      "model_module": "@jupyter-widgets/base",
      "model_module_version": "1.2.0",
      "model_name": "LayoutModel",
      "state": {}
     },
     "f58a7f58e3d948a887ae0e5a112c4793": {
      "model_module": "@jupyter-widgets/controls",
      "model_module_version": "1.5.0",
      "model_name": "DescriptionStyleModel",
      "state": {
       "description_width": ""
      }
     },
     "f5a3d7f450034d3aa136a390f4362e66": {
      "model_module": "@jupyter-widgets/base",
      "model_module_version": "1.2.0",
      "model_name": "LayoutModel",
      "state": {
       "margin": "0px 0px 10px 0px"
      }
     },
     "f62bbcfe06b54122ad83f33297fc140b": {
      "model_module": "@jupyter-widgets/base",
      "model_module_version": "1.2.0",
      "model_name": "LayoutModel",
      "state": {
       "width": "70px"
      }
     },
     "f64858edb52d4e3a9934dcb4eaa0a453": {
      "model_module": "@jupyter-widgets/base",
      "model_module_version": "1.2.0",
      "model_name": "LayoutModel",
      "state": {
       "margin": "0px 0px 10px 0px"
      }
     },
     "f656665ee2a843408b8bff659ada0675": {
      "model_module": "@jupyter-widgets/controls",
      "model_module_version": "1.5.0",
      "model_name": "DescriptionStyleModel",
      "state": {
       "description_width": ""
      }
     },
     "f656da7b0e564e1eb512c2058b0bdc65": {
      "model_module": "@jupyter-widgets/controls",
      "model_module_version": "1.5.0",
      "model_name": "DescriptionStyleModel",
      "state": {
       "description_width": ""
      }
     },
     "f6e003da05d349118f38ae2a64663871": {
      "model_module": "@jupyter-widgets/base",
      "model_module_version": "1.2.0",
      "model_name": "LayoutModel",
      "state": {}
     },
     "f716d34fb3e34c4e9731810376427b3b": {
      "model_module": "@jupyter-widgets/base",
      "model_module_version": "1.2.0",
      "model_name": "LayoutModel",
      "state": {
       "margin": "0px 0px 10px 0px"
      }
     },
     "f81b69eec4564499b601fd0884079b3d": {
      "model_module": "@jupyter-widgets/controls",
      "model_module_version": "1.5.0",
      "model_name": "GridBoxModel",
      "state": {
       "children": [
        "IPY_MODEL_58df896f45dd4fc480852242017408a4"
       ],
       "layout": "IPY_MODEL_414a1068e8f64ea38065b2c17a5219bb"
      }
     },
     "f85491e06e184d8ea92219eabe3d965f": {
      "model_module": "@jupyter-widgets/controls",
      "model_module_version": "1.5.0",
      "model_name": "HTMLModel",
      "state": {
       "layout": "IPY_MODEL_9b2b9391cdc54e7f84bcd80736977d8a",
       "style": "IPY_MODEL_3d62cadf9a5f465d9583cda6d521b504",
       "value": "<h5>Queue</h5>"
      }
     },
     "f85c891265d7425a82cc4602ca1888d5": {
      "model_module": "@jupyter-widgets/controls",
      "model_module_version": "1.5.0",
      "model_name": "DescriptionStyleModel",
      "state": {
       "description_width": ""
      }
     },
     "f8cc3e2120ce4c09a84eea40e9eed074": {
      "model_module": "@jupyter-widgets/base",
      "model_module_version": "1.2.0",
      "model_name": "LayoutModel",
      "state": {
       "grid_template_areas": "\n                                       \". . . . right \"\n                                        ",
       "grid_template_columns": "20% 20% 20% 20% 20%",
       "width": "100%"
      }
     },
     "f92aa752b1a545efae5f89e89db79bff": {
      "model_module": "@jupyter-widgets/controls",
      "model_module_version": "1.5.0",
      "model_name": "HTMLModel",
      "state": {
       "layout": "IPY_MODEL_205d43046c3a467fae0274b728c28fb7",
       "style": "IPY_MODEL_8af40c979d2f4abf8eb79c65190883f4",
       "value": "<h5>Queue</h5>"
      }
     },
     "faab740a976848f08ac890a0120e954c": {
      "model_module": "@jupyter-widgets/base",
      "model_module_version": "1.2.0",
      "model_name": "LayoutModel",
      "state": {}
     },
     "fab3fab980c047b3bf037eec91f17fec": {
      "model_module": "@jupyter-widgets/controls",
      "model_module_version": "1.5.0",
      "model_name": "GridBoxModel",
      "state": {
       "children": [
        "IPY_MODEL_bc06df4c45e541b986a8bdc23fbda3ff"
       ],
       "layout": "IPY_MODEL_6dbddc0ddb0a4ecc9df90c8cfd27fc66"
      }
     },
     "fb4bb909935b4f20b1a5d18b2851389e": {
      "model_module": "@jupyter-widgets/controls",
      "model_module_version": "1.5.0",
      "model_name": "HTMLModel",
      "state": {
       "layout": "IPY_MODEL_f64858edb52d4e3a9934dcb4eaa0a453",
       "style": "IPY_MODEL_be299f6812f34f87a5d2e5aa345c86d4",
       "value": "<p style='font-family: IBM Plex Sans, Arial, Helvetica, sans-serif; font-size: 20px; font-weight: medium;'>Circuit Properties</p>"
      }
     },
     "fbbc7a7ec75e4b698818629e39fb91c1": {
      "model_module": "@jupyter-widgets/base",
      "model_module_version": "1.2.0",
      "model_name": "LayoutModel",
      "state": {}
     },
     "fc6e67828b47492caa52c2d91c372fe7": {
      "model_module": "@jupyter-widgets/controls",
      "model_module_version": "1.5.0",
      "model_name": "DescriptionStyleModel",
      "state": {
       "description_width": ""
      }
     },
     "fd40314674714d34a9e5d0a27b68a8ae": {
      "model_module": "@quantum/ibm-q-lab-widgets",
      "model_module_version": "^1.0.3",
      "model_name": "CircuitComposerModel",
      "state": {
       "_model_module_version": "^1.0.3",
       "_view_module_version": "^1.0.3",
       "circuit": "\"OPENQASM 2.0;\\ninclude \\\"qelib1.inc\\\";\\n\\nqreg q[3];\\ncreg c[1];\\n\\ncx q[1],q[2];\\ncx q[0],q[2];\\nccx q[0],q[1],q[2];\\nmeasure q[2] -> c[0];\"",
       "editable": true,
       "layout": "IPY_MODEL_adf6da53203d41128e2426688fc2a811",
       "qiskit_code_cell_index": -1
      }
     },
     "fd9e1e3b36b04bf191eb9f11ed9fba6e": {
      "model_module": "@jupyter-widgets/controls",
      "model_module_version": "1.5.0",
      "model_name": "ButtonModel",
      "state": {
       "button_style": "primary",
       "description": "Clear",
       "layout": "IPY_MODEL_c6d3436b35f34d3e9949f934ac549e3f",
       "style": "IPY_MODEL_bb1a35f52d3c480f8a893f487356cefd"
      }
     },
     "fecd0c58b5384bf3b9130de561a09177": {
      "model_module": "@quantum/ibm-q-lab-widgets",
      "model_module_version": "^1.0.3",
      "model_name": "CircuitComposerModel",
      "state": {
       "_model_module_version": "^1.0.3",
       "_view_module_version": "^1.0.3",
       "circuit": "\"OPENQASM 2.0;\\ninclude \\\"qelib1.inc\\\";\\n\\nqreg q[3];\\ncreg c[1];\\n\\ncx q[1],q[2];\\ncx q[0],q[2];\\nccx q[0],q[1],q[2];\\nmeasure q[2] -> c[0];\"",
       "editable": true,
       "layout": "IPY_MODEL_23179b1b37c14621b715b07cddce4ea6",
       "qiskit_code_cell_index": -1
      }
     },
     "ff65bb72e7dd4615a2fd83de47a80910": {
      "model_module": "@jupyter-widgets/base",
      "model_module_version": "1.2.0",
      "model_name": "LayoutModel",
      "state": {
       "width": "145px"
      }
     },
     "ff701b3970a84131991b6d665a19e178": {
      "model_module": "@jupyter-widgets/controls",
      "model_module_version": "1.5.0",
      "model_name": "DescriptionStyleModel",
      "state": {
       "description_width": ""
      }
     },
     "ffa305d128494f9da013230865dda095": {
      "model_module": "@jupyter-widgets/controls",
      "model_module_version": "1.5.0",
      "model_name": "HBoxModel",
      "state": {
       "children": [
        "IPY_MODEL_1f31aa46a28643fbab939ce5970ead46",
        "IPY_MODEL_45c8857a37a24a34ad5810c13d23651b",
        "IPY_MODEL_2066912682fe43fa90445fe370a1da17",
        "IPY_MODEL_8e9c726f02214302bca28d27fcdb997e",
        "IPY_MODEL_cda4d9e419464993bc7ad28f3237ff69"
       ],
       "layout": "IPY_MODEL_4434f9bbf9164c36a5948c834c777739"
      }
     },
     "ffd90e2eb1ea44208c0625eb49218903": {
      "model_module": "@jupyter-widgets/controls",
      "model_module_version": "1.5.0",
      "model_name": "HBoxModel",
      "state": {
       "children": [
        "IPY_MODEL_1b72d96987b74aa880eebf6aabc2a993",
        "IPY_MODEL_332b33d947fe4fe1824bea4d9e54d7fd",
        "IPY_MODEL_59adb0fd062b4416a6869480b9acc0e1",
        "IPY_MODEL_9af0592a04a74f3e9ab218f471927763",
        "IPY_MODEL_791ee719ffcf47699877ff7253a067a3"
       ],
       "layout": "IPY_MODEL_5bfc0f9613df450989a98e0a200d3b2f"
      }
     }
    },
    "version_major": 2,
    "version_minor": 0
   }
  }
 },
 "nbformat": 4,
 "nbformat_minor": 5
}
