{
 "cells": [
  {
   "cell_type": "markdown",
   "id": "4b52cdcb",
   "metadata": {},
   "source": [
    "# 演習1 - トフォリゲート\n",
    "\n",
    "## 歴史的背景\n",
    "\n",
    "\n",
    "40年前、50人の思想家からなるグループがMITのエンディコット・ハウスの芝生で写真を撮るために並びました。1981年に開催された、MITとIBMが共同で開催した計算物理に関する会議(Physics of Computation Conference)において、歴史を作っていると思った人はその時、ほとんどいませんでした。そこは、コンピューティングの物理、特に今、急成長中の分野で、教科書や大学のコースにふさわしい重要な科目である、量子コンピューティングが間違いなく誕生した場所であったのです。\n",
    "\n",
    "この会議で、ファインマンがあの有名な言葉を述べました：「自然は古典的ではない。自然のシミュレーションをしたいなら、量子力学的にしなければならない。なんと、それは素晴らしい問題だ。なぜなら、そう簡単な問題には見えないからだ。」[1] 今月初めに、我々は、この重要な会議の40周年を祝いました。[こちら](https://youtu.be/GR6ANm6Z0yk)でその詳細を読むことができます。\n",
    "\n",
    "![](resources/conference-photo.jpeg)\n",
    "\n",
    "この会議で議論されたテーマのうちの一つに、可逆計算がありました。それは、MITのトマソ・トフォリとエドワード・フレドキンがその過去数年にわたりすでに考えていたことでした。[2-3] トフォリは、AND/NANDゲートの可逆バージョンを思いつきました(これは現在トフォリゲートまたは制御制御NOTゲートと呼ばれています)。NANDゲートは古典コンピューターでは普遍的であるので、トフォリゲートは、普遍的で可逆な論理ゲートになります。量子コンピューティングは、可逆コンピューティングの特別な形です：量子コンピューター上ではどんな可逆なゲートも実装でき、よってトフォリゲートも量子論理ゲートとなります。しかし、トフォリゲートのみでは、量子コンューティングにおける普遍的なゲートとはなりません。\n",
    "\n",
    "この演習では、トフォリゲート、また、量子コンピューターにおける普遍的なゲートセットについて探究します。\n",
    "\n",
    "### 参考文献\n",
    "1. Feynman, Richard P. \"Simulating physics with computers.\" Int. J. Theor. Phys 21.6/7 (1982).\n",
    "1. Toffoli, Tommaso. \"Reversible computing.\" International colloquium on automata, languages, and programming. Springer, Berlin, Heidelberg, 1980.\n",
    "1. Fredkin, Edward, and Tommaso Toffoli. \"Conservative logic.\" International Journal of theoretical physics 21.3 (1982): 219-253."
   ]
  },
  {
   "cell_type": "markdown",
   "id": "d66e83a5",
   "metadata": {},
   "source": [
    "## 古典的な論理ゲート\n",
    "\n",
    "\n",
    "古典的な計算でよく使用されるモデルの1つは、ブール論理ゲートまたは古典論理ゲートです。このゲートは、ブール関数、つまりバイナリー（0,1）の入力と出力のみを持つ関数を表します。\n",
    "ブール論理の興味深い側面の1つは、少数の異なる論理ゲートの組み合わせを使用するだけで、すべての可能なバイナリー関数を形成できることです。このようなセットは、機能的に完全なセットと呼ばれます。このような有名なセットの1つは、ANDとNOTです。この2つのゲートは、すべての可能な機能を表現するのに十分です。ORとNOTについても同じことが言えます。NANDやNORなどは、単体で普遍性をもつ小さなセットですが、関数AND、NOT、ORは、古典的な計算の基本ブロックとして見なされることがよくあります。\n",
    "\n",
    "\n",
    "<div class=\"alert alert-block alert-success\">\n",
    "\n",
    "**目標**\n",
    "\n",
    "IBMの量子システムの基本ゲートセット(CX, RZ, SX, Xゲート)を使ってトフォリゲートを構築します。\n",
    "\n",
    "</div>\n",
    "\n",
    "<div class=\"alert alert-block alert-danger\">\n",
    "    \n",
    "\n",
    "この演習では、量子ゲートの基本的な概念を学び、量子回路の構築方法を学ぶことが目的です。\n",
    "    \n",
    "1. Circuit Composerウィジェットを使って視覚的に学びます。\n",
    "1. Qiskitを使ってプログラミングを学びます。\n",
    "\n",
    "    \n",
    "すでに量子ゲートとQiskitに慣れている場合は、直接、<a href=#problem>問題</a> に飛ぶことができます。\n",
    "</div>"
   ]
  },
  {
   "cell_type": "code",
   "execution_count": null,
   "id": "f5e6da8b",
   "metadata": {},
   "outputs": [],
   "source": [
    "# 不要な警告を取り除きます\n",
    "import warnings\n",
    "from matplotlib.cbook import MatplotlibDeprecationWarning\n",
    "warnings.filterwarnings('ignore', category=MatplotlibDeprecationWarning)\n",
    "\n",
    "# Qiskitの標準的なライブラリーをインポートします\n",
    "from qiskit import QuantumCircuit, execute, Aer, IBMQ, QuantumRegister, ClassicalRegister\n",
    "from qiskit.compiler import transpile, assemble\n",
    "from qiskit.tools.jupyter import *\n",
    "from qiskit.visualization import *\n",
    "from ibm_quantum_widgets import *\n",
    "\n",
    "# piを設定しておくと便利です\n",
    "import math\n",
    "pi=math.pi"
   ]
  },
  {
   "cell_type": "markdown",
   "id": "efc88f33",
   "metadata": {},
   "source": [
    "## 量子回路とは何でしょうか?\n",
    "\n",
    "量子回路は、計算が一連の量子ゲートによって行われる、量子計算におけるモデルです。量子ゲートは、しばしば、ブロッホ球における回転として表現されます。よく知られている量子ゲートをいくつか見てみましょう。"
   ]
  },
  {
   "cell_type": "markdown",
   "id": "30fd6537",
   "metadata": {},
   "source": [
    "### Xゲート \n",
    " \n",
    "Xゲートは、パウリのX行列によって表されます：\n",
    "\n",
    "$X = \\begin{pmatrix}\n",
    "0 & 1 \\\\\n",
    "1 & 0 \\\\\n",
    "\\end{pmatrix}$"
   ]
  },
  {
   "cell_type": "markdown",
   "id": "54d7e2e3",
   "metadata": {},
   "source": [
    "Xゲートは、ブロッホ球でのX軸まわりの$\\pi$ラジアンの回転と等しいです。$|0\\rangle$を$|1\\rangle$へ、$|1\\rangle$を$|0\\rangle$へマップします。古典コンピューターにおけるNOTゲートの量子版であり、ビットフリップとも呼ばれます。"
   ]
  },
  {
   "cell_type": "code",
   "execution_count": null,
   "id": "d63473bc",
   "metadata": {},
   "outputs": [],
   "source": [
    "x_gate=QuantumCircuit(1) # 量子ビット1で量子回路を作ります\n",
    "x_gate.x(0)\n",
    "x_gate.draw(output='mpl')"
   ]
  },
  {
   "cell_type": "code",
   "execution_count": null,
   "id": "a75284f7",
   "metadata": {},
   "outputs": [],
   "source": [
    "backend = Aer.get_backend('statevector_simulator')\n",
    "result = execute(x_gate, backend).result().get_statevector()\n",
    "plot_bloch_multivector(result)"
   ]
  },
  {
   "cell_type": "markdown",
   "id": "77dc2368",
   "metadata": {},
   "source": [
    "### SXゲート\n",
    "\n",
    "SXゲートは、ブロッホ球のX軸を中心とした𝜋 / 2の回転に相当します。Xゲートの平方根であることを示すためにSXゲートと呼ばれます。このゲートを2回続けて適用すると、標準のパウリXゲートが生成されます。SXの逆はSXダガーで、反対方向に$\\pi/2$回転します。\n",
    "\n",
    "$SX = \\frac{1}{2}\\begin{pmatrix}\n",
    "1+i & 1-i \\\\\n",
    "1-i & 1+i \\\\\n",
    "\\end{pmatrix}$"
   ]
  },
  {
   "cell_type": "code",
   "execution_count": null,
   "id": "78576eea",
   "metadata": {},
   "outputs": [],
   "source": [
    "sx_gate = QuantumCircuit(1)\n",
    "sx_gate.sx(0)  \n",
    "sx_gate.draw(output='mpl')"
   ]
  },
  {
   "cell_type": "code",
   "execution_count": null,
   "id": "bf2ae9c9",
   "metadata": {},
   "outputs": [],
   "source": [
    "backend = Aer.get_backend('statevector_simulator')\n",
    "result = execute(sx_gate, backend).result().get_statevector()\n",
    "plot_bloch_multivector(result)"
   ]
  },
  {
   "cell_type": "markdown",
   "id": "3c1d4aba",
   "metadata": {},
   "source": [
    "### RZゲート\n",
    "\n",
    "\n",
    "Rzゲートは、Z軸のまわりに$\\phi$ 回転します(ここで、$\\phi$ は実数です)。行列は以下のようになります：\n",
    "\n",
    "\n",
    "$RZ = \\begin{pmatrix}\n",
    "1 & 0 \\\\\n",
    "0 & e ^{i \\phi } \\\\\n",
    "\\end{pmatrix}$"
   ]
  },
  {
   "cell_type": "code",
   "execution_count": null,
   "id": "4871fbbc",
   "metadata": {},
   "outputs": [],
   "source": [
    "rz_gate = QuantumCircuit(1)\n",
    "rz_gate.rz(pi/2, 0)\n",
    "rz_gate.draw(output='mpl')"
   ]
  },
  {
   "cell_type": "code",
   "execution_count": null,
   "id": "b229097e",
   "metadata": {},
   "outputs": [],
   "source": [
    "backend = Aer.get_backend('statevector_simulator')\n",
    "result = execute(rz_gate, backend).result().get_statevector()\n",
    "plot_bloch_multivector(result)"
   ]
  },
  {
   "cell_type": "markdown",
   "id": "1d4ff244",
   "metadata": {},
   "source": [
    "Z軸まわりの回転のため、デフォルトの状態$|0\\rangle$に適用しても違いがわからないので、SXゲートを適用して生成された状態を代わりに使用し、そこにRZを適用します。"
   ]
  },
  {
   "cell_type": "code",
   "execution_count": null,
   "id": "2f379976",
   "metadata": {},
   "outputs": [],
   "source": [
    "rz_gate.sx(0)\n",
    "rz_gate.rz(pi/2, 0)\n",
    "rz_gate.draw(output='mpl')"
   ]
  },
  {
   "cell_type": "code",
   "execution_count": null,
   "id": "6779c04c",
   "metadata": {},
   "outputs": [],
   "source": [
    "backend = Aer.get_backend('statevector_simulator')\n",
    "result = execute(rz_gate, backend).result().get_statevector()\n",
    "plot_bloch_multivector(result)"
   ]
  },
  {
   "cell_type": "markdown",
   "id": "cdeec683",
   "metadata": {},
   "source": [
    "### Hゲート\n",
    "\n",
    "アダマールゲートは、$X$軸と$Z$軸の間の軸の周りに$\\pi$回転します。\n",
    "基本状態$|0\\rangle$を$\\frac{|0\\rangle + |1\\rangle}{\\sqrt{2}}$にマップします。これは、測定値が`1`または`0`になる確率が等しくなり、つまり状態の「重ね合わせ」が作られることを意味します。\n",
    "この状態は$|+\\rangle$とも書かれます。\n",
    "アダマールは、$|0\\rangle$ $|1\\rangle$基底と$|+\\rangle$ $|-\\rangle$基底を変換します。\n",
    "\n",
    "$H = \\frac{1}{\\sqrt{2}}\\begin{pmatrix}\n",
    "1 & 1 \\\\\n",
    "1 & -1 \\\\\n",
    "\\end{pmatrix}$"
   ]
  },
  {
   "cell_type": "code",
   "execution_count": null,
   "id": "a0662feb",
   "metadata": {},
   "outputs": [],
   "source": [
    "# |0>の量子ビットにHゲートをかけてみます\n",
    "h_gate = QuantumCircuit(1)\n",
    "h_gate.h(0)\n",
    "h_gate.draw(output='mpl')"
   ]
  },
  {
   "cell_type": "code",
   "execution_count": null,
   "id": "76e85df4",
   "metadata": {},
   "outputs": [],
   "source": [
    "# 結果を見てみましょう\n",
    "backend = Aer.get_backend('statevector_simulator')\n",
    "result = execute(h_gate, backend).result().get_statevector()\n",
    "plot_bloch_multivector(result)"
   ]
  },
  {
   "cell_type": "markdown",
   "id": "83985212",
   "metadata": {},
   "source": [
    "### CXゲート(CNOTゲート)\n",
    "\n",
    "\n",
    "制御NOT(またはCNOT、またはCX)ゲートは、2量子ビットに作用します。\n",
    "最初の量子ビットが$|1\\rangle$の時のみ、2個目の量子ビットにNOT演算(Xゲートをかけるのと等しい)を適用し、それ以外の場合は何もしません。\n",
    "\n",
    "注意：Qiskitでは、文字列のビットに、右から左へ向かって番号を付けます。\n",
    "\n",
    "$CX = \\begin{pmatrix}\n",
    "1 & 0 & 0 & 0  \\\\\n",
    "0 & 1 & 0 & 0 \\\\\n",
    "0 & 0 & 0 & 1 \\\\\n",
    "0 & 0 & 1 & 0 \\\\\n",
    "\\end{pmatrix}$"
   ]
  },
  {
   "cell_type": "code",
   "execution_count": null,
   "id": "be0473a4",
   "metadata": {},
   "outputs": [],
   "source": [
    "cx_gate = QuantumCircuit(2)\n",
    "cx_gate.cx(0,1)\n",
    "cx_gate.draw(output='mpl')"
   ]
  },
  {
   "cell_type": "markdown",
   "id": "58095843",
   "metadata": {},
   "source": [
    "### CCXゲート (トフォリゲート)\n",
    "\n",
    "CCXゲート(制御制御Xゲート)は、トフォリゲートとも呼ばれます。CCXゲートは3量子ビットゲートで、2個の制御ビットと1個の目標ビットがそれぞれ入力と出力として使われます。\n",
    "最初の2ビットが$|1\\rangle$の状態にある時、パウリX(またはNOT)を3番目のビットに適用します。それ以外の場合は、何もしません。\n",
    "\n",
    "注意：Qiskitでは、文字列のビットに、右から左へ向かって番号を付けます。\n",
    "\n",
    "\n",
    "$CCX = \\begin{pmatrix}\n",
    "1 & 0 & 0 & 0 & 0 & 0 & 0 & 0 \\\\\n",
    "0 & 1 & 0 & 0 & 0 & 0 & 0 & 0 \\\\\n",
    "0 & 0 & 1 & 0 & 0 & 0 & 0 & 0 \\\\\n",
    "0 & 0 & 0 & 1 & 0 & 0 & 0 & 0 \\\\\n",
    "0 & 0 & 0 & 0 & 1 & 0 & 0 & 0 \\\\\n",
    "0 & 0 & 0 & 0 & 0 & 1 & 0 & 0 \\\\\n",
    "0 & 0 & 0 & 0 & 0 & 0 & 0 & 1 \\\\\n",
    "0 & 0 & 0 & 0 & 0 & 0 & 1 & 0 \\\\\n",
    "\\end{pmatrix}$"
   ]
  },
  {
   "cell_type": "code",
   "execution_count": null,
   "id": "1e3cb0f3",
   "metadata": {},
   "outputs": [],
   "source": [
    "ccx_gate = QuantumCircuit(3)\n",
    "ccx_gate.ccx(0,1,2)\n",
    "ccx_gate.draw(output='mpl')"
   ]
  },
  {
   "cell_type": "markdown",
   "id": "555af5b5",
   "metadata": {},
   "source": [
    "## 量子ゲートで古典論理ゲートを作る\n",
    "\n",
    "### NOTゲート：\n",
    "\n",
    "NOTゲートはビットの値を反転し、以前述べたようにXゲートはNOTゲートとみなすことができます。NOTゲートの真理値表は以下のようになります："
   ]
  },
  {
   "cell_type": "markdown",
   "id": "8521b22e",
   "metadata": {},
   "source": [
    "| 入力 | 出力 |\n",
    "| --- | --- | \n",
    "| 1 | 0 |\n",
    "| 0 | 1 |"
   ]
  },
  {
   "cell_type": "code",
   "execution_count": null,
   "id": "df57d3cd",
   "metadata": {},
   "outputs": [],
   "source": [
    "not_gate=QuantumCircuit(1,1) # １量子ビットと1古典ビットで量子回路を作ります\n",
    "not_gate.x(0)\n",
    "not_gate.measure(0,0)\n",
    "not_gate.draw(output='mpl') "
   ]
  },
  {
   "cell_type": "markdown",
   "id": "1923d73d",
   "metadata": {},
   "source": [
    "### ANDゲート：\n",
    "\n",
    "ANDの出力は、入力が両方とも真であった時のみ真になります。ANDゲートの真理値表は以下のようになります："
   ]
  },
  {
   "cell_type": "markdown",
   "id": "93e83d92",
   "metadata": {},
   "source": [
    "| A (入力) | B (入力) | 出力 |\n",
    "| --- | --- | --- |\n",
    "| 0 | 0 | 0 | \n",
    "| 0 | 1 | 0 |\n",
    "| 1 | 0 | 0 |\n",
    "| 1 | 1 | 1 |"
   ]
  },
  {
   "cell_type": "markdown",
   "id": "af1d987e",
   "metadata": {},
   "source": [
    "トフォリゲートを使って、2つの制御ビットを入力ビット、目標ビットを出力ビットとみなすことで、ANDゲートの解を得ることができます。"
   ]
  },
  {
   "cell_type": "code",
   "execution_count": null,
   "id": "467a89e7",
   "metadata": {},
   "outputs": [],
   "source": [
    "and_gate=QuantumCircuit(3,1) # 3量子ビットと1古典ビットで量子回路を作ります\n",
    "and_gate.ccx(0,1,2)\n",
    "and_gate.measure(2,0)\n",
    "and_gate.draw(output='mpl')"
   ]
  },
  {
   "cell_type": "markdown",
   "id": "3da6246e",
   "metadata": {},
   "source": [
    "### ORゲート：\n",
    "\n",
    "ORゲートは、少なくとも一つの入力が真であった時に真を返すゲートです。\n",
    "真理値表は、以下のようになります："
   ]
  },
  {
   "cell_type": "markdown",
   "id": "203eed90",
   "metadata": {},
   "source": [
    "| A (入力) | B (入力) | 出力 |\n",
    "| --- | --- | --- |\n",
    "| 0 | 0 | 0 | \n",
    "| 0 | 1 | 1 |\n",
    "| 1 | 0 | 1 |\n",
    "| 1 | 1 | 1 |"
   ]
  },
  {
   "cell_type": "code",
   "execution_count": null,
   "id": "2897b908",
   "metadata": {
    "scrolled": true
   },
   "outputs": [],
   "source": [
    "or_gate=QuantumCircuit(3,1) # 3量子ビットと1古典ビットで量子回路を作ります\n",
    "or_gate.cx(1,2)\n",
    "or_gate.cx(0,2)\n",
    "or_gate.ccx(0,1,2)\n",
    "or_gate.measure(2,0)\n",
    "or_gate.draw(output='mpl')"
   ]
  },
  {
   "cell_type": "markdown",
   "id": "dbb0a863",
   "metadata": {},
   "source": [
    "## Circuit Composerウィジェットの使用\n",
    "\n",
    "\n",
    "グラフィカル・インターフェースを使って回路を作成できるIBM quantum circuit composerに詳しいかもしれません。\n",
    "新しいCircuit Composerウィジェットを使用すると、同じ機能をjupyter notebook上で使うことができます。詳しくは、[こちら](https://quantum-computing.ibm.com/lab/docs/iql/composer-widget)に解説があります。\n",
    "\n",
    "<div class=\"alert alert-block alert-success\">\n",
    "\n",
    "**Exercise 1a:** NOR (ORの否定) ゲートをcircuit composerで構築してください\n",
    "\n",
    "この演習は、composerに慣れていただくためのものです。採点には含まれません。やらないでスキップすることも可能です。以下のセルを実行するとcomposerが現れるので、ゲートを正しい場所にドラッグ・アンド・ドロップしてください。\n",
    "</div>"
   ]
  },
  {
   "cell_type": "code",
   "execution_count": null,
   "id": "cfbe9ea7",
   "metadata": {},
   "outputs": [],
   "source": [
    "from ibm_quantum_widgets import CircuitComposer\n",
    "editor = CircuitComposer()\n",
    "editor"
   ]
  },
  {
   "cell_type": "markdown",
   "id": "c079d386",
   "metadata": {},
   "source": [
    "### Circuit Composerウィジェットに既存の回路を出力する\n",
    "\n",
    "Circuit composerを使って既に作った回路を開くこともできます。以下の回路で、上で作ったORゲートの回路を開くことができます。これでORを正しく構築できているかどうか確認できます。\n",
    "\n",
    "<div class=\"alert alert-block alert-success\">\n",
    "    \n",
    "開いた回路をドラッグ・アンド・ドロップで編集することも可能です。最後にある測定を削除してみましょう。\n",
    "        \n",
    "</div>"
   ]
  },
  {
   "cell_type": "code",
   "execution_count": null,
   "id": "a333ada2",
   "metadata": {
    "scrolled": true
   },
   "outputs": [],
   "source": [
    "from ibm_quantum_widgets import CircuitComposer\n",
    "editor2 = CircuitComposer(circuit=or_gate)\n",
    "editor2"
   ]
  },
  {
   "cell_type": "markdown",
   "id": "b138da5b",
   "metadata": {},
   "source": [
    "以下の例では、Composerで最後に作った回路を変数qc2に保存し、その後Xゲートを適用します。\n",
    "\n",
    "最後に編集した回路を使って、出力にXゲートをかけて再度測定します。"
   ]
  },
  {
   "cell_type": "code",
   "execution_count": null,
   "id": "cb64b508",
   "metadata": {
    "slideshow": {
     "slide_type": "slide"
    }
   },
   "outputs": [],
   "source": [
    "qc2 = editor2.circuit\n",
    "\n",
    "qc2.x(2)\n",
    "qc2.measure((2), (0))\n",
    "\n",
    "qc2.draw(output='mpl')"
   ]
  },
  {
   "cell_type": "markdown",
   "id": "bb64a6cf",
   "metadata": {},
   "source": [
    "NORをORを否定することで作ることができました。これは、最初のexerciseで作った回路と同じであるはずです。"
   ]
  },
  {
   "cell_type": "markdown",
   "id": "343525b5",
   "metadata": {},
   "source": [
    "## 量子ゲートを組み合わせそのコストを出す\n",
    "\n",
    "実際の量子コンピューターは通常、すべてのゲートが物理的に実装されていることはありません。代わりに、少ないゲートでユニバーサル・ゲートセットを構成する基本ゲートのセットを使います。これは古典の場合に似て、すべての可能な演算を実装することができる命令のセットです。\n",
    "\n",
    "このため、Qiskitは、基本ゲートセットのみを使った回路に回路を分解しなければなりません。これは、量子回路がIBM Quantumのシステムに送られる際に、普通は、Qiskit transpilerで自動的に行われます。しかし、学習のために、手を使って、基本ゲートで回路を構築することを期待されています。IBM Quantumシステムの基本ゲートは、通常、CX, ID, RZ, SX, Xゲートです。例として[`ibmq_mumbai`システム](https://quantum-computing.ibm.com/services?skip=0&systems=all&system=ibmq_mumbai)を参考にすることができます。\n",
    "\n",
    "では、以下の回路をみてみましょう："
   ]
  },
  {
   "cell_type": "code",
   "execution_count": null,
   "id": "5c2c86b1",
   "metadata": {},
   "outputs": [],
   "source": [
    "qc = QuantumCircuit(2)\n",
    "qc.sxdg(0)\n",
    "qc.z(1)\n",
    "qc.draw(output='mpl')"
   ]
  },
  {
   "cell_type": "markdown",
   "id": "05fbe26a",
   "metadata": {},
   "source": [
    "次に、基本ゲートのみを使って、上記の回路を量子コンピューターのためにどのように分解するかみてみましょう。"
   ]
  },
  {
   "cell_type": "code",
   "execution_count": null,
   "id": "480095d0",
   "metadata": {},
   "outputs": [],
   "source": [
    "qc = QuantumCircuit(2)\n",
    "qc.sx(0)\n",
    "qc.sx(0)\n",
    "qc.sx(0)\n",
    "qc.rz(pi,1)\n",
    "qc.draw(output='mpl')"
   ]
  },
  {
   "cell_type": "markdown",
   "id": "79ced38d",
   "metadata": {},
   "source": [
    "ご覧の通り、基本ゲートのみを使いましたが、そのためにより多くのゲートが必要になりました。\n",
    "\n",
    "ご想像の通り、より多くのゲートを使った回路は、実行時により複雑になっていきます。そのため、回路のコストを計算したい場合、使われているゲートの数を考慮します。\n",
    "\n",
    "しかし、すべてのゲートが等しい価値とはみなされないため、回路のコストを計算する時、以下の式を使います：\n",
    "\n",
    "**コスト =(CXゲートの数)*10 + (その他の基本ゲートの数)**"
   ]
  },
  {
   "cell_type": "markdown",
   "id": "3af9fd00",
   "metadata": {},
   "source": [
    "### アダマール\n",
    "\n",
    "上で述べたように、全ての演算は基本ゲートのみを用いて表現できます。ここで、例として、アダマールゲートを基本ゲートセットのみを用いて構築してみます。\n",
    "$X$軸と$Z$軸の中間の軸にそって回転する基本ゲートはないため、代わりに$X$軸のまわりの回転と$Z$軸のまわりの回転を使って同じ結果を得るようにします。\n",
    "\n",
    "どのような回転が必要だと思いますか？"
   ]
  },
  {
   "cell_type": "code",
   "execution_count": null,
   "id": "d2ee475a",
   "metadata": {},
   "outputs": [],
   "source": [
    "q=QuantumRegister(1)\n",
    "c=ClassicalRegister(1)\n",
    "qc=QuantumCircuit(q,c)\n",
    "qc.rz(pi/2, 0)\n",
    "qc.sx(0)\n",
    "qc.rz(pi/2, 0)\n",
    "qc.draw(output='mpl')"
   ]
  },
  {
   "cell_type": "markdown",
   "id": "74a76520",
   "metadata": {},
   "source": [
    "覚えているかもしれませんが、これはさきほどRZゲートの回転を表示したときの回路です。\n",
    "さきほど、$|0\\rangle$または$|1\\rangle$の状態にあるとき、最初のRZは何もしないことがわかりました。そのため、少し役に立たないと感じるかもしれません。\n",
    "しかし、$|+\\rangle$と$|-\\rangle$の状態では、最初の回転は効果があります。逆のシナリオは、SXゲートを適用した後、再び$|0\\rangle$または$|1\\rangle$の状態になり、2回目のRZは効果がないというものです。"
   ]
  },
  {
   "cell_type": "markdown",
   "id": "f4891eb5",
   "metadata": {},
   "source": [
    "### 制御回転\n",
    "\n",
    "先ほど制御NOTの働きを見ましたが、$Y$軸まわりの制御回転をどのように構築するかという例を示しましょう。回転$\\theta$はどの角度でもよく、$\\pi$である必要はありません。以下は例です。"
   ]
  },
  {
   "cell_type": "code",
   "execution_count": null,
   "id": "7f5d380a",
   "metadata": {},
   "outputs": [],
   "source": [
    "qc = QuantumCircuit(2)\n",
    "theta = math.pi # thetaは何度でもよいです (任意の値としてpiを選択)\n",
    "qc.ry(theta/2,1)\n",
    "qc.cx(0,1)\n",
    "qc.ry(-theta/2,1)\n",
    "qc.cx(0,1)\n",
    "qc.draw(output='mpl')"
   ]
  },
  {
   "cell_type": "markdown",
   "id": "db725eea",
   "metadata": {},
   "source": [
    "この回路を見てみると、最初の量子ビットが0の場合、2つの回転がキャンセルされ何も起こらないことが分かります。\n",
    "\n",
    "一方、最初の量子ビットが1の場合、$\\theta / 2$回転を２回適用し、$\\theta$回転となる状態を得ます。これは、$X$軸と$Y$軸が直行しているために起こります。\n",
    "\n",
    "<div class=\"alert alert-block alert-danger\">\n",
    "その他の軸まわりの回転については、他のトリックを使う必要があるでしょう。\n",
    "</div>\n",
    "\n",
    "### 制御制御回転\n",
    "\n",
    "上記の例で$Y$軸まわりの制御回転を作る例を確認しました。次に、(ある軸まわりに)制御回転できると仮定し、そこから制御制御回転(CCXゲートのように二つの制御量子ビットが1のときのみ作用する回転)を構築したいと思います。"
   ]
  },
  {
   "cell_type": "code",
   "execution_count": null,
   "id": "c54a358b",
   "metadata": {},
   "outputs": [],
   "source": [
    "qc = QuantumCircuit(3)\n",
    "theta = math.pi # thetaは何でも良いです(任意にpiを選択)\n",
    "qc.cp(theta/2,1,2)\n",
    "qc.cx(0,1)\n",
    "qc.cp(-theta/2,1,2)\n",
    "qc.cx(0,1)\n",
    "qc.cp(theta/2,0,2)\n",
    "qc.draw()"
   ]
  },
  {
   "cell_type": "markdown",
   "id": "c1b17d61",
   "metadata": {},
   "source": [
    "この回路では、1個目と2個目の量子ビットが0の場合は、何も起こりません。\n",
    "2個目の量子ビットのみが1の場合は、最初に$\\pi/2$回転が適用され、その後$-\\pi/2$回転が適用されるのでキャンセルされます。1個目の量子ビットのみが1の場合には、2個目の量子ビットが最初のCXで1になり、$-\\pi/2$の回転が適用され、その後$\\pi/2$の回転が適用されるので、この2つの回転はまたお互いにキャンセルされます。\n",
    "\n",
    "1個目の量子ビットと2個目の量子ビットが1の場合は、最初に$\\pi/2$回転が起こり、その後2個目の量子ビットは0になるので、次の回転は適用されず、その後2個目の量子ビットは1に戻ります。その後、1個目の量子ビットが1のため、別の$\\pi/2$回転が適用されます。よって、２回の$\\pi/2$回転が起こり、$\\pi$回転になります。"
   ]
  },
  {
   "cell_type": "markdown",
   "id": "1ad4ac1e",
   "metadata": {},
   "source": [
    "# 演習 1\n",
    "\n",
    "<div id='problem'></div>\n",
    "<div class=\"alert alert-block alert-success\">\n",
    "\n",
    "先ほど、我々の基本ゲートセットでアダマールゲートをどのように構築するか見ましたが、今度は、トフォリゲートを同じように構築したいと思います。なぜトフォリゲートなのでしょうか？上記で述べたように、トフォリゲートは、古典コンピューターにおいてNANDゲートと同じように、ユニバーサル・ゲートでありますが、可逆的です。さらに、アダマールゲートとともに量子コンピューターではユニバーサル・ゲートを構築します。\n",
    "\n",
    "基本ゲートを使ってより複雑なゲートを表現するいくつかの例を見てきました。今回は、得られた知識を使って、我々の基本ゲートのみを使ってトフォリゲートを構築します。このために、先ほどの例である、制御回転を構築し使う方法が重宝するでしょう。大きなチャレンジは、制御回転を構築するところです。\n",
    "\n",
    "回路構築の際に以下のComposerウィジェットを使うことができます。\n",
    "    \n",
    "</div>\n",
    "\n",
    "\n",
    "<div class=\"alert alert-block alert-danger\">\n",
    "\n",
    "IBM Quantumシステムの基本ゲートはCX、RZ、SX、Xであり、そのほかのゲートは使えないことを覚えておいてください。\n",
    "    \n",
    "もちろん、コストの最小化にもトライしてください。(コストは **CNOT** の数の **10倍** **プラス** **その他のゲート** の数です。)\n",
    "    \n",
    "$$\n",
    "Cost = 10 N_{CNOT} + N_{other}\n",
    "$$\n",
    "    \n",
    "</div>\n"
   ]
  },
  {
   "cell_type": "code",
   "execution_count": null,
   "id": "5e15222b",
   "metadata": {},
   "outputs": [],
   "source": [
    "from qiskit import QuantumRegister, ClassicalRegister, QuantumCircuit\n",
    "from qiskit import IBMQ, Aer, execute\n",
    "from ibm_quantum_widgets import CircuitComposer\n",
    "editorEx = CircuitComposer() \n",
    "editorEx\n",
    "##### composer widgetを使ってここに量子回路を構築してください"
   ]
  },
  {
   "cell_type": "code",
   "execution_count": null,
   "id": "3f01e1e6",
   "metadata": {},
   "outputs": [],
   "source": [
    "# Qiskitのコードで回路をプログラミングすることもできます\n",
    "\n",
    "circuit = QuantumCircuit(3)\n",
    "\n",
    "# この下にコードを書いてください\n",
    "theta = pi\n",
    "qc.rz(pi/2,2)\n",
    "qc.sx(2)\n",
    "qc.rz(pi/2,2)\n",
    "qc.cx(1,2)\n",
    "qc.rz(-pi/4,2)#q*\n",
    "qc.cx(0,2)\n",
    "qc.rz(pi/4,2)#q\n",
    "qc.cx(1,2)\n",
    "qc.rz(-pi/4,2)#EROOR\n",
    "qc.cx(0,2)\n",
    "\n",
    "qc.rz(-pi/4,1)\n",
    "qc.rz(pi/4,2)\n",
    "qc.cx(0,1)\n",
    "qc.rz(pi/2,2)\n",
    "qc.sx(2)\n",
    "qc.rz(pi/2,2)\n",
    "qc.rz(-pi/4,1)\n",
    "qc.cx(0,1)\n",
    "qc.rz(pi/4,0)\n",
    "qc.rz(pi/2,1)\n",
    "\n",
    "qc.draw()\n",
    "\n",
    "\n",
    "\n",
    "\n",
    "# この上にコードを書いてください\n",
    "\n",
    "circuit.measure_all() # すべての量子ビットを測定します"
   ]
  },
  {
   "cell_type": "code",
   "execution_count": null,
   "id": "0adf6fc8",
   "metadata": {},
   "outputs": [],
   "source": [
    "# 結果として得られた回路のチェック\n",
    "qc = editorEx.circuit \n",
    "#qc = circuit # Qiskitでコーディングした回路を提出したい場合はコメントを外してください\n",
    "\n",
    "qc.draw(output='mpl')"
   ]
  },
  {
   "cell_type": "code",
   "execution_count": null,
   "id": "a6745ba4",
   "metadata": {},
   "outputs": [],
   "source": [
    "# 以下のコードで答えをチェックしてください\n",
    "from qc_grader import grade_ex1\n",
    "grade_ex1(qc)"
   ]
  },
  {
   "cell_type": "code",
   "execution_count": null,
   "id": "bddf6191",
   "metadata": {},
   "outputs": [],
   "source": [
    "# 回答を提出してください。何度でも再提出可能です。\n",
    "from qc_grader import submit_ex1\n",
    "submit_ex1(qc)"
   ]
  },
  {
   "cell_type": "markdown",
   "id": "77a35804",
   "metadata": {},
   "source": [
    "## Additional information\n",
    "\n",
    "**Created by:** Marcel Pfaffhauser, Brahmani Thota, Junye Huang\n",
    "\n",
    "**翻訳者:** 沼田祈史\n",
    "\n",
    "**Version:** 1.0.1"
   ]
  }
 ],
 "metadata": {
  "kernelspec": {
   "display_name": "Python 3",
   "language": "python",
   "name": "python3"
  },
  "language_info": {
   "codemirror_mode": {
    "name": "ipython",
    "version": 3
   },
   "file_extension": ".py",
   "mimetype": "text/x-python",
   "name": "python",
   "nbconvert_exporter": "python",
   "pygments_lexer": "ipython3",
   "version": "3.8.10"
  },
  "widgets": {
   "application/vnd.jupyter.widget-state+json": {
    "state": {
     "005ed033e79e4c91906ce462f1d08f39": {
      "model_module": "@quantum/ibm-q-lab-widgets",
      "model_module_version": "^1.0.3",
      "model_name": "CircuitComposerModel",
      "state": {
       "_model_module_version": "^1.0.3",
       "_view_module_version": "^1.0.3",
       "circuit": "\"OPENQASM 2.0;\\ninclude \\\"qelib1.inc\\\";\\n\\nqreg q[1];\\n\\nrz(pi/2) q[0];\\nsx q[0];\\nrz(pi/2) q[0];\"",
       "editable": true,
       "layout": "IPY_MODEL_b645d55afc6649dd807e38ab30da764b",
       "qiskit_code_cell_index": -1
      }
     },
     "00687b8b531246e18e62ef79ad5c6970": {
      "model_module": "@jupyter-widgets/controls",
      "model_module_version": "1.5.0",
      "model_name": "DescriptionStyleModel",
      "state": {
       "description_width": ""
      }
     },
     "058c0ab1f10246ce985c0d6923f85ea6": {
      "model_module": "@jupyter-widgets/base",
      "model_module_version": "1.2.0",
      "model_name": "LayoutModel",
      "state": {
       "grid_template_areas": "\n                                       \". . . . right \"\n                                        ",
       "grid_template_columns": "20% 20% 20% 20% 20%",
       "width": "100%"
      }
     },
     "058e7134ba8d42448de67dec87d4f5f5": {
      "model_module": "@quantum/ibm-q-lab-widgets",
      "model_module_version": "^1.0.3",
      "model_name": "CircuitComposerModel",
      "state": {
       "_model_module_version": "^1.0.3",
       "_view_module_version": "^1.0.3",
       "circuit": "\"OPENQASM 2.0;\\ninclude \\\"qelib1.inc\\\";\\n\\nqreg q[3];\\ncreg c[3];\\n\\ncx q[0],q[1];\\ncx q[1],q[0];\\ncx q[0],q[1];\\nrz(pi) q[2];\"",
       "editable": true,
       "layout": "IPY_MODEL_e61dea173c9a4870a47e6a93f3be63b9",
       "qiskit_code_cell_index": 58
      }
     },
     "06e4de917d1b4c46bc108eacc4daee76": {
      "model_module": "@quantum/ibm-q-lab-widgets",
      "model_module_version": "^1.0.3",
      "model_name": "CircuitComposerModel",
      "state": {
       "_model_module_version": "^1.0.3",
       "_view_module_version": "^1.0.3",
       "circuit": "\"OPENQASM 2.0;\\ninclude \\\"qelib1.inc\\\";\\n\\nqreg q[3];\\ncreg c[3];\\n\\n\"",
       "editable": true,
       "layout": "IPY_MODEL_11ede97ae89842c6b1732fd28f999ed8",
       "qiskit_code_cell_index": -1
      }
     },
     "070fe16ae3524f3e9e9fbaaf9e43e662": {
      "model_module": "@quantum/ibm-q-lab-widgets",
      "model_module_version": "^1.0.3",
      "model_name": "CircuitComposerModel",
      "state": {
       "_model_module_version": "^1.0.3",
       "_view_module_version": "^1.0.3",
       "circuit": "\"OPENQASM 2.0;\\ninclude \\\"qelib1.inc\\\";\\n\\nqreg q[3];\\ncreg c[3];\\n\\nswap q[0],q[1];\\nrz(pi/2) q[2];\"",
       "editable": true,
       "layout": "IPY_MODEL_74519cce23de44ca8ee162293804ce2c",
       "qiskit_code_cell_index": 54
      }
     },
     "07fd227e7fcf4dd1860ffb8ebd34b4d2": {
      "model_module": "@jupyter-widgets/controls",
      "model_module_version": "1.5.0",
      "model_name": "DescriptionStyleModel",
      "state": {
       "description_width": ""
      }
     },
     "091123743b774ed39186e57d7a6db20a": {
      "model_module": "@jupyter-widgets/base",
      "model_module_version": "1.2.0",
      "model_name": "LayoutModel",
      "state": {}
     },
     "098146a76288479d8f34020f737f6605": {
      "model_module": "@jupyter-widgets/base",
      "model_module_version": "1.2.0",
      "model_name": "LayoutModel",
      "state": {}
     },
     "0ab79d11ac1f44dfbbf2bafdac27f926": {
      "model_module": "@jupyter-widgets/controls",
      "model_module_version": "1.5.0",
      "model_name": "HBoxModel",
      "state": {
       "children": [
        "IPY_MODEL_4700a02cfb7b4ac39225242433cd7711",
        "IPY_MODEL_25192d15e13a4389a20ff624c2705f55",
        "IPY_MODEL_16ae250874e04ab4b4bd906333443214",
        "IPY_MODEL_b445f0e465864ce282896f13ec86a2b1",
        "IPY_MODEL_1c050fce70034ed7bab1bc571055a895"
       ],
       "layout": "IPY_MODEL_8b3a8e1e875840d1b5f26a70860cfb00"
      }
     },
     "0c2790117be5423b9b19274d3a3c386a": {
      "model_module": "@jupyter-widgets/base",
      "model_module_version": "1.2.0",
      "model_name": "LayoutModel",
      "state": {}
     },
     "115e321a54064c15af84960de9afcd39": {
      "model_module": "@jupyter-widgets/controls",
      "model_module_version": "1.5.0",
      "model_name": "HTMLModel",
      "state": {
       "layout": "IPY_MODEL_18b47e3100be465abf040e6e432af411",
       "style": "IPY_MODEL_f656da7b0e564e1eb512c2058b0bdc65",
       "value": "<h5>Queue</h5>"
      }
     },
     "11ede97ae89842c6b1732fd28f999ed8": {
      "model_module": "@jupyter-widgets/base",
      "model_module_version": "1.2.0",
      "model_name": "LayoutModel",
      "state": {}
     },
     "126994084b7f4f81bdff9facbcd3bddb": {
      "model_module": "@quantum/ibm-q-lab-widgets",
      "model_module_version": "^1.0.3",
      "model_name": "CircuitComposerModel",
      "state": {
       "_model_module_version": "^1.0.3",
       "_view_module_version": "^1.0.3",
       "circuit": "\"OPENQASM 2.0;\\ninclude \\\"qelib1.inc\\\";\\n\\nqreg q2[3];\\ncreg c2[3];\\n\\ncx q2[1],q2[2];\\ncx q2[0],q2[2];\\nccx q2[0],q2[1],q2[2];\\nmeasure q2[2] -> c2[0];\\nx q2[2];\\nmeasure q2[2] -> c2[0];\"",
       "editable": true,
       "layout": "IPY_MODEL_4c5850b093234f35bf5afe995313fe91",
       "qiskit_code_cell_index": -1
      }
     },
     "131291ce9e3f45fc82895be047bf656e": {
      "model_module": "@quantum/ibm-q-lab-widgets",
      "model_module_version": "^1.0.3",
      "model_name": "CircuitComposerModel",
      "state": {
       "_model_module_version": "^1.0.3",
       "_view_module_version": "^1.0.3",
       "circuit": "\"OPENQASM 2.0;\\ninclude \\\"qelib1.inc\\\";\\n\\nqreg q[3];\\ncreg c[3];\\n\\n\"",
       "editable": true,
       "layout": "IPY_MODEL_ece0b69da4ef42e89e2399b90ef89a51",
       "qiskit_code_cell_index": -1
      }
     },
     "148d5853e7934d2eaa27c5607540d375": {
      "model_module": "@quantum/ibm-q-lab-widgets",
      "model_module_version": "^1.0.3",
      "model_name": "CircuitComposerModel",
      "state": {
       "_model_module_version": "^1.0.3",
       "_view_module_version": "^1.0.3",
       "circuit": "\"OPENQASM 2.0;\\ninclude \\\"qelib1.inc\\\";\\n\\nqreg q0[3];\\ncreg c0[3];\\n\\ncx q0[1],q0[2];\\ncx q0[0],q0[2];\\nccx q0[0],q0[1],q0[2];\"",
       "editable": true,
       "layout": "IPY_MODEL_baf8a86c6f7c4fd98bf0e0f0ea0aa3cb",
       "qiskit_code_cell_index": -1
      }
     },
     "16ae250874e04ab4b4bd906333443214": {
      "model_module": "@jupyter-widgets/controls",
      "model_module_version": "1.5.0",
      "model_name": "HTMLModel",
      "state": {
       "layout": "IPY_MODEL_ee01cfa5318f49bbb51da895d9cbfe98",
       "style": "IPY_MODEL_8c8ebb9ab7814f49b7f124610764c2a1",
       "value": "<h5>Status</h5>"
      }
     },
     "173a109f9c714f3f9bbbf01294cc4a4b": {
      "model_module": "@jupyter-widgets/controls",
      "model_module_version": "1.5.0",
      "model_name": "DescriptionStyleModel",
      "state": {
       "description_width": ""
      }
     },
     "18a91f3d40c4476b8b1891c2bfd3e25d": {
      "model_module": "@quantum/ibm-q-lab-widgets",
      "model_module_version": "^1.0.3",
      "model_name": "CircuitComposerModel",
      "state": {
       "_model_module_version": "^1.0.3",
       "_view_module_version": "^1.0.3",
       "circuit": "\"OPENQASM 2.0;\\ninclude \\\"qelib1.inc\\\";\\n\\nqreg q[3];\\ncreg c[3];\\n\\nswap q[0],q[1];\\nz q[2];\"",
       "editable": true,
       "layout": "IPY_MODEL_3c34729028824a69ab2e3998c1c73b89",
       "qiskit_code_cell_index": 54
      }
     },
     "18b47e3100be465abf040e6e432af411": {
      "model_module": "@jupyter-widgets/base",
      "model_module_version": "1.2.0",
      "model_name": "LayoutModel",
      "state": {
       "width": "70px"
      }
     },
     "190ab006afe144f38c0f9abe87812c1c": {
      "model_module": "@jupyter-widgets/base",
      "model_module_version": "1.2.0",
      "model_name": "LayoutModel",
      "state": {}
     },
     "19a85304b4f2488fa6d1714369f1e0a9": {
      "model_module": "@quantum/ibm-q-lab-widgets",
      "model_module_version": "^1.0.3",
      "model_name": "CircuitComposerModel",
      "state": {
       "_model_module_version": "^1.0.3",
       "_view_module_version": "^1.0.3",
       "circuit": "\"OPENQASM 2.0;\\ninclude \\\"qelib1.inc\\\";\\n\\nqreg q[3];\\ncreg c[3];\\n\\n\"",
       "editable": true,
       "layout": "IPY_MODEL_be119dbd25db4e1bae2fc6935a3478a3",
       "qiskit_code_cell_index": -1
      }
     },
     "1bb0bd14b17c43fdb984eb3c70c2cef6": {
      "model_module": "@jupyter-widgets/base",
      "model_module_version": "1.2.0",
      "model_name": "LayoutModel",
      "state": {}
     },
     "1bdc1f0e036e4e28b74d6d141034bfe8": {
      "model_module": "@quantum/ibm-q-lab-widgets",
      "model_module_version": "^1.0.3",
      "model_name": "CircuitComposerModel",
      "state": {
       "_model_module_version": "^1.0.3",
       "_view_module_version": "^1.0.3",
       "circuit": "\"OPENQASM 2.0;\\ninclude \\\"qelib1.inc\\\";\\n\\nqreg q[3];\\ncreg c[3];\\n\\n\"",
       "editable": true,
       "layout": "IPY_MODEL_3008efe61d4e4458a8deb713662f4e8e",
       "qiskit_code_cell_index": -1
      }
     },
     "1c050fce70034ed7bab1bc571055a895": {
      "model_module": "@jupyter-widgets/controls",
      "model_module_version": "1.5.0",
      "model_name": "HTMLModel",
      "state": {
       "layout": "IPY_MODEL_8b98c82060564483b39a625bdccd5376",
       "style": "IPY_MODEL_7da40d40aaf44de5bee9dde02e9d3ae5",
       "value": "<h5>Message</h5>"
      }
     },
     "1cba501f75bd4a2da9f0fbe8ce460347": {
      "model_module": "@quantum/ibm-q-lab-widgets",
      "model_module_version": "^1.0.3",
      "model_name": "CircuitComposerModel",
      "state": {
       "_model_module_version": "^1.0.3",
       "_view_module_version": "^1.0.3",
       "circuit": "\"OPENQASM 2.0;\\ninclude \\\"qelib1.inc\\\";\\n\\nqreg q4[3];\\ncreg c3[3];\\n\\ncx q4[1],q4[2];\\ncx q4[0],q4[2];\\nccx q4[0],q4[1],q4[2];\"",
       "editable": true,
       "layout": "IPY_MODEL_3e431b46e6564178a35fee7efc7bd715",
       "qiskit_code_cell_index": 47
      }
     },
     "1d98343600cd4098b9b788327fe207ff": {
      "model_module": "@jupyter-widgets/controls",
      "model_module_version": "1.5.0",
      "model_name": "HTMLModel",
      "state": {
       "layout": "IPY_MODEL_e7cc84e132ee485d935102b3c198d255",
       "style": "IPY_MODEL_71b76fdeebd543f2a86f657a6e7a31c9",
       "value": "<h5>Status</h5>"
      }
     },
     "25192d15e13a4389a20ff624c2705f55": {
      "model_module": "@jupyter-widgets/controls",
      "model_module_version": "1.5.0",
      "model_name": "HTMLModel",
      "state": {
       "layout": "IPY_MODEL_7fb7467660ba4818b224a760bf18d2d4",
       "style": "IPY_MODEL_00687b8b531246e18e62ef79ad5c6970",
       "value": "<h5>Backend</h5>"
      }
     },
     "26ca92d21d6149828724dd6d4b588389": {
      "model_module": "@jupyter-widgets/controls",
      "model_module_version": "1.5.0",
      "model_name": "ButtonModel",
      "state": {
       "button_style": "primary",
       "description": "Clear",
       "layout": "IPY_MODEL_50b875d9ab2d4acaa815061f478fbf47",
       "style": "IPY_MODEL_b08b187f73454353a24f8751a6892126"
      }
     },
     "275e96c24bb045cdaeb001306313a482": {
      "model_module": "@jupyter-widgets/base",
      "model_module_version": "1.2.0",
      "model_name": "LayoutModel",
      "state": {
       "margin": "0px 0px 10px 0px"
      }
     },
     "2af0523c340145e1bfd0029d8ad6a853": {
      "model_module": "@quantum/ibm-q-lab-widgets",
      "model_module_version": "^1.0.3",
      "model_name": "CircuitComposerModel",
      "state": {
       "_model_module_version": "^1.0.3",
       "_view_module_version": "^1.0.3",
       "circuit": "\"OPENQASM 2.0;\\ninclude \\\"qelib1.inc\\\";\\n\\nqreg q[3];\\ncreg c[3];\\n\\nx q[0];\\nrz(pi/2) q[0];\\ncx q[2],q[1];\"",
       "editable": true,
       "layout": "IPY_MODEL_5ea9466bb7114fb085a065ae44e374e6",
       "qiskit_code_cell_index": 43
      }
     },
     "2afb6579aec34ebe93556f1b7df10c0b": {
      "model_module": "@jupyter-widgets/controls",
      "model_module_version": "1.5.0",
      "model_name": "HTMLModel",
      "state": {
       "layout": "IPY_MODEL_ec3d6cec43f64d109cce41e91a207abf",
       "style": "IPY_MODEL_90cd23bb0ffe4124af34bee073d37774",
       "value": "<p style='font-family: IBM Plex Sans, Arial, Helvetica, sans-serif; font-size: 20px; font-weight: medium;'>Circuit Properties</p>"
      }
     },
     "3008efe61d4e4458a8deb713662f4e8e": {
      "model_module": "@jupyter-widgets/base",
      "model_module_version": "1.2.0",
      "model_name": "LayoutModel",
      "state": {}
     },
     "30ba74b5cbbe4c95b5c8afb17631bc86": {
      "model_module": "@jupyter-widgets/base",
      "model_module_version": "1.2.0",
      "model_name": "LayoutModel",
      "state": {
       "width": "190px"
      }
     },
     "338a750d86c34cd6842713614c3f386c": {
      "model_module": "@jupyter-widgets/base",
      "model_module_version": "1.2.0",
      "model_name": "LayoutModel",
      "state": {
       "margin": "0px 0px 0px 37px",
       "width": "600px"
      }
     },
     "33e5c437cd6949e4b1fc9b6de04f30af": {
      "model_module": "@jupyter-widgets/base",
      "model_module_version": "1.2.0",
      "model_name": "LayoutModel",
      "state": {}
     },
     "3420bbc7352f48d4a23dadc9ba0df71a": {
      "model_module": "@quantum/ibm-q-lab-widgets",
      "model_module_version": "^1.0.3",
      "model_name": "CircuitComposerModel",
      "state": {
       "_model_module_version": "^1.0.3",
       "_view_module_version": "^1.0.3",
       "circuit": "\"OPENQASM 2.0;\\ninclude \\\"qelib1.inc\\\";\\n\\nqreg q[3];\\ncreg c[3];\\n\\n\"",
       "editable": true,
       "layout": "IPY_MODEL_e99a25578a3a413ab0b267672b43f72b",
       "qiskit_code_cell_index": -1
      }
     },
     "37b7d129f94342e1abcce40399056637": {
      "model_module": "@jupyter-widgets/base",
      "model_module_version": "1.2.0",
      "model_name": "LayoutModel",
      "state": {}
     },
     "381788a926d744ae8cb7edf5993b71d5": {
      "model_module": "@quantum/ibm-q-lab-widgets",
      "model_module_version": "^1.0.3",
      "model_name": "CircuitComposerModel",
      "state": {
       "_model_module_version": "^1.0.3",
       "_view_module_version": "^1.0.3",
       "circuit": "\"OPENQASM 2.0;\\ninclude \\\"qelib1.inc\\\";\\n\\nqreg q[3];\\ncreg c[3];\\n\\nswap q[0],q[1];\\nz q[2];\"",
       "editable": true,
       "layout": "IPY_MODEL_dd55d56845324b43a32881e7e6333e38",
       "qiskit_code_cell_index": -1
      }
     },
     "398571c7156041b5bdbebc3b04974e2f": {
      "model_module": "@jupyter-widgets/controls",
      "model_module_version": "1.5.0",
      "model_name": "GridBoxModel",
      "state": {
       "children": [
        "IPY_MODEL_fd9e1e3b36b04bf191eb9f11ed9fba6e"
       ],
       "layout": "IPY_MODEL_058c0ab1f10246ce985c0d6923f85ea6"
      }
     },
     "3b9ee684c0b444be9b23282f91770fcf": {
      "model_module": "@quantum/ibm-q-lab-widgets",
      "model_module_version": "^1.0.3",
      "model_name": "CircuitComposerModel",
      "state": {
       "_model_module_version": "^1.0.3",
       "_view_module_version": "^1.0.3",
       "circuit": "\"OPENQASM 2.0;\\ninclude \\\"qelib1.inc\\\";\\n\\nqreg q[3];\\ncreg c[3];\\n\\ncx q[1],q[0];\\ncx q[0],q[1];\\ncx q[1],q[0];\\ncx q[2],q[1];\\nrz(pi) q[2];\"",
       "editable": true,
       "layout": "IPY_MODEL_4261461ae4cc4835a4c7277f6ca7de3f",
       "qiskit_code_cell_index": 44
      }
     },
     "3c34729028824a69ab2e3998c1c73b89": {
      "model_module": "@jupyter-widgets/base",
      "model_module_version": "1.2.0",
      "model_name": "LayoutModel",
      "state": {}
     },
     "3e174dd3d8544ac88043f17a5ecc8500": {
      "model_module": "@jupyter-widgets/controls",
      "model_module_version": "1.5.0",
      "model_name": "HTMLModel",
      "state": {
       "layout": "IPY_MODEL_6f05f9fe4c734814ae7c24818dd8c8e4",
       "style": "IPY_MODEL_d00d6210a81d40af8b725a661b8be93b",
       "value": "<h5>Job ID</h5>"
      }
     },
     "3e431b46e6564178a35fee7efc7bd715": {
      "model_module": "@jupyter-widgets/base",
      "model_module_version": "1.2.0",
      "model_name": "LayoutModel",
      "state": {}
     },
     "40efb9a1549147f1ad1f826f3d7905f6": {
      "model_module": "@jupyter-widgets/base",
      "model_module_version": "1.2.0",
      "model_name": "LayoutModel",
      "state": {
       "width": "145px"
      }
     },
     "414a1068e8f64ea38065b2c17a5219bb": {
      "model_module": "@jupyter-widgets/base",
      "model_module_version": "1.2.0",
      "model_name": "LayoutModel",
      "state": {
       "grid_template_areas": "\n                                       \". . . . right \"\n                                        ",
       "grid_template_columns": "20% 20% 20% 20% 20%",
       "width": "100%"
      }
     },
     "4261461ae4cc4835a4c7277f6ca7de3f": {
      "model_module": "@jupyter-widgets/base",
      "model_module_version": "1.2.0",
      "model_name": "LayoutModel",
      "state": {}
     },
     "42dbbbccda4d499694c43f824f861d75": {
      "model_module": "@quantum/ibm-q-lab-widgets",
      "model_module_version": "^1.0.3",
      "model_name": "CircuitComposerModel",
      "state": {
       "_model_module_version": "^1.0.3",
       "_view_module_version": "^1.0.3",
       "circuit": "\"OPENQASM 2.0;\\ninclude \\\"qelib1.inc\\\";\\n\\nqreg q[3];\\ncreg c[3];\\n\\n\"",
       "editable": true,
       "layout": "IPY_MODEL_ed9909234c0b4720b1ef938213c784b5",
       "qiskit_code_cell_index": -1
      }
     },
     "42f3b30f55f64d82b1c6439cd4367cb8": {
      "model_module": "@jupyter-widgets/base",
      "model_module_version": "1.2.0",
      "model_name": "LayoutModel",
      "state": {}
     },
     "4400777ab0fe475b8bf004b489e25a8a": {
      "model_module": "@jupyter-widgets/base",
      "model_module_version": "1.2.0",
      "model_name": "LayoutModel",
      "state": {
       "margin": "0px 0px 0px 37px",
       "width": "600px"
      }
     },
     "44a79fd77b9e477684de365174366130": {
      "model_module": "@jupyter-widgets/base",
      "model_module_version": "1.2.0",
      "model_name": "LayoutModel",
      "state": {}
     },
     "467754524cdf4049b19bd6ea03eca647": {
      "model_module": "@jupyter-widgets/controls",
      "model_module_version": "1.5.0",
      "model_name": "DescriptionStyleModel",
      "state": {
       "description_width": ""
      }
     },
     "4700a02cfb7b4ac39225242433cd7711": {
      "model_module": "@jupyter-widgets/controls",
      "model_module_version": "1.5.0",
      "model_name": "HTMLModel",
      "state": {
       "layout": "IPY_MODEL_30ba74b5cbbe4c95b5c8afb17631bc86",
       "style": "IPY_MODEL_07fd227e7fcf4dd1860ffb8ebd34b4d2",
       "value": "<h5>Job ID</h5>"
      }
     },
     "4c5850b093234f35bf5afe995313fe91": {
      "model_module": "@jupyter-widgets/base",
      "model_module_version": "1.2.0",
      "model_name": "LayoutModel",
      "state": {}
     },
     "50091921f7684addb5afd14d51d0de14": {
      "model_module": "@jupyter-widgets/base",
      "model_module_version": "1.2.0",
      "model_name": "LayoutModel",
      "state": {}
     },
     "50b875d9ab2d4acaa815061f478fbf47": {
      "model_module": "@jupyter-widgets/base",
      "model_module_version": "1.2.0",
      "model_name": "LayoutModel",
      "state": {
       "grid_area": "right",
       "padding": "0px 0px 0px 0px",
       "width": "70px"
      }
     },
     "512ecf2552b446b09dd0d4623e53676f": {
      "model_module": "@jupyter-widgets/base",
      "model_module_version": "1.2.0",
      "model_name": "LayoutModel",
      "state": {}
     },
     "539edb2fa7d64f7d8fc82c8a6c9ca8f8": {
      "model_module": "@jupyter-widgets/controls",
      "model_module_version": "1.5.0",
      "model_name": "DescriptionStyleModel",
      "state": {
       "description_width": ""
      }
     },
     "548e972a51da40e59bfaef01d57be088": {
      "model_module": "@quantum/ibm-q-lab-widgets",
      "model_module_version": "^1.0.3",
      "model_name": "CircuitComposerModel",
      "state": {
       "_model_module_version": "^1.0.3",
       "_view_module_version": "^1.0.3",
       "circuit": "\"OPENQASM 2.0;\\ninclude \\\"qelib1.inc\\\";\\n\\nqreg q[3];\\ncreg c[3];\\n\\nswap q[0],q[1];\\nz q[2];\"",
       "editable": true,
       "layout": "IPY_MODEL_faab740a976848f08ac890a0120e954c",
       "qiskit_code_cell_index": -1
      }
     },
     "58df896f45dd4fc480852242017408a4": {
      "model_module": "@jupyter-widgets/controls",
      "model_module_version": "1.5.0",
      "model_name": "ButtonModel",
      "state": {
       "button_style": "primary",
       "description": "Clear",
       "layout": "IPY_MODEL_708f57cb5f17430db0df148fcad6d731",
       "style": "IPY_MODEL_b09656910fce43c2aa88f441e8ae49b1"
      }
     },
     "5e0164820c4e4fe19740e00a387699ca": {
      "model_module": "@quantum/ibm-q-lab-widgets",
      "model_module_version": "^1.0.3",
      "model_name": "CircuitComposerModel",
      "state": {
       "_model_module_version": "^1.0.3",
       "_view_module_version": "^1.0.3",
       "circuit": "\"OPENQASM 2.0;\\ninclude \\\"qelib1.inc\\\";\\n\\nqreg q2[3];\\ncreg c1[3];\\n\\ncx q2[1],q2[2];\\ncx q2[0],q2[2];\\nccx q2[0],q2[1],q2[2];\\nx q2[2];\\nmeasure q2[2] -> c1[0];\"",
       "editable": true,
       "layout": "IPY_MODEL_190ab006afe144f38c0f9abe87812c1c",
       "qiskit_code_cell_index": 47
      }
     },
     "5ea9466bb7114fb085a065ae44e374e6": {
      "model_module": "@jupyter-widgets/base",
      "model_module_version": "1.2.0",
      "model_name": "LayoutModel",
      "state": {}
     },
     "5fa5e5ac4e9f420dbd2c859eeed13c74": {
      "model_module": "@quantum/ibm-q-lab-widgets",
      "model_module_version": "^1.0.3",
      "model_name": "CircuitComposerModel",
      "state": {
       "_model_module_version": "^1.0.3",
       "_view_module_version": "^1.0.3",
       "circuit": "\"OPENQASM 2.0;\\ninclude \\\"qelib1.inc\\\";\\n\\nqreg q3[3];\\ncreg c3[3];\\n\\ncx q3[1],q3[2];\\ncx q3[0],q3[2];\\nccx q3[0],q3[1],q3[2];\\nx q3[2];\\nmeasure q3[2] -> c3[0];\"",
       "editable": true,
       "layout": "IPY_MODEL_0c2790117be5423b9b19274d3a3c386a",
       "qiskit_code_cell_index": 34
      }
     },
     "602fd472a90e4e0881c932ac3137a452": {
      "model_module": "@jupyter-widgets/base",
      "model_module_version": "1.2.0",
      "model_name": "LayoutModel",
      "state": {
       "width": "95px"
      }
     },
     "63250eaac69b49b3bb8906e8b51782f8": {
      "model_module": "@jupyter-widgets/controls",
      "model_module_version": "1.5.0",
      "model_name": "HBoxModel",
      "state": {
       "children": [
        "IPY_MODEL_711101cbd9724bfc9741364f1ee35bf6",
        "IPY_MODEL_9195aa3bf23a4f1db12c184ef545292c",
        "IPY_MODEL_1d98343600cd4098b9b788327fe207ff",
        "IPY_MODEL_692243ec871840548696b28ef1a71b0f",
        "IPY_MODEL_d49fb7f7f12c494aba1cead52c0259ff"
       ],
       "layout": "IPY_MODEL_338a750d86c34cd6842713614c3f386c"
      }
     },
     "63b9f8f7a3e04a5cb8bf7488f1d8cc75": {
      "model_module": "@quantum/ibm-q-lab-widgets",
      "model_module_version": "^1.0.3",
      "model_name": "CircuitComposerModel",
      "state": {
       "_model_module_version": "^1.0.3",
       "_view_module_version": "^1.0.3",
       "circuit": "\"OPENQASM 2.0;\\ninclude \\\"qelib1.inc\\\";\\n\\nqreg q[3];\\ncreg c[3];\\n\\n\"",
       "editable": true,
       "layout": "IPY_MODEL_512ecf2552b446b09dd0d4623e53676f",
       "qiskit_code_cell_index": -1
      }
     },
     "692243ec871840548696b28ef1a71b0f": {
      "model_module": "@jupyter-widgets/controls",
      "model_module_version": "1.5.0",
      "model_name": "HTMLModel",
      "state": {
       "layout": "IPY_MODEL_6e4aa442580040c4a11667fa19022af5",
       "style": "IPY_MODEL_467754524cdf4049b19bd6ea03eca647",
       "value": "<h5>Queue</h5>"
      }
     },
     "6b4e274670fe40068558a248feeffa6a": {
      "model_module": "@jupyter-widgets/base",
      "model_module_version": "1.2.0",
      "model_name": "LayoutModel",
      "state": {}
     },
     "6ba14da99fbb492d8c19ed1663b0c316": {
      "model_module": "@jupyter-widgets/controls",
      "model_module_version": "1.5.0",
      "model_name": "DescriptionStyleModel",
      "state": {
       "description_width": ""
      }
     },
     "6deb558b337f49df897c73c33b6260bf": {
      "model_module": "@quantum/ibm-q-lab-widgets",
      "model_module_version": "^1.0.3",
      "model_name": "CircuitComposerModel",
      "state": {
       "_model_module_version": "^1.0.3",
       "_view_module_version": "^1.0.3",
       "circuit": "\"OPENQASM 2.0;\\ninclude \\\"qelib1.inc\\\";\\n\\nqreg q3[3];\\ncreg c3[3];\\n\\ncx q3[1],q3[2];\\ncx q3[0],q3[2];\\nccx q3[0],q3[1],q3[2];\\nmeasure q3[2] -> c3[0];\"",
       "editable": true,
       "layout": "IPY_MODEL_6b4e274670fe40068558a248feeffa6a",
       "qiskit_code_cell_index": -1
      }
     },
     "6e4aa442580040c4a11667fa19022af5": {
      "model_module": "@jupyter-widgets/base",
      "model_module_version": "1.2.0",
      "model_name": "LayoutModel",
      "state": {
       "width": "70px"
      }
     },
     "6f05f9fe4c734814ae7c24818dd8c8e4": {
      "model_module": "@jupyter-widgets/base",
      "model_module_version": "1.2.0",
      "model_name": "LayoutModel",
      "state": {
       "width": "190px"
      }
     },
     "6fffde7c383f4bbeb8ebb3faea17920e": {
      "model_module": "@jupyter-widgets/base",
      "model_module_version": "1.2.0",
      "model_name": "LayoutModel",
      "state": {
       "width": "145px"
      }
     },
     "708f57cb5f17430db0df148fcad6d731": {
      "model_module": "@jupyter-widgets/base",
      "model_module_version": "1.2.0",
      "model_name": "LayoutModel",
      "state": {
       "grid_area": "right",
       "padding": "0px 0px 0px 0px",
       "width": "70px"
      }
     },
     "711101cbd9724bfc9741364f1ee35bf6": {
      "model_module": "@jupyter-widgets/controls",
      "model_module_version": "1.5.0",
      "model_name": "HTMLModel",
      "state": {
       "layout": "IPY_MODEL_77119a792e294ddbbee08fcc30379c05",
       "style": "IPY_MODEL_6ba14da99fbb492d8c19ed1663b0c316",
       "value": "<h5>Job ID</h5>"
      }
     },
     "71b76fdeebd543f2a86f657a6e7a31c9": {
      "model_module": "@jupyter-widgets/controls",
      "model_module_version": "1.5.0",
      "model_name": "DescriptionStyleModel",
      "state": {
       "description_width": ""
      }
     },
     "74519cce23de44ca8ee162293804ce2c": {
      "model_module": "@jupyter-widgets/base",
      "model_module_version": "1.2.0",
      "model_name": "LayoutModel",
      "state": {}
     },
     "77119a792e294ddbbee08fcc30379c05": {
      "model_module": "@jupyter-widgets/base",
      "model_module_version": "1.2.0",
      "model_name": "LayoutModel",
      "state": {
       "width": "190px"
      }
     },
     "7da40d40aaf44de5bee9dde02e9d3ae5": {
      "model_module": "@jupyter-widgets/controls",
      "model_module_version": "1.5.0",
      "model_name": "DescriptionStyleModel",
      "state": {
       "description_width": ""
      }
     },
     "7fb7467660ba4818b224a760bf18d2d4": {
      "model_module": "@jupyter-widgets/base",
      "model_module_version": "1.2.0",
      "model_name": "LayoutModel",
      "state": {
       "width": "145px"
      }
     },
     "80ad5a6c1fc94be9b43465cfd51d345a": {
      "model_module": "@jupyter-widgets/controls",
      "model_module_version": "1.5.0",
      "model_name": "DescriptionStyleModel",
      "state": {
       "description_width": ""
      }
     },
     "87e5b80d6e534ef79b8c1311e137fd98": {
      "model_module": "@jupyter-widgets/base",
      "model_module_version": "1.2.0",
      "model_name": "LayoutModel",
      "state": {}
     },
     "8b3a8e1e875840d1b5f26a70860cfb00": {
      "model_module": "@jupyter-widgets/base",
      "model_module_version": "1.2.0",
      "model_name": "LayoutModel",
      "state": {
       "margin": "0px 0px 0px 37px",
       "width": "600px"
      }
     },
     "8b98c82060564483b39a625bdccd5376": {
      "model_module": "@jupyter-widgets/base",
      "model_module_version": "1.2.0",
      "model_name": "LayoutModel",
      "state": {}
     },
     "8c70f0a9bbdf4282abc5ebed499d2b3d": {
      "model_module": "@jupyter-widgets/base",
      "model_module_version": "1.2.0",
      "model_name": "LayoutModel",
      "state": {}
     },
     "8c8ebb9ab7814f49b7f124610764c2a1": {
      "model_module": "@jupyter-widgets/controls",
      "model_module_version": "1.5.0",
      "model_name": "DescriptionStyleModel",
      "state": {
       "description_width": ""
      }
     },
     "8fd2ff76c6d6443f893204196915d077": {
      "model_module": "@quantum/ibm-q-lab-widgets",
      "model_module_version": "^1.0.3",
      "model_name": "CircuitComposerModel",
      "state": {
       "_model_module_version": "^1.0.3",
       "_view_module_version": "^1.0.3",
       "circuit": "\"OPENQASM 2.0;\\ninclude \\\"qelib1.inc\\\";\\n\\nqreg q1[3];\\ncreg c1[3];\\n\\ncx q1[1],q1[2];\\ncx q1[0],q1[2];\\nccx q1[0],q1[1],q1[2];\\nmeasure q1[2] -> c1[0];\\nx q1[2];\\nmeasure q1[2] -> c1[0];\"",
       "editable": true,
       "layout": "IPY_MODEL_098146a76288479d8f34020f737f6605",
       "qiskit_code_cell_index": -1
      }
     },
     "90cd23bb0ffe4124af34bee073d37774": {
      "model_module": "@jupyter-widgets/controls",
      "model_module_version": "1.5.0",
      "model_name": "DescriptionStyleModel",
      "state": {
       "description_width": ""
      }
     },
     "9195aa3bf23a4f1db12c184ef545292c": {
      "model_module": "@jupyter-widgets/controls",
      "model_module_version": "1.5.0",
      "model_name": "HTMLModel",
      "state": {
       "layout": "IPY_MODEL_6fffde7c383f4bbeb8ebb3faea17920e",
       "style": "IPY_MODEL_80ad5a6c1fc94be9b43465cfd51d345a",
       "value": "<h5>Backend</h5>"
      }
     },
     "93bcccc0815f47f880a809b94c71b54b": {
      "model_module": "@quantum/ibm-q-lab-widgets",
      "model_module_version": "^1.0.3",
      "model_name": "CircuitComposerModel",
      "state": {
       "_model_module_version": "^1.0.3",
       "_view_module_version": "^1.0.3",
       "circuit": "\"OPENQASM 2.0;\\ninclude \\\"qelib1.inc\\\";\\n\\nqreg q[3];\\ncreg c[3];\\n\\nswap q[0],q[1];\\ncx q[1],q[2];\\nz q[2];\"",
       "editable": true,
       "layout": "IPY_MODEL_a59c703276e04f1caaf8770a25e129c9",
       "qiskit_code_cell_index": 41
      }
     },
     "986764d62f5b4e28b358ca5b8203b672": {
      "model_module": "@quantum/ibm-q-lab-widgets",
      "model_module_version": "^1.0.3",
      "model_name": "CircuitComposerModel",
      "state": {
       "_model_module_version": "^1.0.3",
       "_view_module_version": "^1.0.3",
       "circuit": "\"OPENQASM 2.0;\\ninclude \\\"qelib1.inc\\\";\\n\\nqreg q3[1];\\ncreg c2[1];\\n\\nrz(pi/2) q3[0];\\nsx q3[0];\\nrz(pi/2) q3[0];\"",
       "editable": true,
       "layout": "IPY_MODEL_8c70f0a9bbdf4282abc5ebed499d2b3d",
       "qiskit_code_cell_index": -1
      }
     },
     "9c807f2134484e25b0b289d4aafb00c0": {
      "model_module": "@jupyter-widgets/controls",
      "model_module_version": "1.5.0",
      "model_name": "GridBoxModel",
      "state": {
       "children": [
        "IPY_MODEL_26ca92d21d6149828724dd6d4b588389"
       ],
       "layout": "IPY_MODEL_d769842e39214aae9fed90fe36b450b7"
      }
     },
     "a05c2cdb2ee446548fa484374b05f26d": {
      "model_module": "@jupyter-widgets/controls",
      "model_module_version": "1.5.0",
      "model_name": "HBoxModel",
      "state": {
       "children": [
        "IPY_MODEL_3e174dd3d8544ac88043f17a5ecc8500",
        "IPY_MODEL_c562f2f16b5c438fa3272c4a145e7d01",
        "IPY_MODEL_a3c65616f3d94913b0115577bf2f6ac4",
        "IPY_MODEL_115e321a54064c15af84960de9afcd39",
        "IPY_MODEL_d85f26eaecff4d26964747f7489a1573"
       ],
       "layout": "IPY_MODEL_4400777ab0fe475b8bf004b489e25a8a"
      }
     },
     "a3c65616f3d94913b0115577bf2f6ac4": {
      "model_module": "@jupyter-widgets/controls",
      "model_module_version": "1.5.0",
      "model_name": "HTMLModel",
      "state": {
       "layout": "IPY_MODEL_602fd472a90e4e0881c932ac3137a452",
       "style": "IPY_MODEL_fc6e67828b47492caa52c2d91c372fe7",
       "value": "<h5>Status</h5>"
      }
     },
     "a59c44990a98430687a0f4ea958a0fd6": {
      "model_module": "@quantum/ibm-q-lab-widgets",
      "model_module_version": "^1.0.3",
      "model_name": "CircuitComposerModel",
      "state": {
       "_model_module_version": "^1.0.3",
       "_view_module_version": "^1.0.3",
       "circuit": "\"OPENQASM 2.0;\\ninclude \\\"qelib1.inc\\\";\\n\\nqreg q[3];\\ncreg c[3];\\n\\n\"",
       "editable": true,
       "layout": "IPY_MODEL_ede3b422e153430b9b0b630a174ce576",
       "qiskit_code_cell_index": -1
      }
     },
     "a59c703276e04f1caaf8770a25e129c9": {
      "model_module": "@jupyter-widgets/base",
      "model_module_version": "1.2.0",
      "model_name": "LayoutModel",
      "state": {}
     },
     "a6bb9f421d4a4d178256237cd4c276bd": {
      "model_module": "@quantum/ibm-q-lab-widgets",
      "model_module_version": "^1.0.3",
      "model_name": "CircuitComposerModel",
      "state": {
       "_model_module_version": "^1.0.3",
       "_view_module_version": "^1.0.3",
       "circuit": "\"OPENQASM 2.0;\\ninclude \\\"qelib1.inc\\\";\\n\\nqreg q2[3];\\ncreg c1[3];\\n\\ncx q2[1],q2[2];\\ncx q2[0],q2[2];\\nccx q2[0],q2[1],q2[2];\\nmeasure q2[2] -> c1[0];\"",
       "editable": true,
       "layout": "IPY_MODEL_37b7d129f94342e1abcce40399056637",
       "qiskit_code_cell_index": -1
      }
     },
     "a81e101e4e1d4190bd0ed8ca09dd418c": {
      "model_module": "@quantum/ibm-q-lab-widgets",
      "model_module_version": "^1.0.3",
      "model_name": "CircuitComposerModel",
      "state": {
       "_model_module_version": "^1.0.3",
       "_view_module_version": "^1.0.3",
       "circuit": "\"OPENQASM 2.0;\\ninclude \\\"qelib1.inc\\\";\\n\\nqreg q[3];\\ncreg c[3];\\n\\n\"",
       "editable": true,
       "layout": "IPY_MODEL_33e5c437cd6949e4b1fc9b6de04f30af",
       "qiskit_code_cell_index": 44
      }
     },
     "a84b961d485f4979be26e7f5f4734196": {
      "model_module": "@jupyter-widgets/controls",
      "model_module_version": "1.5.0",
      "model_name": "HTMLModel",
      "state": {
       "layout": "IPY_MODEL_275e96c24bb045cdaeb001306313a482",
       "style": "IPY_MODEL_f656665ee2a843408b8bff659ada0675",
       "value": "<p style='font-family: IBM Plex Sans, Arial, Helvetica, sans-serif; font-size: 20px; font-weight: medium;'>Circuit Properties</p>"
      }
     },
     "b08b187f73454353a24f8751a6892126": {
      "model_module": "@jupyter-widgets/controls",
      "model_module_version": "1.5.0",
      "model_name": "ButtonStyleModel",
      "state": {}
     },
     "b09656910fce43c2aa88f441e8ae49b1": {
      "model_module": "@jupyter-widgets/controls",
      "model_module_version": "1.5.0",
      "model_name": "ButtonStyleModel",
      "state": {}
     },
     "b1db84f3cc4a4066a8df14637419630c": {
      "model_module": "@quantum/ibm-q-lab-widgets",
      "model_module_version": "^1.0.3",
      "model_name": "CircuitComposerModel",
      "state": {
       "_model_module_version": "^1.0.3",
       "_view_module_version": "^1.0.3",
       "circuit": "\"OPENQASM 2.0;\\ninclude \\\"qelib1.inc\\\";\\n\\nqreg q[3];\\ncreg c[3];\\n\\nswap q[0],q[1];\\nz q[2];\"",
       "editable": true,
       "layout": "IPY_MODEL_50091921f7684addb5afd14d51d0de14",
       "qiskit_code_cell_index": -1
      }
     },
     "b445f0e465864ce282896f13ec86a2b1": {
      "model_module": "@jupyter-widgets/controls",
      "model_module_version": "1.5.0",
      "model_name": "HTMLModel",
      "state": {
       "layout": "IPY_MODEL_c2775f83dbed4958a11efd55ffe7046a",
       "style": "IPY_MODEL_539edb2fa7d64f7d8fc82c8a6c9ca8f8",
       "value": "<h5>Queue</h5>"
      }
     },
     "b5220d3a2d054a719cbff07cd8281971": {
      "model_module": "@quantum/ibm-q-lab-widgets",
      "model_module_version": "^1.0.3",
      "model_name": "CircuitComposerModel",
      "state": {
       "_model_module_version": "^1.0.3",
       "_view_module_version": "^1.0.3",
       "circuit": "\"OPENQASM 2.0;\\ninclude \\\"qelib1.inc\\\";\\n\\nqreg q[1];\\ncreg c[1];\\n\\nrz(pi/2) q[0];\\nsx q[0];\\nrz(pi/2) q[0];\"",
       "editable": true,
       "layout": "IPY_MODEL_44a79fd77b9e477684de365174366130",
       "qiskit_code_cell_index": -1
      }
     },
     "b645d55afc6649dd807e38ab30da764b": {
      "model_module": "@jupyter-widgets/base",
      "model_module_version": "1.2.0",
      "model_name": "LayoutModel",
      "state": {}
     },
     "b92aa6be60ee4e899137ad65127f76fd": {
      "model_module": "@jupyter-widgets/controls",
      "model_module_version": "1.5.0",
      "model_name": "DescriptionStyleModel",
      "state": {
       "description_width": ""
      }
     },
     "ba9ec7881d914d3aa50939e451533e0c": {
      "model_module": "@quantum/ibm-q-lab-widgets",
      "model_module_version": "^1.0.3",
      "model_name": "CircuitComposerModel",
      "state": {
       "_model_module_version": "^1.0.3",
       "_view_module_version": "^1.0.3",
       "circuit": "\"OPENQASM 2.0;\\ninclude \\\"qelib1.inc\\\";\\n\\nqreg q2[3];\\ncreg c1[3];\\n\\ncx q2[1],q2[2];\\ncx q2[0],q2[2];\\nccx q2[0],q2[1],q2[2];\"",
       "editable": true,
       "layout": "IPY_MODEL_091123743b774ed39186e57d7a6db20a",
       "qiskit_code_cell_index": -1
      }
     },
     "baf8a86c6f7c4fd98bf0e0f0ea0aa3cb": {
      "model_module": "@jupyter-widgets/base",
      "model_module_version": "1.2.0",
      "model_name": "LayoutModel",
      "state": {}
     },
     "bb1a35f52d3c480f8a893f487356cefd": {
      "model_module": "@jupyter-widgets/controls",
      "model_module_version": "1.5.0",
      "model_name": "ButtonStyleModel",
      "state": {}
     },
     "be119dbd25db4e1bae2fc6935a3478a3": {
      "model_module": "@jupyter-widgets/base",
      "model_module_version": "1.2.0",
      "model_name": "LayoutModel",
      "state": {}
     },
     "be299f6812f34f87a5d2e5aa345c86d4": {
      "model_module": "@jupyter-widgets/controls",
      "model_module_version": "1.5.0",
      "model_name": "DescriptionStyleModel",
      "state": {
       "description_width": ""
      }
     },
     "bef9ce11be074a00a12303925868a1fa": {
      "model_module": "@jupyter-widgets/base",
      "model_module_version": "1.2.0",
      "model_name": "LayoutModel",
      "state": {}
     },
     "c0379b36527e43a193afc697783d883c": {
      "model_module": "@quantum/ibm-q-lab-widgets",
      "model_module_version": "^1.0.3",
      "model_name": "CircuitComposerModel",
      "state": {
       "_model_module_version": "^1.0.3",
       "_view_module_version": "^1.0.3",
       "circuit": "\"OPENQASM 2.0;\\ninclude \\\"qelib1.inc\\\";\\n\\nqreg q0[3];\\ncreg c0[3];\\n\\ncx q0[1],q0[2];\\ncx q0[0],q0[2];\\nccx q0[0],q0[1],q0[2];\\nx q0[2];\\nmeasure q0[2] -> c0[0];\"",
       "editable": true,
       "layout": "IPY_MODEL_87e5b80d6e534ef79b8c1311e137fd98",
       "qiskit_code_cell_index": -1
      }
     },
     "c2775f83dbed4958a11efd55ffe7046a": {
      "model_module": "@jupyter-widgets/base",
      "model_module_version": "1.2.0",
      "model_name": "LayoutModel",
      "state": {
       "width": "70px"
      }
     },
     "c562f2f16b5c438fa3272c4a145e7d01": {
      "model_module": "@jupyter-widgets/controls",
      "model_module_version": "1.5.0",
      "model_name": "HTMLModel",
      "state": {
       "layout": "IPY_MODEL_40efb9a1549147f1ad1f826f3d7905f6",
       "style": "IPY_MODEL_b92aa6be60ee4e899137ad65127f76fd",
       "value": "<h5>Backend</h5>"
      }
     },
     "c6d3436b35f34d3e9949f934ac549e3f": {
      "model_module": "@jupyter-widgets/base",
      "model_module_version": "1.2.0",
      "model_name": "LayoutModel",
      "state": {
       "grid_area": "right",
       "padding": "0px 0px 0px 0px",
       "width": "70px"
      }
     },
     "c707cc74eaa540be9be0d25c7d82210e": {
      "model_module": "@quantum/ibm-q-lab-widgets",
      "model_module_version": "^1.0.3",
      "model_name": "CircuitComposerModel",
      "state": {
       "_model_module_version": "^1.0.3",
       "_view_module_version": "^1.0.3",
       "circuit": "\"OPENQASM 2.0;\\ninclude \\\"qelib1.inc\\\";\\n\\nqreg q1[3];\\ncreg c1[3];\\n\\ncx q1[1],q1[2];\\ncx q1[0],q1[2];\\nccx q1[0],q1[1],q1[2];\\nx q1[2];\\nmeasure q1[2] -> c1[2];\"",
       "editable": true,
       "layout": "IPY_MODEL_42f3b30f55f64d82b1c6439cd4367cb8",
       "qiskit_code_cell_index": -1
      }
     },
     "cb2e28b8ce1a470fb9844e83bb73ac68": {
      "model_module": "@jupyter-widgets/base",
      "model_module_version": "1.2.0",
      "model_name": "LayoutModel",
      "state": {}
     },
     "d00d6210a81d40af8b725a661b8be93b": {
      "model_module": "@jupyter-widgets/controls",
      "model_module_version": "1.5.0",
      "model_name": "DescriptionStyleModel",
      "state": {
       "description_width": ""
      }
     },
     "d49fb7f7f12c494aba1cead52c0259ff": {
      "model_module": "@jupyter-widgets/controls",
      "model_module_version": "1.5.0",
      "model_name": "HTMLModel",
      "state": {
       "layout": "IPY_MODEL_1bb0bd14b17c43fdb984eb3c70c2cef6",
       "style": "IPY_MODEL_173a109f9c714f3f9bbbf01294cc4a4b",
       "value": "<h5>Message</h5>"
      }
     },
     "d769842e39214aae9fed90fe36b450b7": {
      "model_module": "@jupyter-widgets/base",
      "model_module_version": "1.2.0",
      "model_name": "LayoutModel",
      "state": {
       "grid_template_areas": "\n                                       \". . . . right \"\n                                        ",
       "grid_template_columns": "20% 20% 20% 20% 20%",
       "width": "100%"
      }
     },
     "d85f26eaecff4d26964747f7489a1573": {
      "model_module": "@jupyter-widgets/controls",
      "model_module_version": "1.5.0",
      "model_name": "HTMLModel",
      "state": {
       "layout": "IPY_MODEL_bef9ce11be074a00a12303925868a1fa",
       "style": "IPY_MODEL_e23c8382adf6402bbe6ed5b67d9d6d6e",
       "value": "<h5>Message</h5>"
      }
     },
     "d9f4ed545e1e4d67a63d38461a778ecf": {
      "model_module": "@jupyter-widgets/base",
      "model_module_version": "1.2.0",
      "model_name": "LayoutModel",
      "state": {}
     },
     "dbb0f858e4f447f38357cbb52d1d1fd3": {
      "model_module": "@quantum/ibm-q-lab-widgets",
      "model_module_version": "^1.0.3",
      "model_name": "CircuitComposerModel",
      "state": {
       "_model_module_version": "^1.0.3",
       "_view_module_version": "^1.0.3",
       "circuit": "\"OPENQASM 2.0;\\ninclude \\\"qelib1.inc\\\";\\n\\nqreg q[3];\\ncreg c[3];\\n\\n\"",
       "editable": true,
       "layout": "IPY_MODEL_cb2e28b8ce1a470fb9844e83bb73ac68",
       "qiskit_code_cell_index": -1
      }
     },
     "dd55d56845324b43a32881e7e6333e38": {
      "model_module": "@jupyter-widgets/base",
      "model_module_version": "1.2.0",
      "model_name": "LayoutModel",
      "state": {}
     },
     "e23c8382adf6402bbe6ed5b67d9d6d6e": {
      "model_module": "@jupyter-widgets/controls",
      "model_module_version": "1.5.0",
      "model_name": "DescriptionStyleModel",
      "state": {
       "description_width": ""
      }
     },
     "e61dea173c9a4870a47e6a93f3be63b9": {
      "model_module": "@jupyter-widgets/base",
      "model_module_version": "1.2.0",
      "model_name": "LayoutModel",
      "state": {}
     },
     "e7c83160618343cdaa1e31c63f8b6d31": {
      "model_module": "@quantum/ibm-q-lab-widgets",
      "model_module_version": "^1.0.3",
      "model_name": "CircuitComposerModel",
      "state": {
       "_model_module_version": "^1.0.3",
       "_view_module_version": "^1.0.3",
       "circuit": "\"OPENQASM 2.0;\\ninclude \\\"qelib1.inc\\\";\\n\\nqreg q[3];\\ncreg c[3];\\n\\ncx q[1],q[0];\\ncx q[0],q[1];\\ncx q[1],q[0];\\nrz(pi) q[2];\"",
       "editable": true,
       "layout": "IPY_MODEL_f4e84c75810e4d50ab8af126a25c72b6",
       "qiskit_code_cell_index": -1
      }
     },
     "e7cc84e132ee485d935102b3c198d255": {
      "model_module": "@jupyter-widgets/base",
      "model_module_version": "1.2.0",
      "model_name": "LayoutModel",
      "state": {
       "width": "95px"
      }
     },
     "e99a25578a3a413ab0b267672b43f72b": {
      "model_module": "@jupyter-widgets/base",
      "model_module_version": "1.2.0",
      "model_name": "LayoutModel",
      "state": {}
     },
     "ebe184443e454b59be0306a688d93a1c": {
      "model_module": "@quantum/ibm-q-lab-widgets",
      "model_module_version": "^1.0.3",
      "model_name": "CircuitComposerModel",
      "state": {
       "_model_module_version": "^1.0.3",
       "_view_module_version": "^1.0.3",
       "circuit": "\"OPENQASM 2.0;\\ninclude \\\"qelib1.inc\\\";\\n\\nqreg q19[3];\\ncreg c0[3];\\n\\ncx q19[1],q19[2];\\ncx q19[0],q19[2];\\nccx q19[0],q19[1],q19[2];\"",
       "editable": true,
       "layout": "IPY_MODEL_d9f4ed545e1e4d67a63d38461a778ecf",
       "qiskit_code_cell_index": -1
      }
     },
     "ec3d6cec43f64d109cce41e91a207abf": {
      "model_module": "@jupyter-widgets/base",
      "model_module_version": "1.2.0",
      "model_name": "LayoutModel",
      "state": {
       "margin": "0px 0px 10px 0px"
      }
     },
     "ece0b69da4ef42e89e2399b90ef89a51": {
      "model_module": "@jupyter-widgets/base",
      "model_module_version": "1.2.0",
      "model_name": "LayoutModel",
      "state": {}
     },
     "ed9909234c0b4720b1ef938213c784b5": {
      "model_module": "@jupyter-widgets/base",
      "model_module_version": "1.2.0",
      "model_name": "LayoutModel",
      "state": {}
     },
     "ede3b422e153430b9b0b630a174ce576": {
      "model_module": "@jupyter-widgets/base",
      "model_module_version": "1.2.0",
      "model_name": "LayoutModel",
      "state": {}
     },
     "ee01cfa5318f49bbb51da895d9cbfe98": {
      "model_module": "@jupyter-widgets/base",
      "model_module_version": "1.2.0",
      "model_name": "LayoutModel",
      "state": {
       "width": "95px"
      }
     },
     "f4e84c75810e4d50ab8af126a25c72b6": {
      "model_module": "@jupyter-widgets/base",
      "model_module_version": "1.2.0",
      "model_name": "LayoutModel",
      "state": {}
     },
     "f64858edb52d4e3a9934dcb4eaa0a453": {
      "model_module": "@jupyter-widgets/base",
      "model_module_version": "1.2.0",
      "model_name": "LayoutModel",
      "state": {
       "margin": "0px 0px 10px 0px"
      }
     },
     "f656665ee2a843408b8bff659ada0675": {
      "model_module": "@jupyter-widgets/controls",
      "model_module_version": "1.5.0",
      "model_name": "DescriptionStyleModel",
      "state": {
       "description_width": ""
      }
     },
     "f656da7b0e564e1eb512c2058b0bdc65": {
      "model_module": "@jupyter-widgets/controls",
      "model_module_version": "1.5.0",
      "model_name": "DescriptionStyleModel",
      "state": {
       "description_width": ""
      }
     },
     "f81b69eec4564499b601fd0884079b3d": {
      "model_module": "@jupyter-widgets/controls",
      "model_module_version": "1.5.0",
      "model_name": "GridBoxModel",
      "state": {
       "children": [
        "IPY_MODEL_58df896f45dd4fc480852242017408a4"
       ],
       "layout": "IPY_MODEL_414a1068e8f64ea38065b2c17a5219bb"
      }
     },
     "faab740a976848f08ac890a0120e954c": {
      "model_module": "@jupyter-widgets/base",
      "model_module_version": "1.2.0",
      "model_name": "LayoutModel",
      "state": {}
     },
     "fb4bb909935b4f20b1a5d18b2851389e": {
      "model_module": "@jupyter-widgets/controls",
      "model_module_version": "1.5.0",
      "model_name": "HTMLModel",
      "state": {
       "layout": "IPY_MODEL_f64858edb52d4e3a9934dcb4eaa0a453",
       "style": "IPY_MODEL_be299f6812f34f87a5d2e5aa345c86d4",
       "value": "<p style='font-family: IBM Plex Sans, Arial, Helvetica, sans-serif; font-size: 20px; font-weight: medium;'>Circuit Properties</p>"
      }
     },
     "fc6e67828b47492caa52c2d91c372fe7": {
      "model_module": "@jupyter-widgets/controls",
      "model_module_version": "1.5.0",
      "model_name": "DescriptionStyleModel",
      "state": {
       "description_width": ""
      }
     },
     "fd9e1e3b36b04bf191eb9f11ed9fba6e": {
      "model_module": "@jupyter-widgets/controls",
      "model_module_version": "1.5.0",
      "model_name": "ButtonModel",
      "state": {
       "button_style": "primary",
       "description": "Clear",
       "layout": "IPY_MODEL_c6d3436b35f34d3e9949f934ac549e3f",
       "style": "IPY_MODEL_bb1a35f52d3c480f8a893f487356cefd"
      }
     }
    },
    "version_major": 2,
    "version_minor": 0
   }
  }
 },
 "nbformat": 4,
 "nbformat_minor": 5
}
